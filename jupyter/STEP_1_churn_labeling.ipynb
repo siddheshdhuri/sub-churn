{
 "cells": [
  {
   "cell_type": "markdown",
   "metadata": {},
   "source": [
    "# CHURN LABEL\n",
    "\n",
    "Use this juppyter notebook to spearate the data into Model Development data (The data subset that you will use to train the model) and Model target ( the subset of data that you will apply the model to make predictions)\n",
    "\n",
    "We will use the model dev data to engineer a churn label based on the Bookings value. We do not create a churn label on the target set as we apply the model on the target dataset"
   ]
  },
  {
   "cell_type": "code",
   "execution_count": 1,
   "metadata": {},
   "outputs": [],
   "source": [
    "import os\n",
    "import pandas as pd\n",
    "import numpy as np\n",
    "import pickle\n",
    "import sys\n",
    "from pandas import HDFStore,DataFrame\n",
    "from datetime import date, datetime\n",
    "from sklearn.model_selection import train_test_split\n",
    "from sklearn.metrics import accuracy_score\n",
    "\n",
    "import matplotlib.pyplot as plt\n",
    "#from matplotlib_venn import venn2\n",
    "import yaml\n",
    "\n",
    "cfg = None\n",
    "    #' load config.yaml file in the root dir \n",
    "with open(\"../config.yaml\", 'r') as ymlfile:\n",
    "    cfg = yaml.load(ymlfile, Loader=yaml.FullLoader)\n",
    "    \n",
    "# Use 3 decimal places in output display\n",
    "pd.set_option(\"display.precision\", 3)\n",
    "\n",
    "# Don't wrap repr(DataFrame) across additional lines\n",
    "pd.set_option(\"display.expand_frame_repr\", False)\n",
    "\n",
    "# Set max rows displayed in output to 25\n",
    "pd.set_option(\"display.max_rows\", 25)\n",
    "\n",
    "pd.set_option('display.float_format', lambda x: '%.2f' % x)\n",
    "\n",
    "pd.options.display.float_format = '${:,.0f}'.format\n",
    "\n",
    "product_level = 'Product Level 2'\n",
    "\n",
    "colors = ['#1F77B4', '#FF7F0E']\n",
    "\n",
    "NA_VALUES_LIST = ['Unknown','nan', 'N.A', 'N.A.', 'NaN', 'Nan', '00-00-00', '0-00-00']\n",
    "\n",
    "path_to_hdf_datastore = '../'+cfg['path_to_hdf_datastore']\n"
   ]
  },
  {
   "cell_type": "markdown",
   "metadata": {},
   "source": [
    "### We define some common function that we will use in our data analysis and engineering."
   ]
  },
  {
   "cell_type": "code",
   "execution_count": 2,
   "metadata": {},
   "outputs": [],
   "source": [
    "## Define Required functions\n",
    "\n",
    "def get_rfm_features_from_contracts(dataframe, group_cols, label=None):    \n",
    "\n",
    "    dataframe = dataframe.groupby(\n",
    "        group_cols\n",
    "    ).agg(revenue=(\"Bookings - Final Net Price - Agent Discount Amount(Rep)\", sum),\n",
    "        num_contracts=('Agreement Number', pd.Series.nunique),\n",
    "        num_parents = ('Parent Agreement Number', pd.Series.nunique),\n",
    "        last_agreement = ('Agreement Start Date', max),\n",
    "        first_agreement = ('Agreement Start Date', min),\n",
    "        num_cancellations = ('CHURNED', count)\n",
    "    ).sort_values('revenue', ascending=False)\n",
    "\n",
    "    dataframe['last_agreement'] = pd.to_datetime(dataframe['last_agreement'], format='%Y-%m-%d')\n",
    "    dataframe['first_agreement'] = pd.to_datetime(dataframe['first_agreement'], format='%Y-%m-%d')\n",
    "    \n",
    "    dataframe['days_since_last_agreement'] = dataframe['last_agreement'].apply(\n",
    "        lambda x: (datetime.today() - x).days\n",
    "        )\n",
    "    dataframe['days_since_first_agreement'] = dataframe['first_agreement'].apply(\n",
    "        lambda x: (datetime.today() - x).days\n",
    "        )\n",
    "    dataframe['length_of_relationship'] = dataframe['days_since_first_agreement'] - dataframe['days_since_last_agreement'] \n",
    "    dataframe = dataframe.drop(['last_agreement', 'first_agreement'], axis=1)\n",
    "    \n",
    "    if label is not None:\n",
    "        dataframe['label'] = label\n",
    "    \n",
    "    return dataframe\n",
    "\n",
    "\n",
    "\n",
    "def append_df_to_excel(filename, df, sheet_name='Sheet1', startrow=None,\n",
    "                       truncate_sheet=False, \n",
    "                       **to_excel_kwargs):\n",
    "    \"\"\"\n",
    "    Append a DataFrame [df] to existing Excel file [filename]\n",
    "    \n",
    "    \"\"\"\n",
    "    from openpyxl import load_workbook\n",
    "\n",
    "    import pandas as pd\n",
    "\n",
    "    # ignore [engine] parameter if it was passed\n",
    "    if 'engine' in to_excel_kwargs:\n",
    "        to_excel_kwargs.pop('engine')\n",
    "\n",
    "    writer = pd.ExcelWriter(filename, engine='openpyxl')\n",
    "\n",
    "    # Python 2.x: define [FileNotFoundError] exception if it doesn't exist \n",
    "    try:\n",
    "        FileNotFoundError\n",
    "    except NameError:\n",
    "        FileNotFoundError = IOError\n",
    "\n",
    "\n",
    "    try:\n",
    "        # try to open an existing workbook\n",
    "        writer.book = load_workbook(filename)\n",
    "\n",
    "        # get the last row in the existing Excel sheet\n",
    "        # if it was not specified explicitly\n",
    "        if startrow is None and sheet_name in writer.book.sheetnames:\n",
    "            startrow = writer.book[sheet_name].max_row\n",
    "\n",
    "        # truncate sheet\n",
    "        if truncate_sheet and sheet_name in writer.book.sheetnames:\n",
    "            # index of [sheet_name] sheet\n",
    "            idx = writer.book.sheetnames.index(sheet_name)\n",
    "            # remove [sheet_name]\n",
    "            writer.book.remove(writer.book.worksheets[idx])\n",
    "            # create an empty sheet [sheet_name] using old index\n",
    "            writer.book.create_sheet(sheet_name, idx)\n",
    "\n",
    "        # copy existing sheets\n",
    "        writer.sheets = {ws.title:ws for ws in writer.book.worksheets}\n",
    "    except FileNotFoundError:\n",
    "        # file does not exist yet, we will create it\n",
    "        pass\n",
    "\n",
    "    if startrow is None:\n",
    "        startrow = 0\n",
    "\n",
    "    # write out the new sheet\n",
    "    df.to_excel(writer, sheet_name, startrow=startrow, **to_excel_kwargs)\n",
    "\n",
    "    # save the workbook\n",
    "    writer.save()\n",
    "\n",
    "\n",
    "    \n",
    "# Function to drop outliers of numeric columns\n",
    "def drop_outliers(data_frame, exclude=[], include=[]):\n",
    "    numerics = ['int16', 'int32', 'int64', 'float16', 'float32', 'float64']\n",
    "    num_cols = data_frame.select_dtypes(include=numerics).columns\n",
    "\n",
    "    if len(include) > 0:\n",
    "        num_cols = np.intersect1d(num_cols, include)\n",
    "    elif len (exclude) > 0:\n",
    "        num_cols = num_cols.difference(exclude)\n",
    "    \n",
    "    data_frame['DROP'] = False\n",
    "    for colname in num_cols:\n",
    "        upper_lim = data_frame[colname].quantile(.95)\n",
    "        lower_lim = data_frame[colname].quantile(.05)\n",
    "        \n",
    "        print(f'Dropping outliers for {colname} upper limit = {upper_lim} and lower limit = {lower_lim}')\n",
    "        #data_frame = data_frame[(data_frame[colname] < upper_lim) & (data_frame[colname] > lower_lim)]\n",
    "        data_frame['DROP'] = data_frame['DROP'] | (data_frame[colname] > upper_lim) | (data_frame[colname] < lower_lim)\n",
    "        \n",
    "    \n",
    "    data_frame = data_frame.loc[~data_frame['DROP']]\n",
    "    print(f'Rows Remaining {data_frame.shape[0]}')\n",
    "    data_frame = data_frame.drop(['DROP'], axis=1)    \n",
    "    return data_frame\n",
    "    \n",
    "    \n",
    "def pct_change(df, period1, period2):\n",
    "    if df[period2] == 0:\n",
    "        return 0\n",
    "    elif df[period1] == 0:\n",
    "        return df[period2]\n",
    "    else:\n",
    "        return (df[period2] - df[period1])*100 / df[period1]\n",
    "    \n",
    "    \n",
    "def print_counts(df, cust_id=\"SIS Id  (Agreement SIS)\", prod_id=\"Product Line Level 2\", group_by=\"TYPE\"):\n",
    "    print(f'Unique Customers : {len(df[cust_id].unique())}')\n",
    "    print(f'Unique Products at Level 2 : {len(df[prod_id].unique())}')\n",
    "    print(f'Unique Customer Product Combinations : {len(df[[cust_id, prod_id]].drop_duplicates())}')\n",
    "    \n",
    "    if group_by in df.columns:\n",
    "        print(df.groupby([group_by]).agg(\n",
    "        customers = (cust_id ,pd.Series.nunique), \n",
    "        products = (prod_id,pd.Series.nunique)))"
   ]
  },
  {
   "cell_type": "code",
   "execution_count": 3,
   "metadata": {},
   "outputs": [],
   "source": [
    "# Read the list of churn products\n",
    "churn_products = pd.read_hdf(path_to_hdf_datastore, cfg['churn_products_hdf_file'])"
   ]
  },
  {
   "cell_type": "code",
   "execution_count": 4,
   "metadata": {},
   "outputs": [],
   "source": [
    "# Read contracts data\n",
    "journals_contracts = pd.read_hdf(path_to_hdf_datastore, cfg['journal_contracts_file'])\n",
    "other_contracts = pd.read_hdf(path_to_hdf_datastore, cfg['other_contracts_file'])\n",
    "\n",
    "#set a column variable TYPE to identify journals and solutions contracts\n",
    "journals_contracts['TYPE'] = 'JOURNALS'\n",
    "other_contracts['TYPE'] = 'SOLUTIONS'\n"
   ]
  },
  {
   "cell_type": "code",
   "execution_count": 5,
   "metadata": {},
   "outputs": [
    {
     "name": "stdout",
     "output_type": "stream",
     "text": [
      "JOURNALS\n",
      "Unique Customers : 84056\n",
      "Unique Products at Level 2 : 26\n",
      "Unique Customer Product Combinations : 139097\n",
      "          customers  products\n",
      "TYPE                         \n",
      "JOURNALS      84056        26\n",
      "SOLUTIONS\n",
      "Unique Customers : 34091\n",
      "Unique Products at Level 2 : 118\n",
      "Unique Customer Product Combinations : 78088\n",
      "           customers  products\n",
      "TYPE                          \n",
      "SOLUTIONS      34091       118\n"
     ]
    }
   ],
   "source": [
    "print('JOURNALS')\n",
    "print_counts(journals_contracts)\n",
    "print('SOLUTIONS')\n",
    "print_counts(other_contracts)"
   ]
  },
  {
   "cell_type": "markdown",
   "metadata": {},
   "source": [
    "### Freq table of the Products at Product Line Level 2 in journals contracts"
   ]
  },
  {
   "cell_type": "code",
   "execution_count": 6,
   "metadata": {},
   "outputs": [
    {
     "data": {
      "text/plain": [
       "Journals Electronic Subscriptions    2439972\n",
       "Journals Print                       1022415\n",
       "Journal Level Sales                   284914\n",
       "Bulk Sales                            157156\n",
       "Journals Print - One Off               75915\n",
       "Journals Print Electronic              62341\n",
       "Hybrid Open Access                     33076\n",
       "Full Open Access                       17405\n",
       "Author Page Charges - Print            10871\n",
       "Journals Backfiles                     10436\n",
       "Other Revenue Print One Off             8332\n",
       "Journals Transactions                   7480\n",
       "Other Income Electronic                 5862\n",
       "Author Offprint Charges - Print         5182\n",
       "Editorial Service                       1170\n",
       "Procedia                                 618\n",
       "Other Income Print                       518\n",
       "Conferences - Sponsor                    133\n",
       "Author Colour Charges - Print            105\n",
       "Contract Publishing Services              96\n",
       "Journals Legacy                           77\n",
       "Journals Subscriptions Electronic         26\n",
       "Journals Other                             9\n",
       "Conferences - Delegate                     8\n",
       "Other Author Income                        3\n",
       "Language Editing Services                  2\n",
       "Name: Product Line Level 2, dtype: int64"
      ]
     },
     "execution_count": 6,
     "metadata": {},
     "output_type": "execute_result"
    }
   ],
   "source": [
    "pd.set_option(\"display.max_rows\", 33)\n",
    "journals_contracts['Product Line Level 2'].value_counts()"
   ]
  },
  {
   "cell_type": "markdown",
   "metadata": {},
   "source": [
    "### Freq table of the Products at Product Line Level 2 in journals contracts"
   ]
  },
  {
   "cell_type": "code",
   "execution_count": 7,
   "metadata": {},
   "outputs": [
    {
     "data": {
      "text/plain": [
       "Nursing & Health Professionals P_ELP    3108106\n",
       "Research Reference P_ELP                2346220\n",
       "Medical Reference P_ELP                  970444\n",
       "Research Reference E_ELP                 836759\n",
       "Nursing & Health Professionals E_ELP     726362\n",
       "                                         ...   \n",
       "ScienceMetrix                                 6\n",
       "CK China                                      6\n",
       "Medical Elearning                             5\n",
       "S&T Books                                     2\n",
       "Journals Pharma Print Other                   1\n",
       "Name: Product Line Level 2, Length: 118, dtype: int64"
      ]
     },
     "execution_count": 7,
     "metadata": {},
     "output_type": "execute_result"
    }
   ],
   "source": [
    "other_contracts['Product Line Level 2'].value_counts()"
   ]
  },
  {
   "cell_type": "code",
   "execution_count": 8,
   "metadata": {},
   "outputs": [],
   "source": [
    "contracts = pd.concat([journals_contracts, other_contracts])\n",
    "#del journals_contracts, other_contracts"
   ]
  },
  {
   "cell_type": "markdown",
   "metadata": {},
   "source": [
    "<b>Replace NA values with numpy NaN</b>"
   ]
  },
  {
   "cell_type": "code",
   "execution_count": 9,
   "metadata": {},
   "outputs": [],
   "source": [
    "contracts.replace(['Unknown','nan', 'N.A', 'N.A.', 'NaN', 'Nan', '00-00-00', '0-00-00'], np.nan, inplace=True)"
   ]
  },
  {
   "cell_type": "markdown",
   "metadata": {},
   "source": [
    "<b>Convert Text dates to date datatype</b>"
   ]
  },
  {
   "cell_type": "code",
   "execution_count": 10,
   "metadata": {},
   "outputs": [],
   "source": [
    "date_columns = ['Agreement Start Date', 'Agreement End Date','Subscription Start Date', 'Subscription End Date']\n",
    "\n",
    "for column in date_columns:\n",
    "    contracts[column] = pd.to_datetime(contracts[column]).dt.strftime('%Y-%m-%d')\n",
    "    contracts[column] = pd.to_datetime(contracts[column], format='%Y-%m-%d')"
   ]
  },
  {
   "cell_type": "markdown",
   "metadata": {},
   "source": [
    "# Missing ECRID investigation"
   ]
  },
  {
   "cell_type": "code",
   "execution_count": 11,
   "metadata": {},
   "outputs": [
    {
     "data": {
      "text/plain": [
       "2127"
      ]
     },
     "execution_count": 11,
     "metadata": {},
     "output_type": "execute_result"
    }
   ],
   "source": [
    "missing = pd.read_csv('../data/tmp/missing.csv')\n",
    "len(missing['ECR Id'].unique())"
   ]
  },
  {
   "cell_type": "markdown",
   "metadata": {},
   "source": [
    "### Missing IDs actually present in the contracts data received"
   ]
  },
  {
   "cell_type": "code",
   "execution_count": 12,
   "metadata": {},
   "outputs": [
    {
     "data": {
      "text/plain": [
       "1991"
      ]
     },
     "execution_count": 12,
     "metadata": {},
     "output_type": "execute_result"
    }
   ],
   "source": [
    "len(np.intersect1d(missing['ECR Id'].unique(), contracts[\"SIS Id  (Agreement SIS)\"].unique()))"
   ]
  },
  {
   "cell_type": "markdown",
   "metadata": {},
   "source": [
    "### Keep only relevant dataset\n",
    "\n",
    "We keep only the contracts relevant for our modelling purpose:\n",
    "\n",
    "1- CRM contracts = 'Active Renewal', 'Cancelled', 'Evegreen Renewal', 'Merged', 'New', 'Standard Renewal' <br>\n",
    "2- UPL-5 contracts<br>\n",
    "3- RSS Products<br>\n",
    "4- A&G and Corporate Business Divisions<br>\n",
    "5- Prod Revenue Type= 'Recurring', 'One Off/Recurring'<br>"
   ]
  },
  {
   "cell_type": "code",
   "execution_count": 13,
   "metadata": {},
   "outputs": [],
   "source": [
    "# Define CRM and UPL contracts\n",
    "crm_list = ['Active Renewal', 'Cancelled', 'Evegreen Renewal', 'Merged', 'New', 'Standard Renewal']\n",
    "upl_pattern = 'UPL-5'\n",
    "rss_products = churn_products[product_level].unique()\n",
    "keep_division = ['A&G', 'Corporate']\n",
    "keep_prod_rev_type = ['Recurring', 'One Off/Recurring']"
   ]
  },
  {
   "cell_type": "code",
   "execution_count": 14,
   "metadata": {},
   "outputs": [
    {
     "data": {
      "text/plain": [
       "One Off              10682922\n",
       "Recurring             4362673\n",
       "One Off/Recurring         549\n",
       "Name: Product Revenue Type, dtype: int64"
      ]
     },
     "execution_count": 14,
     "metadata": {},
     "output_type": "execute_result"
    }
   ],
   "source": [
    "contracts['Product Revenue Type'].value_counts()"
   ]
  },
  {
   "cell_type": "code",
   "execution_count": 15,
   "metadata": {},
   "outputs": [
    {
     "name": "stdout",
     "output_type": "stream",
     "text": [
      "Unique Customers : 101761\n",
      "Unique Products at Level 2 : 144\n",
      "Unique Customer Product Combinations : 217185\n",
      "           customers  products\n",
      "TYPE                          \n",
      "JOURNALS       84056        26\n",
      "SOLUTIONS      34091       118\n"
     ]
    }
   ],
   "source": [
    "print_counts(contracts)"
   ]
  },
  {
   "cell_type": "code",
   "execution_count": 16,
   "metadata": {},
   "outputs": [
    {
     "name": "stdout",
     "output_type": "stream",
     "text": [
      " Shape BEFORE filtering Recurring products (15047185, 37)\n",
      " Shape AFTER filtering Recurring products (4363222, 37)\n",
      " Shape AFTER filtering CRM and UPL (2954002, 37)\n",
      " Shape AFTER filtering RSS (2783192, 37)\n",
      " Shape AFTER Keeping only A&G and Corporate (2672236, 37)\n"
     ]
    }
   ],
   "source": [
    "print(f' Shape BEFORE filtering Recurring products {contracts.shape}')\n",
    "is_recurring = contracts['Product Revenue Type'].isin(keep_prod_rev_type)\n",
    "contracts = contracts[is_recurring]\n",
    "print(f' Shape AFTER filtering Recurring products {contracts.shape}')\n",
    "\n",
    "is_crm = contracts['Sales Type'].isin(crm_list)\n",
    "is_upl = contracts['Agreement Number'].str.startswith(upl_pattern).fillna(False)\n",
    "contracts = contracts[is_crm | is_upl]\n",
    "print(f' Shape AFTER filtering CRM and UPL {contracts.shape}')\n",
    "\n",
    "is_rss_product = contracts['Product Line Level 2'].isin(rss_products)\n",
    "contracts = contracts[is_rss_product]\n",
    "print(f' Shape AFTER filtering RSS {contracts.shape}')\n",
    "\n",
    "# Keep only A&G and Corporate division contracts\n",
    "is_AG_Corp = contracts['Division'].isin(keep_division)\n",
    "contracts = contracts[is_AG_Corp]\n",
    "print(f' Shape AFTER Keeping only A&G and Corporate {contracts.shape}')\n"
   ]
  },
  {
   "cell_type": "code",
   "execution_count": 17,
   "metadata": {},
   "outputs": [
    {
     "name": "stdout",
     "output_type": "stream",
     "text": [
      "Unique Customers : 13761\n",
      "Unique Products at Level 2 : 29\n",
      "Unique Customer Product Combinations : 27856\n",
      "           customers  products\n",
      "TYPE                          \n",
      "JOURNALS        9697         5\n",
      "SOLUTIONS       8411        24\n"
     ]
    }
   ],
   "source": [
    "print_counts(contracts)"
   ]
  },
  {
   "cell_type": "markdown",
   "metadata": {},
   "source": [
    "<b>There exists some cancelled contracts in the Journals and Solutions contracts data sourced, we will label them as cancelled</b>"
   ]
  },
  {
   "cell_type": "code",
   "execution_count": 18,
   "metadata": {},
   "outputs": [
    {
     "data": {
      "text/html": [
       "<div>\n",
       "<style scoped>\n",
       "    .dataframe tbody tr th:only-of-type {\n",
       "        vertical-align: middle;\n",
       "    }\n",
       "\n",
       "    .dataframe tbody tr th {\n",
       "        vertical-align: top;\n",
       "    }\n",
       "\n",
       "    .dataframe thead th {\n",
       "        text-align: right;\n",
       "    }\n",
       "</style>\n",
       "<table border=\"1\" class=\"dataframe\">\n",
       "  <thead>\n",
       "    <tr style=\"text-align: right;\">\n",
       "      <th></th>\n",
       "      <th></th>\n",
       "      <th>Agreements</th>\n",
       "      <th>Bookings</th>\n",
       "    </tr>\n",
       "    <tr>\n",
       "      <th>TYPE</th>\n",
       "      <th>Sales Type</th>\n",
       "      <th></th>\n",
       "      <th></th>\n",
       "    </tr>\n",
       "  </thead>\n",
       "  <tbody>\n",
       "    <tr>\n",
       "      <th rowspan=\"5\" valign=\"top\">JOURNALS</th>\n",
       "      <th>Active Renewal</th>\n",
       "      <td>25423</td>\n",
       "      <td>$3,703,176,858</td>\n",
       "    </tr>\n",
       "    <tr>\n",
       "      <th>Cancelled</th>\n",
       "      <td>48</td>\n",
       "      <td>$4,520,143</td>\n",
       "    </tr>\n",
       "    <tr>\n",
       "      <th>Merged</th>\n",
       "      <td>2488</td>\n",
       "      <td>$126,643,439</td>\n",
       "    </tr>\n",
       "    <tr>\n",
       "      <th>New</th>\n",
       "      <td>5408</td>\n",
       "      <td>$146,768,681</td>\n",
       "    </tr>\n",
       "    <tr>\n",
       "      <th>Standard Renewal</th>\n",
       "      <td>17015</td>\n",
       "      <td>$4,753,270,851</td>\n",
       "    </tr>\n",
       "    <tr>\n",
       "      <th rowspan=\"5\" valign=\"top\">SOLUTIONS</th>\n",
       "      <th>Active Renewal</th>\n",
       "      <td>22625</td>\n",
       "      <td>$937,721,706</td>\n",
       "    </tr>\n",
       "    <tr>\n",
       "      <th>Cancelled</th>\n",
       "      <td>102</td>\n",
       "      <td>$3,129,291</td>\n",
       "    </tr>\n",
       "    <tr>\n",
       "      <th>Merged</th>\n",
       "      <td>1245</td>\n",
       "      <td>$32,819,844</td>\n",
       "    </tr>\n",
       "    <tr>\n",
       "      <th>New</th>\n",
       "      <td>8592</td>\n",
       "      <td>$191,138,605</td>\n",
       "    </tr>\n",
       "    <tr>\n",
       "      <th>Standard Renewal</th>\n",
       "      <td>16620</td>\n",
       "      <td>$785,707,740</td>\n",
       "    </tr>\n",
       "  </tbody>\n",
       "</table>\n",
       "</div>"
      ],
      "text/plain": [
       "                            Agreements       Bookings\n",
       "TYPE      Sales Type                                 \n",
       "JOURNALS  Active Renewal         25423 $3,703,176,858\n",
       "          Cancelled                 48     $4,520,143\n",
       "          Merged                  2488   $126,643,439\n",
       "          New                     5408   $146,768,681\n",
       "          Standard Renewal       17015 $4,753,270,851\n",
       "SOLUTIONS Active Renewal         22625   $937,721,706\n",
       "          Cancelled                102     $3,129,291\n",
       "          Merged                  1245    $32,819,844\n",
       "          New                     8592   $191,138,605\n",
       "          Standard Renewal       16620   $785,707,740"
      ]
     },
     "execution_count": 18,
     "metadata": {},
     "output_type": "execute_result"
    }
   ],
   "source": [
    "contracts.groupby(['TYPE','Sales Type']).agg(Agreements = ('Agreement Number', pd.Series.nunique),\n",
    "                                             Bookings = (\"Bookings - Final Net Price - Agent Discount Amount(Rep)\", sum))"
   ]
  },
  {
   "cell_type": "code",
   "execution_count": null,
   "metadata": {},
   "outputs": [],
   "source": []
  },
  {
   "cell_type": "code",
   "execution_count": 19,
   "metadata": {},
   "outputs": [
    {
     "data": {
      "text/plain": [
       "NO     2671395\n",
       "YES        841\n",
       "Name: CANCELLED, dtype: int64"
      ]
     },
     "execution_count": 19,
     "metadata": {},
     "output_type": "execute_result"
    }
   ],
   "source": [
    "contracts['CANCELLED'] = 'NO'\n",
    "is_cancelled = contracts['Sales Type'].isin(['Cancelled'])\n",
    "is_cancelled.value_counts()\n",
    "\n",
    "contracts.loc[is_cancelled, 'CANCELLED'] = 'YES'\n",
    "contracts['CANCELLED'].value_counts(dropna=False)"
   ]
  },
  {
   "cell_type": "markdown",
   "metadata": {},
   "source": [
    "### Missing IDs actually present in contracts after removing non relevant contracts"
   ]
  },
  {
   "cell_type": "code",
   "execution_count": 20,
   "metadata": {},
   "outputs": [
    {
     "data": {
      "text/plain": [
       "1623"
      ]
     },
     "execution_count": 20,
     "metadata": {},
     "output_type": "execute_result"
    }
   ],
   "source": [
    "len(np.intersect1d(missing['ECR Id'].unique(), contracts[\"SIS Id  (Agreement SIS)\"].unique()))"
   ]
  },
  {
   "cell_type": "markdown",
   "metadata": {},
   "source": [
    "### Read Cancellations Data"
   ]
  },
  {
   "cell_type": "code",
   "execution_count": 21,
   "metadata": {},
   "outputs": [],
   "source": [
    "cancellations = pd.read_hdf(path_to_hdf_datastore, cfg['cancellations_file'])"
   ]
  },
  {
   "cell_type": "code",
   "execution_count": 22,
   "metadata": {},
   "outputs": [],
   "source": [
    "cancellations.replace(['nan', 'N.A', 'N.A.', 'NaN', 'Nan', '00-00-00', '0-00-00'], np.nan, inplace=True)"
   ]
  },
  {
   "cell_type": "code",
   "execution_count": 23,
   "metadata": {},
   "outputs": [
    {
     "name": "stdout",
     "output_type": "stream",
     "text": [
      " Shape BEFORE filtering Recurring products (353248, 42)\n",
      " Shape AFTER filtering Recurring products (353248, 42)\n",
      " Shape BEFORE filtering CRM, UPL and RSS (353248, 42)\n",
      " Shape AFTER filtering CRM and UPL (353112, 42)\n",
      " Shape AFTER filtering RSS (347569, 42)\n",
      " Shape AFTER Keeping only A&G and Corporate (329519, 42)\n"
     ]
    }
   ],
   "source": [
    "print(f' Shape BEFORE filtering Recurring products {cancellations.shape}')\n",
    "is_recurring = cancellations['Product Revenue Type'].isin(keep_prod_rev_type)\n",
    "cancellations = cancellations[is_recurring]\n",
    "print(f' Shape AFTER filtering Recurring products {cancellations.shape}')\n",
    "\n",
    "is_crm = cancellations['Sales Type'].isin(crm_list)\n",
    "is_upl = cancellations['Agreement Number'].str.startswith(upl_pattern).fillna(False)\n",
    "print(f' Shape BEFORE filtering CRM, UPL and RSS {cancellations.shape}')\n",
    "cancellations = cancellations[is_crm | is_upl]\n",
    "print(f' Shape AFTER filtering CRM and UPL {cancellations.shape}')\n",
    "is_rss_product = cancellations['Product Line Level 2'].isin(rss_products)\n",
    "cancellations = cancellations[is_rss_product]\n",
    "print(f' Shape AFTER filtering RSS {cancellations.shape}')\n",
    "# Keep only A&G and Corporate division contracts\n",
    "is_AG_Corp = cancellations['Division'].isin(['A&G', 'Corporate'])\n",
    "cancellations = cancellations[is_AG_Corp]\n",
    "print(f' Shape AFTER Keeping only A&G and Corporate {cancellations.shape}')"
   ]
  },
  {
   "cell_type": "markdown",
   "metadata": {},
   "source": [
    "<b> Convert String date columns to datatime datatype </b>"
   ]
  },
  {
   "cell_type": "code",
   "execution_count": 24,
   "metadata": {},
   "outputs": [],
   "source": [
    "date_columns = ['Agreement Start Date', 'Agreement End Date','Subscription Start Date', 'Subscription End Date']\n",
    "\n",
    "for column in date_columns:\n",
    "    cancellations[column] = pd.to_datetime(cancellations[column]).dt.strftime('%Y-%m-%d')\n",
    "    cancellations[column] = pd.to_datetime(cancellations[column], format='%Y-%m-%d')"
   ]
  },
  {
   "cell_type": "code",
   "execution_count": 25,
   "metadata": {},
   "outputs": [
    {
     "data": {
      "text/plain": [
       "Cancelled Complete    329519\n",
       "Name: Status, dtype: int64"
      ]
     },
     "execution_count": 25,
     "metadata": {},
     "output_type": "execute_result"
    }
   ],
   "source": [
    "cancellations['Status'].value_counts()"
   ]
  },
  {
   "cell_type": "code",
   "execution_count": 26,
   "metadata": {},
   "outputs": [
    {
     "data": {
      "text/plain": [
       "YES    329519\n",
       "Name: CANCELLED, dtype: int64"
      ]
     },
     "execution_count": 26,
     "metadata": {},
     "output_type": "execute_result"
    }
   ],
   "source": [
    "cancellations['CANCELLED'] = 'YES'\n",
    "cancellations.CANCELLED.value_counts(dropna=False)"
   ]
  },
  {
   "cell_type": "code",
   "execution_count": 27,
   "metadata": {},
   "outputs": [
    {
     "name": "stdout",
     "output_type": "stream",
     "text": [
      "Journal Products : ['Journals Electronic Subscriptions' 'Journal Level Sales'\n",
      " 'Journals Backfiles' 'Journals Legacy' 'Journals Other'] \n",
      "Solution Products : ['SSRN' 'embase' 'eBooks' 'EV' 'Knovel' 'Reaxys' 'SCOPUS'\n",
      " 'Digital Commons' 'Pure' 'Mendeley Institutional Edition' 'SciVal Tools'\n",
      " 'Pathway Studio' 'Geofacets' 'ENCOMPASS' 'Reaxys Medicinal Chemistry'\n",
      " 'Quosa' 'Pharmapendium' 'Funding Solutions' 'Life Sciences Other'\n",
      " 'Indexing Linking and Discovery Services' 'Copyrights'\n",
      " 'Research Data Management' 'ScienceMetrix' 'Entellect'] \n"
     ]
    }
   ],
   "source": [
    "journal_products = contracts[contracts.TYPE == 'JOURNALS']['Product Line Level 2'].unique()\n",
    "other_products = contracts[contracts.TYPE == 'SOLUTIONS']['Product Line Level 2'].unique()\n",
    "\n",
    "print(f'Journal Products : {journal_products} ')\n",
    "print(f'Solution Products : {other_products} ')"
   ]
  },
  {
   "cell_type": "markdown",
   "metadata": {},
   "source": [
    "<b> Label cancelled contracts as JOURNALS or SOLUTTIONS based on products</b>"
   ]
  },
  {
   "cell_type": "code",
   "execution_count": 28,
   "metadata": {},
   "outputs": [],
   "source": [
    "is_journal_product = cancellations['Product Line Level 2'].isin(journal_products)"
   ]
  },
  {
   "cell_type": "code",
   "execution_count": 29,
   "metadata": {},
   "outputs": [],
   "source": [
    "cancellations['TYPE'] = 'SOLUTIONS'\n",
    "cancellations.loc[is_journal_product, 'TYPE'] = 'JOURNALS'"
   ]
  },
  {
   "cell_type": "code",
   "execution_count": 30,
   "metadata": {},
   "outputs": [
    {
     "name": "stdout",
     "output_type": "stream",
     "text": [
      "['Agreement End Date' 'Agreement Number' 'Agreement Start Date'\n",
      " 'Bookigns - Committed Print(Rep)'\n",
      " 'Bookings - Final Net Price - Agent Discount Amount(Rep)'\n",
      " 'Business Division (Agreement SIS)' 'Business Indicator' 'CANCELLED'\n",
      " 'Calculated New/Renewal' 'Country Name (Agreement SIS)' 'Division'\n",
      " 'HQ SIS Id (Agreement SIS)' 'Name  (Agreement SIS)'\n",
      " 'Parent Agreement Number' 'Payment Term' 'Payment Term Description'\n",
      " 'Payment Term Type' 'Product Line Level 1' 'Product Line Level 2'\n",
      " 'Product Line Level 3' 'Product Line Level 4' 'Product Revenue Type'\n",
      " 'RSO' 'Renewal Exp Complete Date' 'SIS Id  (Agreement SIS)'\n",
      " 'Saleable Product Name (Source)' 'Sales Division (Agreement SIS)'\n",
      " 'Sales Type' 'Status' 'Status Change Date' 'Subregion Grouping'\n",
      " 'Subscription End Date' 'Subscription Start Date' 'TYPE' 'WIP Flag']\n",
      "========================================================================================================\n",
      "['Cancellation Month' 'Cancellation Reason' 'Currency(Entered)'\n",
      " 'Reporting Year (2015)' 'Revenue Committed Print(Rep)'\n",
      " 'Revenue Final Net Price - Agent Discount Amount(Rep)' 'Source System'\n",
      " 'Source System.1' 'Wip Type']\n"
     ]
    }
   ],
   "source": [
    "print(np.intersect1d(contracts.columns, cancellations.columns))\n",
    "print(\"========================================================================================================\")\n",
    "print(np.setdiff1d(cancellations.columns,contracts.columns))"
   ]
  },
  {
   "cell_type": "markdown",
   "metadata": {},
   "source": [
    "<b>Add Cancellation Month and Cancellation Reason Columns to Contracts so that sturcure before concatenation is same</b>"
   ]
  },
  {
   "cell_type": "code",
   "execution_count": 31,
   "metadata": {},
   "outputs": [],
   "source": [
    "contracts['Cancellation Month'] = np.nan\n",
    "contracts['Cancellation Reason'] = np.nan"
   ]
  },
  {
   "cell_type": "code",
   "execution_count": 32,
   "metadata": {},
   "outputs": [],
   "source": [
    "contracts = contracts[np.intersect1d(contracts.columns, cancellations.columns)]\n",
    "cancellations = cancellations[np.intersect1d(contracts.columns, cancellations.columns)]"
   ]
  },
  {
   "cell_type": "code",
   "execution_count": 33,
   "metadata": {},
   "outputs": [],
   "source": [
    "all_contracts = pd.concat([contracts, cancellations]) "
   ]
  },
  {
   "cell_type": "markdown",
   "metadata": {},
   "source": [
    "### Missing IDs actually present in all contracts data after adding cancellations data as well"
   ]
  },
  {
   "cell_type": "code",
   "execution_count": 34,
   "metadata": {},
   "outputs": [
    {
     "data": {
      "text/plain": [
       "1635"
      ]
     },
     "execution_count": 34,
     "metadata": {},
     "output_type": "execute_result"
    }
   ],
   "source": [
    "len(np.intersect1d(missing['ECR Id'].unique(), all_contracts[\"SIS Id  (Agreement SIS)\"].unique()))"
   ]
  },
  {
   "cell_type": "code",
   "execution_count": 35,
   "metadata": {},
   "outputs": [
    {
     "data": {
      "text/html": [
       "<div>\n",
       "<style scoped>\n",
       "    .dataframe tbody tr th:only-of-type {\n",
       "        vertical-align: middle;\n",
       "    }\n",
       "\n",
       "    .dataframe tbody tr th {\n",
       "        vertical-align: top;\n",
       "    }\n",
       "\n",
       "    .dataframe thead th {\n",
       "        text-align: right;\n",
       "    }\n",
       "</style>\n",
       "<table border=\"1\" class=\"dataframe\">\n",
       "  <thead>\n",
       "    <tr style=\"text-align: right;\">\n",
       "      <th></th>\n",
       "      <th>customers</th>\n",
       "      <th>products</th>\n",
       "    </tr>\n",
       "    <tr>\n",
       "      <th>TYPE</th>\n",
       "      <th></th>\n",
       "      <th></th>\n",
       "    </tr>\n",
       "  </thead>\n",
       "  <tbody>\n",
       "    <tr>\n",
       "      <th>JOURNALS</th>\n",
       "      <td>10359</td>\n",
       "      <td>5</td>\n",
       "    </tr>\n",
       "    <tr>\n",
       "      <th>SOLUTIONS</th>\n",
       "      <td>8792</td>\n",
       "      <td>25</td>\n",
       "    </tr>\n",
       "  </tbody>\n",
       "</table>\n",
       "</div>"
      ],
      "text/plain": [
       "           customers  products\n",
       "TYPE                          \n",
       "JOURNALS       10359         5\n",
       "SOLUTIONS       8792        25"
      ]
     },
     "execution_count": 35,
     "metadata": {},
     "output_type": "execute_result"
    }
   ],
   "source": [
    "all_contracts.groupby(['TYPE']).agg(\n",
    "    customers = (\"SIS Id  (Agreement SIS)\" ,pd.Series.nunique), \n",
    "    products = (\"Product Line Level 2\",pd.Series.nunique))"
   ]
  },
  {
   "cell_type": "code",
   "execution_count": 36,
   "metadata": {},
   "outputs": [
    {
     "data": {
      "text/plain": [
       "Journals Electronic Subscriptions    2503787\n",
       "Journal Level Sales                   218810\n",
       "Journals Backfiles                      1338\n",
       "Journals Legacy                           56\n",
       "Journals Other                            10\n",
       "Name: Product Line Level 2, dtype: int64"
      ]
     },
     "execution_count": 36,
     "metadata": {},
     "output_type": "execute_result"
    }
   ],
   "source": [
    "all_contracts[all_contracts.TYPE == 'JOURNALS']['Product Line Level 2'].value_counts()"
   ]
  },
  {
   "cell_type": "code",
   "execution_count": 37,
   "metadata": {},
   "outputs": [
    {
     "data": {
      "text/plain": [
       "11066675316.322744"
      ]
     },
     "execution_count": 37,
     "metadata": {},
     "output_type": "execute_result"
    }
   ],
   "source": [
    "sum(all_contracts['Bookings - Final Net Price - Agent Discount Amount(Rep)'].fillna(0))"
   ]
  },
  {
   "cell_type": "code",
   "execution_count": 38,
   "metadata": {},
   "outputs": [],
   "source": [
    "del contracts, cancellations"
   ]
  },
  {
   "cell_type": "code",
   "execution_count": 39,
   "metadata": {},
   "outputs": [
    {
     "data": {
      "text/plain": [
       "False    2671395\n",
       "True      330360\n",
       "Name: CANCELLED, dtype: int64"
      ]
     },
     "execution_count": 39,
     "metadata": {},
     "output_type": "execute_result"
    }
   ],
   "source": [
    "is_cancelled = all_contracts['CANCELLED'].isin(['YES'])\n",
    "is_cancelled.value_counts(dropna=False)"
   ]
  },
  {
   "cell_type": "code",
   "execution_count": 40,
   "metadata": {},
   "outputs": [
    {
     "data": {
      "text/plain": [
       "JOURNALS     2724001\n",
       "SOLUTIONS     277754\n",
       "Name: TYPE, dtype: int64"
      ]
     },
     "execution_count": 40,
     "metadata": {},
     "output_type": "execute_result"
    }
   ],
   "source": [
    "all_contracts['TYPE'].value_counts()"
   ]
  },
  {
   "cell_type": "code",
   "execution_count": 41,
   "metadata": {},
   "outputs": [],
   "source": [
    "all_contracts['Agreement Start Year'] = all_contracts['Agreement Start Date'].map(lambda x: x.year )\n",
    "all_contracts['Subscription Start Year'] = all_contracts['Subscription Start Date'].map(lambda x: x.year )\n",
    "all_contracts['Agreement Start Month'] = all_contracts['Agreement Start Date'].map(lambda x: x.month )\n",
    "all_contracts['Subscription Start Month'] = all_contracts['Subscription Start Date'].map(lambda x: x.month )"
   ]
  },
  {
   "cell_type": "markdown",
   "metadata": {},
   "source": [
    "## Computing Churn label based on customer value per product\n",
    "\n",
    "We define churn based on the Bookings value per customer per product line level 2\n",
    "\n",
    "following image give a good undestanding of the classification based on Bookings value\n",
    "\n",
    "We are interested in indetifyinc churn- in our case Partial Churn and Total churn\n",
    "whereas the the Upsold and Retained are classified as None i.e No Churn"
   ]
  },
  {
   "attachments": {
    "churn_labels.png": {
     "image/png": "[encoded data removed]"
    }
   },
   "cell_type": "markdown",
   "metadata": {},
   "source": [
    "![churn_labels.png](attachment:churn_labels.png)"
   ]
  },
  {
   "cell_type": "code",
   "execution_count": 42,
   "metadata": {},
   "outputs": [],
   "source": [
    "## Ignore contracts with negative values\n",
    "all_contracts = all_contracts[all_contracts['Bookings - Final Net Price - Agent Discount Amount(Rep)'] >= 0]"
   ]
  },
  {
   "cell_type": "markdown",
   "metadata": {},
   "source": [
    "### Cancellation contracts have a positive bookings value, but this value is lost once contract is cancelled. So to get correct picture of Total Bookings per Customer * Product, We reverse the sign of the Bookings value on cancellations"
   ]
  },
  {
   "cell_type": "code",
   "execution_count": 43,
   "metadata": {},
   "outputs": [],
   "source": [
    "# Reverse value of cancelled contracts to get true bookings value\n",
    "all_contracts.loc[\n",
    "    all_contracts['CANCELLED'] == 'YES', \n",
    "    'Bookings - Final Net Price - Agent Discount Amount(Rep)'] = -all_contracts.loc[\n",
    "    all_contracts['CANCELLED'] == 'YES', \n",
    "    'Bookings - Final Net Price - Agent Discount Amount(Rep)']"
   ]
  },
  {
   "cell_type": "code",
   "execution_count": 44,
   "metadata": {},
   "outputs": [
    {
     "name": "stdout",
     "output_type": "stream",
     "text": [
      "11748059743.528015\n"
     ]
    }
   ],
   "source": [
    "print(sum(all_contracts['Bookings - Final Net Price - Agent Discount Amount(Rep)']))"
   ]
  },
  {
   "attachments": {
    "image.png": {
     "image/png": "[encoded data removed]"
    }
   },
   "cell_type": "markdown",
   "metadata": {},
   "source": [
    "![image.png](attachment:image.png)"
   ]
  },
  {
   "cell_type": "code",
   "execution_count": 45,
   "metadata": {},
   "outputs": [
    {
     "data": {
      "text/plain": [
       "ENDED     2170490\n",
       "ACTIVE     349988\n",
       "FUTURE      13374\n",
       "Name: CONTRACT_STATUS, dtype: int64"
      ]
     },
     "execution_count": 45,
     "metadata": {},
     "output_type": "execute_result"
    }
   ],
   "source": [
    "TODAY = datetime.now(tz=None)\n",
    "active_contracts = (all_contracts['Subscription Start Date'] < TODAY) & (all_contracts['Subscription End Date'] > TODAY)\n",
    "ended_contracts = (all_contracts['Subscription Start Date'] < TODAY) & (all_contracts['Subscription End Date'] < TODAY)\n",
    "future_contracts = (all_contracts['Subscription Start Date'] > TODAY)\n",
    "\n",
    "all_contracts.loc[active_contracts, 'CONTRACT_STATUS'] = 'ACTIVE'\n",
    "all_contracts.loc[ended_contracts, 'CONTRACT_STATUS'] = 'ENDED'\n",
    "all_contracts.loc[future_contracts, 'CONTRACT_STATUS'] = 'FUTURE'\n",
    "\n",
    "all_contracts['CONTRACT_STATUS'].value_counts()"
   ]
  },
  {
   "cell_type": "code",
   "execution_count": 46,
   "metadata": {},
   "outputs": [
    {
     "name": "stdout",
     "output_type": "stream",
     "text": [
      "Unique Customers : 14604\n",
      "Unique Products at Level 2 : 30\n",
      "Unique Customer Product Combinations : 29366\n",
      "           customers  products\n",
      "TYPE                          \n",
      "JOURNALS       10359         5\n",
      "SOLUTIONS       8792        25\n"
     ]
    }
   ],
   "source": [
    "print_counts(all_contracts)"
   ]
  },
  {
   "cell_type": "code",
   "execution_count": 47,
   "metadata": {},
   "outputs": [],
   "source": [
    "### We will use Ended contracts for Model Training and apply this to ACtive and future contracts\n",
    "\n",
    "all_contracts_dev = all_contracts[ended_contracts]\n",
    "all_contracts_target = all_contracts[(active_contracts | future_contracts)]"
   ]
  },
  {
   "cell_type": "code",
   "execution_count": 48,
   "metadata": {},
   "outputs": [
    {
     "data": {
      "text/plain": [
       "Journals Electronic Subscriptions    1778013\n",
       "Journal Level Sales                   174979\n",
       "Journals Backfiles                       972\n",
       "Journals Legacy                           56\n",
       "Journals Other                             9\n",
       "Name: Product Line Level 2, dtype: int64"
      ]
     },
     "execution_count": 48,
     "metadata": {},
     "output_type": "execute_result"
    }
   ],
   "source": [
    "all_contracts_dev[all_contracts_dev.TYPE == 'JOURNALS']['Product Line Level 2'].value_counts()"
   ]
  },
  {
   "cell_type": "code",
   "execution_count": 49,
   "metadata": {},
   "outputs": [
    {
     "name": "stdout",
     "output_type": "stream",
     "text": [
      "Unique Customers : 14098\n",
      "Unique Products at Level 2 : 29\n",
      "Unique Customer Product Combinations : 28129\n",
      "           customers  products\n",
      "TYPE                          \n",
      "JOURNALS       10044         5\n",
      "SOLUTIONS       8394        24\n"
     ]
    }
   ],
   "source": [
    "print_counts(all_contracts_dev)"
   ]
  },
  {
   "cell_type": "markdown",
   "metadata": {},
   "source": [
    "### Missing IDs actually present in Dev data set"
   ]
  },
  {
   "cell_type": "code",
   "execution_count": 50,
   "metadata": {},
   "outputs": [
    {
     "data": {
      "text/plain": [
       "1515"
      ]
     },
     "execution_count": 50,
     "metadata": {},
     "output_type": "execute_result"
    }
   ],
   "source": [
    "len(np.intersect1d(missing['ECR Id'].unique(), all_contracts_dev[\"SIS Id  (Agreement SIS)\"].unique()))"
   ]
  },
  {
   "cell_type": "code",
   "execution_count": 51,
   "metadata": {},
   "outputs": [
    {
     "name": "stdout",
     "output_type": "stream",
     "text": [
      "Unique Customers : 8589\n",
      "Unique Products at Level 2 : 28\n",
      "Unique Customer Product Combinations : 17372\n",
      "           customers  products\n",
      "TYPE                          \n",
      "JOURNALS        5826         4\n",
      "SOLUTIONS       5561        24\n"
     ]
    }
   ],
   "source": [
    "print_counts(all_contracts_target)"
   ]
  },
  {
   "cell_type": "markdown",
   "metadata": {},
   "source": [
    "### Missing IDs actually present in target data set"
   ]
  },
  {
   "cell_type": "code",
   "execution_count": 52,
   "metadata": {},
   "outputs": [
    {
     "data": {
      "text/plain": [
       "488"
      ]
     },
     "execution_count": 52,
     "metadata": {},
     "output_type": "execute_result"
    }
   ],
   "source": [
    "len(np.intersect1d(missing['ECR Id'].unique(), all_contracts_target[\"SIS Id  (Agreement SIS)\"].unique()))"
   ]
  },
  {
   "cell_type": "code",
   "execution_count": 53,
   "metadata": {},
   "outputs": [],
   "source": [
    "all_contracts_dev.to_pickle('../data/hdf/all_contracts_dev.pickle')\n",
    "all_contracts_target.to_pickle('../data/hdf/all_contracts_target.pickle')"
   ]
  },
  {
   "cell_type": "markdown",
   "metadata": {},
   "source": [
    "### Calculating Bookings Value by year"
   ]
  },
  {
   "cell_type": "code",
   "execution_count": 54,
   "metadata": {},
   "outputs": [],
   "source": [
    "bookings_by_year = pd.pivot_table(all_contracts_dev.groupby(\n",
    "                        ['SIS Id  (Agreement SIS)','Product Line Level 2', 'Subscription Start Year']\n",
    "                    ).agg(bookings=(\"Bookings - Final Net Price - Agent Discount Amount(Rep)\", \n",
    "                                    sum)).sort_values('bookings', ascending=False).reset_index(), \n",
    "                   index=['SIS Id  (Agreement SIS)','Product Line Level 2'], \n",
    "                   columns=['Subscription Start Year'], \n",
    "                   values=['bookings'], \n",
    "                   aggfunc=sum, fill_value=0, margins=False)\n",
    "\n",
    "# writing to excel takes time that i dont have\n",
    "#append_df_to_excel('../data/analysis/churn_analysis.xlsx', bookings_by_year, sheet_name='prod_by_year', index=True)\n",
    "\n",
    "bookings_by_year.columns = bookings_by_year.columns.droplevel(0)\n",
    "bookings_by_year = bookings_by_year.reset_index().rename_axis(None, axis=1)"
   ]
  },
  {
   "cell_type": "code",
   "execution_count": 55,
   "metadata": {},
   "outputs": [
    {
     "data": {
      "text/plain": [
       "Index([2015, 2016, 2017, 2018, 2019, 2020], dtype='object')"
      ]
     },
     "execution_count": 55,
     "metadata": {},
     "output_type": "execute_result"
    }
   ],
   "source": [
    "year_cols = bookings_by_year.columns[bookings_by_year.columns.str.isnumeric().fillna(True)]\n",
    "year_cols"
   ]
  },
  {
   "cell_type": "code",
   "execution_count": 56,
   "metadata": {},
   "outputs": [
    {
     "name": "stdout",
     "output_type": "stream",
     "text": [
      " 2016  -  2015\n",
      " 2017  -  2016\n",
      " 2018  -  2017\n",
      " 2019  -  2018\n"
     ]
    }
   ],
   "source": [
    "ignore_years = [2020, 2021]\n",
    "\n",
    "year_cols = np.setdiff1d(year_cols, ignore_years)\n",
    "year_cols\n",
    "\n",
    "def get_status(x, col):\n",
    "    churn_status = \"NONE\"\n",
    "    #if current value is less than or equal to zero and previous value was greater than zero\n",
    "    #then customer has gone from a positive value to zero or below zero. i.e. total churn\n",
    "    if (x[col] < 0) | ((x[col] == 0) & (x[col-1] > 0)): \n",
    "        churn_status = \"TOTAL_CHURN\"\n",
    "    # if current value is greater than zero and the difference between current value and previous value\n",
    "    # is less than zero then current value is lower then previous hence partial churn\n",
    "    elif (x[col] >0) & ((x[col] - x[col-1]) < 0):\n",
    "        churn_status = \"PARTIAL_CHURN\"\n",
    "    elif (x[col] >0) & ((x[col] - x[col-1]) > 0):\n",
    "        churn_status = \"UPSOLD\"\n",
    "    elif (x[col] > 0) & (x[col] == x[col-1]):\n",
    "        churn_status = \"RETAINED\"\n",
    "    elif (x[col] <= 0) & (x[col-1] <= 0):\n",
    "        churn_status = \"LOST\"\n",
    "        \n",
    "    return churn_status\n",
    "\n",
    "def get_total_churn_value(x, col):\n",
    "    churn_value = 0\n",
    "    if (x[col] < 0) | ((x[col] == 0) & (x[col-1] > 0)): \n",
    "        churn_value = x[col-1] - x[col]\n",
    "        \n",
    "    return churn_value\n",
    "\n",
    "def get_partial_churn_value(x, col):\n",
    "    churn_value = 0\n",
    "    if (x[col] >0) & ((x[col] - x[col-1]) < 0):\n",
    "        churn_value = x[col-1] - x[col]\n",
    "        \n",
    "    return churn_value\n",
    "\n",
    "def get_partial_churn_percent(x, col):\n",
    "    churn_pct = 0\n",
    "    if (x[col] >0) & ((x[col] - x[col-1]) < 0):\n",
    "        churn_value = x[col-1] - x[col]\n",
    "        churn_pct = round((churn_value / (x[col-1])*100))\n",
    "        \n",
    "    return churn_pct\n",
    "\n",
    "\n",
    "# for every year\n",
    "for col in year_cols[1:]:\n",
    "    print(f' {col}  -  {col-1}')   \n",
    "       \n",
    "    bookings_by_year['churn_'+str(col)] = bookings_by_year.apply(get_status, col=col, axis=1)\n",
    "    bookings_by_year['total_'+str(col)] = bookings_by_year.apply(get_total_churn_value, col=col, axis=1)\n",
    "    bookings_by_year['partial_'+str(col)] = bookings_by_year.apply(get_partial_churn_value, col=col, axis=1)\n",
    "    bookings_by_year['partial_pct_'+str(col)] = bookings_by_year.apply(get_partial_churn_percent, col=col, axis=1)\n",
    "    \n"
   ]
  },
  {
   "cell_type": "code",
   "execution_count": 57,
   "metadata": {},
   "outputs": [],
   "source": [
    "partial_churn_by_year = bookings_by_year[\n",
    "    ['SIS Id  (Agreement SIS)', 'Product Line Level 2',\n",
    "     2015, 2016, 2017, 2018, 2019, 2020,\n",
    "     'partial_pct_2016', 'partial_pct_2017', 'partial_pct_2018', 'partial_pct_2019',\n",
    "    'partial_2016', 'partial_2017', 'partial_2018', 'partial_2019'    \n",
    "    ]    \n",
    "]\n",
    "\n",
    "partial_churners = (partial_churn_by_year.partial_pct_2016 + partial_churn_by_year.partial_pct_2017 + partial_churn_by_year.partial_pct_2018 + partial_churn_by_year.partial_pct_2019) > 0 \n",
    "\n",
    "partial_churners = partial_churn_by_year[partial_churners]"
   ]
  },
  {
   "cell_type": "code",
   "execution_count": 58,
   "metadata": {},
   "outputs": [
    {
     "name": "stderr",
     "output_type": "stream",
     "text": [
      "<ipython-input-58-5c2fd244691c>:6: SettingWithCopyWarning: \n",
      "A value is trying to be set on a copy of a slice from a DataFrame.\n",
      "Try using .loc[row_indexer,col_indexer] = value instead\n",
      "\n",
      "See the caveats in the documentation: https://pandas.pydata.org/pandas-docs/stable/user_guide/indexing.html#returning-a-view-versus-a-copy\n",
      "  partial_churners[new_col] = pd.cut(partial_churners[col],\n"
     ]
    }
   ],
   "source": [
    "partial_churn_pct_cols = ['partial_pct_2016', 'partial_pct_2017', 'partial_pct_2018', 'partial_pct_2019']\n",
    "\n",
    "for col in partial_churn_pct_cols:\n",
    "    new_col = col+'_cat'\n",
    "\n",
    "    partial_churners[new_col] = pd.cut(partial_churners[col],\n",
    "           bins=[1,5,10,20,30,40,50,60,70,80,\n",
    "                     max(partial_churners[col])],labels=['1_to_5_pct_churn', '5_to_10_pct_churn', \n",
    "                                          '10_to_20_pct_churn', '20_to_30_pct_churn',  '30_to_40_pct_churn', '40_to_50_pct_churn', \n",
    "                                          '50_to_60_pct_churn','60_to_70_pct_churn', '70_to_80_pct_churn', 'over_80_pct_churn'])\n",
    "    \n"
   ]
  },
  {
   "cell_type": "code",
   "execution_count": 59,
   "metadata": {},
   "outputs": [
    {
     "data": {
      "text/html": [
       "<div>\n",
       "<style scoped>\n",
       "    .dataframe tbody tr th:only-of-type {\n",
       "        vertical-align: middle;\n",
       "    }\n",
       "\n",
       "    .dataframe tbody tr th {\n",
       "        vertical-align: top;\n",
       "    }\n",
       "\n",
       "    .dataframe thead th {\n",
       "        text-align: right;\n",
       "    }\n",
       "</style>\n",
       "<table border=\"1\" class=\"dataframe\">\n",
       "  <thead>\n",
       "    <tr style=\"text-align: right;\">\n",
       "      <th></th>\n",
       "      <th>SIS Id  (Agreement SIS)</th>\n",
       "      <th>Product Line Level 2</th>\n",
       "      <th>2015</th>\n",
       "      <th>2016</th>\n",
       "      <th>2017</th>\n",
       "      <th>2018</th>\n",
       "      <th>2019</th>\n",
       "      <th>2020</th>\n",
       "      <th>partial_pct_2016</th>\n",
       "      <th>partial_pct_2017</th>\n",
       "      <th>partial_pct_2018</th>\n",
       "      <th>partial_pct_2019</th>\n",
       "      <th>partial_2016</th>\n",
       "      <th>partial_2017</th>\n",
       "      <th>partial_2018</th>\n",
       "      <th>partial_2019</th>\n",
       "      <th>partial_pct_2016_cat</th>\n",
       "      <th>partial_pct_2017_cat</th>\n",
       "      <th>partial_pct_2018_cat</th>\n",
       "      <th>partial_pct_2019_cat</th>\n",
       "    </tr>\n",
       "  </thead>\n",
       "  <tbody>\n",
       "    <tr>\n",
       "      <th>7</th>\n",
       "      <td>ECR-1</td>\n",
       "      <td>EV</td>\n",
       "      <td>$40,000</td>\n",
       "      <td>$177,903</td>\n",
       "      <td>$127,603</td>\n",
       "      <td>$-127,603</td>\n",
       "      <td>$0</td>\n",
       "      <td>$0</td>\n",
       "      <td>0</td>\n",
       "      <td>28</td>\n",
       "      <td>0</td>\n",
       "      <td>0</td>\n",
       "      <td>$0</td>\n",
       "      <td>$50,300</td>\n",
       "      <td>$0</td>\n",
       "      <td>$0</td>\n",
       "      <td>NaN</td>\n",
       "      <td>20_to_30_pct_churn</td>\n",
       "      <td>NaN</td>\n",
       "      <td>NaN</td>\n",
       "    </tr>\n",
       "    <tr>\n",
       "      <th>9</th>\n",
       "      <td>ECR-1</td>\n",
       "      <td>Journals Backfiles</td>\n",
       "      <td>$68,193</td>\n",
       "      <td>$70,239</td>\n",
       "      <td>$68,132</td>\n",
       "      <td>$69,399</td>\n",
       "      <td>$69,399</td>\n",
       "      <td>$0</td>\n",
       "      <td>0</td>\n",
       "      <td>3</td>\n",
       "      <td>0</td>\n",
       "      <td>0</td>\n",
       "      <td>$0</td>\n",
       "      <td>$2,107</td>\n",
       "      <td>$0</td>\n",
       "      <td>$0</td>\n",
       "      <td>NaN</td>\n",
       "      <td>1_to_5_pct_churn</td>\n",
       "      <td>NaN</td>\n",
       "      <td>NaN</td>\n",
       "    </tr>\n",
       "    <tr>\n",
       "      <th>10</th>\n",
       "      <td>ECR-1</td>\n",
       "      <td>Journals Electronic Subscriptions</td>\n",
       "      <td>$904,372</td>\n",
       "      <td>$931,503</td>\n",
       "      <td>$903,588</td>\n",
       "      <td>$920,395</td>\n",
       "      <td>$920,395</td>\n",
       "      <td>$0</td>\n",
       "      <td>0</td>\n",
       "      <td>3</td>\n",
       "      <td>0</td>\n",
       "      <td>0</td>\n",
       "      <td>$0</td>\n",
       "      <td>$27,915</td>\n",
       "      <td>$0</td>\n",
       "      <td>$0</td>\n",
       "      <td>NaN</td>\n",
       "      <td>1_to_5_pct_churn</td>\n",
       "      <td>NaN</td>\n",
       "      <td>NaN</td>\n",
       "    </tr>\n",
       "    <tr>\n",
       "      <th>12</th>\n",
       "      <td>ECR-1</td>\n",
       "      <td>Reaxys</td>\n",
       "      <td>$112,000</td>\n",
       "      <td>$112,000</td>\n",
       "      <td>$112,000</td>\n",
       "      <td>$56,000</td>\n",
       "      <td>$0</td>\n",
       "      <td>$0</td>\n",
       "      <td>0</td>\n",
       "      <td>0</td>\n",
       "      <td>50</td>\n",
       "      <td>0</td>\n",
       "      <td>$0</td>\n",
       "      <td>$0</td>\n",
       "      <td>$56,000</td>\n",
       "      <td>$0</td>\n",
       "      <td>NaN</td>\n",
       "      <td>NaN</td>\n",
       "      <td>40_to_50_pct_churn</td>\n",
       "      <td>NaN</td>\n",
       "    </tr>\n",
       "    <tr>\n",
       "      <th>13</th>\n",
       "      <td>ECR-1</td>\n",
       "      <td>SCOPUS</td>\n",
       "      <td>$179,028</td>\n",
       "      <td>$184,399</td>\n",
       "      <td>$178,867</td>\n",
       "      <td>$188,705</td>\n",
       "      <td>$194,366</td>\n",
       "      <td>$0</td>\n",
       "      <td>0</td>\n",
       "      <td>3</td>\n",
       "      <td>0</td>\n",
       "      <td>0</td>\n",
       "      <td>$0</td>\n",
       "      <td>$5,532</td>\n",
       "      <td>$0</td>\n",
       "      <td>$0</td>\n",
       "      <td>NaN</td>\n",
       "      <td>1_to_5_pct_churn</td>\n",
       "      <td>NaN</td>\n",
       "      <td>NaN</td>\n",
       "    </tr>\n",
       "    <tr>\n",
       "      <th>...</th>\n",
       "      <td>...</td>\n",
       "      <td>...</td>\n",
       "      <td>...</td>\n",
       "      <td>...</td>\n",
       "      <td>...</td>\n",
       "      <td>...</td>\n",
       "      <td>...</td>\n",
       "      <td>...</td>\n",
       "      <td>...</td>\n",
       "      <td>...</td>\n",
       "      <td>...</td>\n",
       "      <td>...</td>\n",
       "      <td>...</td>\n",
       "      <td>...</td>\n",
       "      <td>...</td>\n",
       "      <td>...</td>\n",
       "      <td>...</td>\n",
       "      <td>...</td>\n",
       "      <td>...</td>\n",
       "      <td>...</td>\n",
       "    </tr>\n",
       "    <tr>\n",
       "      <th>28110</th>\n",
       "      <td>ECR-996</td>\n",
       "      <td>Journal Level Sales</td>\n",
       "      <td>$40,375</td>\n",
       "      <td>$57,897</td>\n",
       "      <td>$52,661</td>\n",
       "      <td>$52,194</td>\n",
       "      <td>$54,152</td>\n",
       "      <td>$0</td>\n",
       "      <td>0</td>\n",
       "      <td>9</td>\n",
       "      <td>1</td>\n",
       "      <td>0</td>\n",
       "      <td>$0</td>\n",
       "      <td>$5,236</td>\n",
       "      <td>$466</td>\n",
       "      <td>$0</td>\n",
       "      <td>NaN</td>\n",
       "      <td>5_to_10_pct_churn</td>\n",
       "      <td>NaN</td>\n",
       "      <td>NaN</td>\n",
       "    </tr>\n",
       "    <tr>\n",
       "      <th>28113</th>\n",
       "      <td>ECR-996</td>\n",
       "      <td>Mendeley Institutional Edition</td>\n",
       "      <td>$39,614</td>\n",
       "      <td>$41,595</td>\n",
       "      <td>$58,233</td>\n",
       "      <td>$44,985</td>\n",
       "      <td>$0</td>\n",
       "      <td>$0</td>\n",
       "      <td>0</td>\n",
       "      <td>0</td>\n",
       "      <td>23</td>\n",
       "      <td>0</td>\n",
       "      <td>$0</td>\n",
       "      <td>$0</td>\n",
       "      <td>$13,248</td>\n",
       "      <td>$0</td>\n",
       "      <td>NaN</td>\n",
       "      <td>NaN</td>\n",
       "      <td>20_to_30_pct_churn</td>\n",
       "      <td>NaN</td>\n",
       "    </tr>\n",
       "    <tr>\n",
       "      <th>28116</th>\n",
       "      <td>ECR-996</td>\n",
       "      <td>eBooks</td>\n",
       "      <td>$39,208</td>\n",
       "      <td>$34,926</td>\n",
       "      <td>$36,235</td>\n",
       "      <td>$37,594</td>\n",
       "      <td>$39,004</td>\n",
       "      <td>$0</td>\n",
       "      <td>11</td>\n",
       "      <td>0</td>\n",
       "      <td>0</td>\n",
       "      <td>0</td>\n",
       "      <td>$4,283</td>\n",
       "      <td>$0</td>\n",
       "      <td>$0</td>\n",
       "      <td>$0</td>\n",
       "      <td>10_to_20_pct_churn</td>\n",
       "      <td>NaN</td>\n",
       "      <td>NaN</td>\n",
       "      <td>NaN</td>\n",
       "    </tr>\n",
       "    <tr>\n",
       "      <th>28118</th>\n",
       "      <td>ECR-997</td>\n",
       "      <td>EV</td>\n",
       "      <td>$108,771</td>\n",
       "      <td>$113,138</td>\n",
       "      <td>$117,683</td>\n",
       "      <td>$122,287</td>\n",
       "      <td>$27,777</td>\n",
       "      <td>$0</td>\n",
       "      <td>0</td>\n",
       "      <td>0</td>\n",
       "      <td>0</td>\n",
       "      <td>77</td>\n",
       "      <td>$0</td>\n",
       "      <td>$0</td>\n",
       "      <td>$0</td>\n",
       "      <td>$94,510</td>\n",
       "      <td>NaN</td>\n",
       "      <td>NaN</td>\n",
       "      <td>NaN</td>\n",
       "      <td>70_to_80_pct_churn</td>\n",
       "    </tr>\n",
       "    <tr>\n",
       "      <th>28127</th>\n",
       "      <td>ECR-998</td>\n",
       "      <td>SSRN</td>\n",
       "      <td>$10,933</td>\n",
       "      <td>$11,670</td>\n",
       "      <td>$890</td>\n",
       "      <td>$917</td>\n",
       "      <td>$0</td>\n",
       "      <td>$0</td>\n",
       "      <td>0</td>\n",
       "      <td>92</td>\n",
       "      <td>0</td>\n",
       "      <td>0</td>\n",
       "      <td>$0</td>\n",
       "      <td>$10,780</td>\n",
       "      <td>$0</td>\n",
       "      <td>$0</td>\n",
       "      <td>NaN</td>\n",
       "      <td>over_80_pct_churn</td>\n",
       "      <td>NaN</td>\n",
       "      <td>NaN</td>\n",
       "    </tr>\n",
       "  </tbody>\n",
       "</table>\n",
       "<p>6213 rows × 20 columns</p>\n",
       "</div>"
      ],
      "text/plain": [
       "      SIS Id  (Agreement SIS)               Product Line Level 2     2015     2016     2017      2018     2019  2020  partial_pct_2016  partial_pct_2017  partial_pct_2018  partial_pct_2019  partial_2016  partial_2017  partial_2018  partial_2019 partial_pct_2016_cat partial_pct_2017_cat partial_pct_2018_cat partial_pct_2019_cat\n",
       "7                       ECR-1                                 EV  $40,000 $177,903 $127,603 $-127,603       $0    $0                 0                28                 0                 0            $0       $50,300            $0            $0                  NaN   20_to_30_pct_churn                  NaN                  NaN\n",
       "9                       ECR-1                 Journals Backfiles  $68,193  $70,239  $68,132   $69,399  $69,399    $0                 0                 3                 0                 0            $0        $2,107            $0            $0                  NaN     1_to_5_pct_churn                  NaN                  NaN\n",
       "10                      ECR-1  Journals Electronic Subscriptions $904,372 $931,503 $903,588  $920,395 $920,395    $0                 0                 3                 0                 0            $0       $27,915            $0            $0                  NaN     1_to_5_pct_churn                  NaN                  NaN\n",
       "12                      ECR-1                             Reaxys $112,000 $112,000 $112,000   $56,000       $0    $0                 0                 0                50                 0            $0            $0       $56,000            $0                  NaN                  NaN   40_to_50_pct_churn                  NaN\n",
       "13                      ECR-1                             SCOPUS $179,028 $184,399 $178,867  $188,705 $194,366    $0                 0                 3                 0                 0            $0        $5,532            $0            $0                  NaN     1_to_5_pct_churn                  NaN                  NaN\n",
       "...                       ...                                ...      ...      ...      ...       ...      ...   ...               ...               ...               ...               ...           ...           ...           ...           ...                  ...                  ...                  ...                  ...\n",
       "28110                 ECR-996                Journal Level Sales  $40,375  $57,897  $52,661   $52,194  $54,152    $0                 0                 9                 1                 0            $0        $5,236          $466            $0                  NaN    5_to_10_pct_churn                  NaN                  NaN\n",
       "28113                 ECR-996     Mendeley Institutional Edition  $39,614  $41,595  $58,233   $44,985       $0    $0                 0                 0                23                 0            $0            $0       $13,248            $0                  NaN                  NaN   20_to_30_pct_churn                  NaN\n",
       "28116                 ECR-996                             eBooks  $39,208  $34,926  $36,235   $37,594  $39,004    $0                11                 0                 0                 0        $4,283            $0            $0            $0   10_to_20_pct_churn                  NaN                  NaN                  NaN\n",
       "28118                 ECR-997                                 EV $108,771 $113,138 $117,683  $122,287  $27,777    $0                 0                 0                 0                77            $0            $0            $0       $94,510                  NaN                  NaN                  NaN   70_to_80_pct_churn\n",
       "28127                 ECR-998                               SSRN  $10,933  $11,670     $890      $917       $0    $0                 0                92                 0                 0            $0       $10,780            $0            $0                  NaN    over_80_pct_churn                  NaN                  NaN\n",
       "\n",
       "[6213 rows x 20 columns]"
      ]
     },
     "execution_count": 59,
     "metadata": {},
     "output_type": "execute_result"
    }
   ],
   "source": [
    "partial_churners"
   ]
  },
  {
   "cell_type": "code",
   "execution_count": 60,
   "metadata": {},
   "outputs": [
    {
     "name": "stdout",
     "output_type": "stream",
     "text": [
      "=========== 2019 ===========\n",
      "40_to_50_pct_churn   25.67\n",
      "20_to_30_pct_churn   11.83\n",
      "10_to_20_pct_churn   11.16\n",
      "5_to_10_pct_churn     9.49\n",
      "1_to_5_pct_churn      9.49\n",
      "over_80_pct_churn     8.29\n",
      "30_to_40_pct_churn    8.22\n",
      "50_to_60_pct_churn    5.82\n",
      "60_to_70_pct_churn    5.75\n",
      "70_to_80_pct_churn    4.28\n",
      "Name: partial_pct_2019_cat, dtype: float64\n",
      "=========== 2018 ===========\n",
      "40_to_50_pct_churn   28.14\n",
      "10_to_20_pct_churn   11.48\n",
      "over_80_pct_churn    10.15\n",
      "1_to_5_pct_churn     10.05\n",
      "5_to_10_pct_churn     9.23\n",
      "20_to_30_pct_churn    7.84\n",
      "30_to_40_pct_churn    7.23\n",
      "50_to_60_pct_churn    6.46\n",
      "60_to_70_pct_churn    5.33\n",
      "70_to_80_pct_churn    4.10\n",
      "Name: partial_pct_2018_cat, dtype: float64\n",
      "=========== 2017 ===========\n",
      "40_to_50_pct_churn   26.33\n",
      "10_to_20_pct_churn   11.29\n",
      "50_to_60_pct_churn   10.03\n",
      "20_to_30_pct_churn    9.77\n",
      "5_to_10_pct_churn     8.51\n",
      "1_to_5_pct_churn      8.51\n",
      "30_to_40_pct_churn    8.20\n",
      "over_80_pct_churn     7.75\n",
      "60_to_70_pct_churn    5.87\n",
      "70_to_80_pct_churn    3.75\n",
      "Name: partial_pct_2017_cat, dtype: float64\n",
      "=========== 2016 ===========\n",
      "40_to_50_pct_churn   24.09\n",
      "10_to_20_pct_churn   12.53\n",
      "30_to_40_pct_churn   12.13\n",
      "20_to_30_pct_churn   11.56\n",
      "1_to_5_pct_churn      9.28\n",
      "5_to_10_pct_churn     7.40\n",
      "over_80_pct_churn     7.23\n",
      "60_to_70_pct_churn    6.32\n",
      "50_to_60_pct_churn    6.04\n",
      "70_to_80_pct_churn    3.42\n",
      "Name: partial_pct_2016_cat, dtype: float64\n"
     ]
    }
   ],
   "source": [
    "pd.set_option('display.float_format', lambda x: '%.2f' % x)\n",
    "print(\"=========== 2019 ===========\")\n",
    "print(100. * partial_churners['partial_pct_2019_cat'].value_counts(dropna=True) / partial_churners['partial_pct_2019_cat'].value_counts().sum())\n",
    "print(\"=========== 2018 ===========\")\n",
    "print(100. * partial_churners['partial_pct_2018_cat'].value_counts(dropna=True) / partial_churners['partial_pct_2018_cat'].value_counts().sum())\n",
    "print(\"=========== 2017 ===========\")\n",
    "print(100. * partial_churners['partial_pct_2017_cat'].value_counts(dropna=True) / partial_churners['partial_pct_2017_cat'].value_counts().sum())\n",
    "print(\"=========== 2016 ===========\")\n",
    "print(100. * partial_churners['partial_pct_2016_cat'].value_counts(dropna=True) / partial_churners['partial_pct_2016_cat'].value_counts().sum())"
   ]
  },
  {
   "cell_type": "code",
   "execution_count": 61,
   "metadata": {},
   "outputs": [
    {
     "data": {
      "text/plain": [
       "<matplotlib.axes._subplots.AxesSubplot at 0x15c03bf2a90>"
      ]
     },
     "execution_count": 61,
     "metadata": {},
     "output_type": "execute_result"
    },
    {
     "data": {
      "image/png": "[encoded data removed]",
      "text/plain": [
       "<Figure size 432x288 with 1 Axes>"
      ]
     },
     "metadata": {
      "needs_background": "light"
     },
     "output_type": "display_data"
    }
   ],
   "source": [
    "partial_churners['partial_pct_2019_cat'].value_counts(dropna=True).plot(kind='barh', color='orange')"
   ]
  },
  {
   "cell_type": "code",
   "execution_count": 62,
   "metadata": {},
   "outputs": [
    {
     "data": {
      "text/plain": [
       "<matplotlib.axes._subplots.AxesSubplot at 0x15c026c3070>"
      ]
     },
     "execution_count": 62,
     "metadata": {},
     "output_type": "execute_result"
    },
    {
     "data": {
      "image/png": "[encoded data removed]",
      "text/plain": [
       "<Figure size 432x288 with 1 Axes>"
      ]
     },
     "metadata": {
      "needs_background": "light"
     },
     "output_type": "display_data"
    }
   ],
   "source": [
    "partial_churners['partial_pct_2018_cat'].value_counts(dropna=True).plot(kind='barh', color='orange')"
   ]
  },
  {
   "cell_type": "code",
   "execution_count": 63,
   "metadata": {},
   "outputs": [
    {
     "data": {
      "text/plain": [
       "<matplotlib.axes._subplots.AxesSubplot at 0x15c175d3a30>"
      ]
     },
     "execution_count": 63,
     "metadata": {},
     "output_type": "execute_result"
    },
    {
     "data": {
      "image/png": "[encoded data removed]",
      "text/plain": [
       "<Figure size 432x288 with 1 Axes>"
      ]
     },
     "metadata": {
      "needs_background": "light"
     },
     "output_type": "display_data"
    }
   ],
   "source": [
    "partial_churners['partial_pct_2017_cat'].value_counts(dropna=True).plot(kind='barh', color='orange')"
   ]
  },
  {
   "cell_type": "code",
   "execution_count": 64,
   "metadata": {},
   "outputs": [
    {
     "data": {
      "text/plain": [
       "<matplotlib.axes._subplots.AxesSubplot at 0x15c2fc25fa0>"
      ]
     },
     "execution_count": 64,
     "metadata": {},
     "output_type": "execute_result"
    },
    {
     "data": {
      "image/png": "[encoded data removed]",
      "text/plain": [
       "<Figure size 432x288 with 1 Axes>"
      ]
     },
     "metadata": {
      "needs_background": "light"
     },
     "output_type": "display_data"
    }
   ],
   "source": [
    "partial_churners['partial_pct_2016_cat'].value_counts(dropna=True).plot(kind='barh', color='orange')"
   ]
  },
  {
   "cell_type": "code",
   "execution_count": 65,
   "metadata": {},
   "outputs": [],
   "source": [
    "bookings_by_year['TREND_TEXT'] = bookings_by_year['churn_2016'] +'-'+ bookings_by_year['churn_2017'] +'-'+ bookings_by_year['churn_2018']"
   ]
  },
  {
   "cell_type": "code",
   "execution_count": 66,
   "metadata": {},
   "outputs": [
    {
     "data": {
      "text/plain": [
       "total_2016     120301045.45\n",
       "partial_2016   242518141.70\n",
       "total_2017     169732495.40\n",
       "partial_2017   163888893.23\n",
       "total_2018     219739244.69\n",
       "partial_2018   210166751.99\n",
       "total_2019     364427086.79\n",
       "partial_2019   269264961.64\n",
       "dtype: float64"
      ]
     },
     "execution_count": 66,
     "metadata": {},
     "output_type": "execute_result"
    }
   ],
   "source": [
    "bookings_by_year[['total_2016', 'partial_2016', 'total_2017', 'partial_2017', \n",
    "                  'total_2018', 'partial_2018', 'total_2019', 'partial_2019', ]].sum()"
   ]
  },
  {
   "cell_type": "code",
   "execution_count": 56,
   "metadata": {},
   "outputs": [
    {
     "data": {
      "text/html": [
       "<div>\n",
       "<style scoped>\n",
       "    .dataframe tbody tr th:only-of-type {\n",
       "        vertical-align: middle;\n",
       "    }\n",
       "\n",
       "    .dataframe tbody tr th {\n",
       "        vertical-align: top;\n",
       "    }\n",
       "\n",
       "    .dataframe thead th {\n",
       "        text-align: right;\n",
       "    }\n",
       "</style>\n",
       "<table border=\"1\" class=\"dataframe\">\n",
       "  <thead>\n",
       "    <tr style=\"text-align: right;\">\n",
       "      <th></th>\n",
       "      <th>SIS Id  (Agreement SIS)</th>\n",
       "      <th>Product Line Level 2</th>\n",
       "      <th>2015</th>\n",
       "      <th>2016</th>\n",
       "      <th>2017</th>\n",
       "      <th>2018</th>\n",
       "      <th>2019</th>\n",
       "      <th>2020</th>\n",
       "      <th>churn_2016</th>\n",
       "      <th>total_2016</th>\n",
       "      <th>...</th>\n",
       "      <th>partial_pct_2017</th>\n",
       "      <th>churn_2018</th>\n",
       "      <th>total_2018</th>\n",
       "      <th>partial_2018</th>\n",
       "      <th>partial_pct_2018</th>\n",
       "      <th>churn_2019</th>\n",
       "      <th>total_2019</th>\n",
       "      <th>partial_2019</th>\n",
       "      <th>partial_pct_2019</th>\n",
       "      <th>TREND_TEXT</th>\n",
       "    </tr>\n",
       "  </thead>\n",
       "  <tbody>\n",
       "    <tr>\n",
       "      <th>0</th>\n",
       "      <td>1107461</td>\n",
       "      <td>Knovel</td>\n",
       "      <td>-2245.61</td>\n",
       "      <td>0.00</td>\n",
       "      <td>0.00</td>\n",
       "      <td>0.00</td>\n",
       "      <td>0.00</td>\n",
       "      <td>0</td>\n",
       "      <td>LOST</td>\n",
       "      <td>0.00</td>\n",
       "      <td>...</td>\n",
       "      <td>0</td>\n",
       "      <td>LOST</td>\n",
       "      <td>0.00</td>\n",
       "      <td>0.00</td>\n",
       "      <td>0</td>\n",
       "      <td>LOST</td>\n",
       "      <td>0.00</td>\n",
       "      <td>0.00</td>\n",
       "      <td>0</td>\n",
       "      <td>LOST-LOST-LOST</td>\n",
       "    </tr>\n",
       "    <tr>\n",
       "      <th>1</th>\n",
       "      <td>1110518</td>\n",
       "      <td>embase</td>\n",
       "      <td>0.00</td>\n",
       "      <td>0.00</td>\n",
       "      <td>17529.00</td>\n",
       "      <td>0.00</td>\n",
       "      <td>0.00</td>\n",
       "      <td>0</td>\n",
       "      <td>LOST</td>\n",
       "      <td>0.00</td>\n",
       "      <td>...</td>\n",
       "      <td>0</td>\n",
       "      <td>TOTAL_CHURN</td>\n",
       "      <td>17529.00</td>\n",
       "      <td>0.00</td>\n",
       "      <td>0</td>\n",
       "      <td>LOST</td>\n",
       "      <td>0.00</td>\n",
       "      <td>0.00</td>\n",
       "      <td>0</td>\n",
       "      <td>LOST-UPSOLD-TOTAL_CHURN</td>\n",
       "    </tr>\n",
       "    <tr>\n",
       "      <th>2</th>\n",
       "      <td>1211459</td>\n",
       "      <td>SSRN</td>\n",
       "      <td>202.10</td>\n",
       "      <td>0.00</td>\n",
       "      <td>0.00</td>\n",
       "      <td>0.00</td>\n",
       "      <td>0.00</td>\n",
       "      <td>0</td>\n",
       "      <td>TOTAL_CHURN</td>\n",
       "      <td>202.10</td>\n",
       "      <td>...</td>\n",
       "      <td>0</td>\n",
       "      <td>LOST</td>\n",
       "      <td>0.00</td>\n",
       "      <td>0.00</td>\n",
       "      <td>0</td>\n",
       "      <td>LOST</td>\n",
       "      <td>0.00</td>\n",
       "      <td>0.00</td>\n",
       "      <td>0</td>\n",
       "      <td>TOTAL_CHURN-LOST-LOST</td>\n",
       "    </tr>\n",
       "    <tr>\n",
       "      <th>3</th>\n",
       "      <td>394770</td>\n",
       "      <td>SCOPUS</td>\n",
       "      <td>-4056.77</td>\n",
       "      <td>0.00</td>\n",
       "      <td>0.00</td>\n",
       "      <td>0.00</td>\n",
       "      <td>0.00</td>\n",
       "      <td>0</td>\n",
       "      <td>LOST</td>\n",
       "      <td>0.00</td>\n",
       "      <td>...</td>\n",
       "      <td>0</td>\n",
       "      <td>LOST</td>\n",
       "      <td>0.00</td>\n",
       "      <td>0.00</td>\n",
       "      <td>0</td>\n",
       "      <td>LOST</td>\n",
       "      <td>0.00</td>\n",
       "      <td>0.00</td>\n",
       "      <td>0</td>\n",
       "      <td>LOST-LOST-LOST</td>\n",
       "    </tr>\n",
       "    <tr>\n",
       "      <th>4</th>\n",
       "      <td>416754</td>\n",
       "      <td>Journals Electronic Subscriptions</td>\n",
       "      <td>38207.91</td>\n",
       "      <td>0.00</td>\n",
       "      <td>0.00</td>\n",
       "      <td>0.00</td>\n",
       "      <td>0.00</td>\n",
       "      <td>0</td>\n",
       "      <td>TOTAL_CHURN</td>\n",
       "      <td>38207.91</td>\n",
       "      <td>...</td>\n",
       "      <td>0</td>\n",
       "      <td>LOST</td>\n",
       "      <td>0.00</td>\n",
       "      <td>0.00</td>\n",
       "      <td>0</td>\n",
       "      <td>LOST</td>\n",
       "      <td>0.00</td>\n",
       "      <td>0.00</td>\n",
       "      <td>0</td>\n",
       "      <td>TOTAL_CHURN-LOST-LOST</td>\n",
       "    </tr>\n",
       "    <tr>\n",
       "      <th>...</th>\n",
       "      <td>...</td>\n",
       "      <td>...</td>\n",
       "      <td>...</td>\n",
       "      <td>...</td>\n",
       "      <td>...</td>\n",
       "      <td>...</td>\n",
       "      <td>...</td>\n",
       "      <td>...</td>\n",
       "      <td>...</td>\n",
       "      <td>...</td>\n",
       "      <td>...</td>\n",
       "      <td>...</td>\n",
       "      <td>...</td>\n",
       "      <td>...</td>\n",
       "      <td>...</td>\n",
       "      <td>...</td>\n",
       "      <td>...</td>\n",
       "      <td>...</td>\n",
       "      <td>...</td>\n",
       "      <td>...</td>\n",
       "      <td>...</td>\n",
       "    </tr>\n",
       "    <tr>\n",
       "      <th>27997</th>\n",
       "      <td>ECR-998</td>\n",
       "      <td>Journals Electronic Subscriptions</td>\n",
       "      <td>1020821.58</td>\n",
       "      <td>1053712.45</td>\n",
       "      <td>1095160.28</td>\n",
       "      <td>1137674.93</td>\n",
       "      <td>1179126.81</td>\n",
       "      <td>0</td>\n",
       "      <td>UPSOLD</td>\n",
       "      <td>0.00</td>\n",
       "      <td>...</td>\n",
       "      <td>0</td>\n",
       "      <td>UPSOLD</td>\n",
       "      <td>0.00</td>\n",
       "      <td>0.00</td>\n",
       "      <td>0</td>\n",
       "      <td>UPSOLD</td>\n",
       "      <td>0.00</td>\n",
       "      <td>0.00</td>\n",
       "      <td>0</td>\n",
       "      <td>UPSOLD-UPSOLD-UPSOLD</td>\n",
       "    </tr>\n",
       "    <tr>\n",
       "      <th>27998</th>\n",
       "      <td>ECR-998</td>\n",
       "      <td>Knovel</td>\n",
       "      <td>30574.00</td>\n",
       "      <td>31950.00</td>\n",
       "      <td>33388.00</td>\n",
       "      <td>34724.00</td>\n",
       "      <td>0.00</td>\n",
       "      <td>0</td>\n",
       "      <td>UPSOLD</td>\n",
       "      <td>0.00</td>\n",
       "      <td>...</td>\n",
       "      <td>0</td>\n",
       "      <td>UPSOLD</td>\n",
       "      <td>0.00</td>\n",
       "      <td>0.00</td>\n",
       "      <td>0</td>\n",
       "      <td>TOTAL_CHURN</td>\n",
       "      <td>34724.00</td>\n",
       "      <td>0.00</td>\n",
       "      <td>0</td>\n",
       "      <td>UPSOLD-UPSOLD-UPSOLD</td>\n",
       "    </tr>\n",
       "    <tr>\n",
       "      <th>27999</th>\n",
       "      <td>ECR-998</td>\n",
       "      <td>Reaxys</td>\n",
       "      <td>30778.00</td>\n",
       "      <td>32009.00</td>\n",
       "      <td>33289.00</td>\n",
       "      <td>34621.00</td>\n",
       "      <td>36005.00</td>\n",
       "      <td>0</td>\n",
       "      <td>UPSOLD</td>\n",
       "      <td>0.00</td>\n",
       "      <td>...</td>\n",
       "      <td>0</td>\n",
       "      <td>UPSOLD</td>\n",
       "      <td>0.00</td>\n",
       "      <td>0.00</td>\n",
       "      <td>0</td>\n",
       "      <td>UPSOLD</td>\n",
       "      <td>0.00</td>\n",
       "      <td>0.00</td>\n",
       "      <td>0</td>\n",
       "      <td>UPSOLD-UPSOLD-UPSOLD</td>\n",
       "    </tr>\n",
       "    <tr>\n",
       "      <th>28000</th>\n",
       "      <td>ECR-998</td>\n",
       "      <td>SSRN</td>\n",
       "      <td>10933.00</td>\n",
       "      <td>11670.00</td>\n",
       "      <td>890.00</td>\n",
       "      <td>916.70</td>\n",
       "      <td>0.00</td>\n",
       "      <td>0</td>\n",
       "      <td>UPSOLD</td>\n",
       "      <td>0.00</td>\n",
       "      <td>...</td>\n",
       "      <td>92</td>\n",
       "      <td>UPSOLD</td>\n",
       "      <td>0.00</td>\n",
       "      <td>0.00</td>\n",
       "      <td>0</td>\n",
       "      <td>TOTAL_CHURN</td>\n",
       "      <td>916.70</td>\n",
       "      <td>0.00</td>\n",
       "      <td>0</td>\n",
       "      <td>UPSOLD-PARTIAL_CHURN-UPSOLD</td>\n",
       "    </tr>\n",
       "    <tr>\n",
       "      <th>28001</th>\n",
       "      <td>ECR-998</td>\n",
       "      <td>eBooks</td>\n",
       "      <td>3425.59</td>\n",
       "      <td>13948.61</td>\n",
       "      <td>14091.11</td>\n",
       "      <td>14654.75</td>\n",
       "      <td>15240.94</td>\n",
       "      <td>0</td>\n",
       "      <td>UPSOLD</td>\n",
       "      <td>0.00</td>\n",
       "      <td>...</td>\n",
       "      <td>0</td>\n",
       "      <td>UPSOLD</td>\n",
       "      <td>0.00</td>\n",
       "      <td>0.00</td>\n",
       "      <td>0</td>\n",
       "      <td>UPSOLD</td>\n",
       "      <td>0.00</td>\n",
       "      <td>0.00</td>\n",
       "      <td>0</td>\n",
       "      <td>UPSOLD-UPSOLD-UPSOLD</td>\n",
       "    </tr>\n",
       "  </tbody>\n",
       "</table>\n",
       "<p>28002 rows × 25 columns</p>\n",
       "</div>"
      ],
      "text/plain": [
       "      SIS Id  (Agreement SIS)               Product Line Level 2       2015       2016       2017       2018       2019  2020   churn_2016  total_2016  ...  partial_pct_2017   churn_2018 total_2018  partial_2018  partial_pct_2018   churn_2019 total_2019  partial_2019  partial_pct_2019                   TREND_TEXT\n",
       "0                     1107461                             Knovel   -2245.61       0.00       0.00       0.00       0.00     0         LOST        0.00  ...                 0         LOST       0.00          0.00                 0         LOST       0.00          0.00                 0               LOST-LOST-LOST\n",
       "1                     1110518                             embase       0.00       0.00   17529.00       0.00       0.00     0         LOST        0.00  ...                 0  TOTAL_CHURN   17529.00          0.00                 0         LOST       0.00          0.00                 0      LOST-UPSOLD-TOTAL_CHURN\n",
       "2                     1211459                               SSRN     202.10       0.00       0.00       0.00       0.00     0  TOTAL_CHURN      202.10  ...                 0         LOST       0.00          0.00                 0         LOST       0.00          0.00                 0        TOTAL_CHURN-LOST-LOST\n",
       "3                      394770                             SCOPUS   -4056.77       0.00       0.00       0.00       0.00     0         LOST        0.00  ...                 0         LOST       0.00          0.00                 0         LOST       0.00          0.00                 0               LOST-LOST-LOST\n",
       "4                      416754  Journals Electronic Subscriptions   38207.91       0.00       0.00       0.00       0.00     0  TOTAL_CHURN    38207.91  ...                 0         LOST       0.00          0.00                 0         LOST       0.00          0.00                 0        TOTAL_CHURN-LOST-LOST\n",
       "...                       ...                                ...        ...        ...        ...        ...        ...   ...          ...         ...  ...               ...          ...        ...           ...               ...          ...        ...           ...               ...                          ...\n",
       "27997                 ECR-998  Journals Electronic Subscriptions 1020821.58 1053712.45 1095160.28 1137674.93 1179126.81     0       UPSOLD        0.00  ...                 0       UPSOLD       0.00          0.00                 0       UPSOLD       0.00          0.00                 0         UPSOLD-UPSOLD-UPSOLD\n",
       "27998                 ECR-998                             Knovel   30574.00   31950.00   33388.00   34724.00       0.00     0       UPSOLD        0.00  ...                 0       UPSOLD       0.00          0.00                 0  TOTAL_CHURN   34724.00          0.00                 0         UPSOLD-UPSOLD-UPSOLD\n",
       "27999                 ECR-998                             Reaxys   30778.00   32009.00   33289.00   34621.00   36005.00     0       UPSOLD        0.00  ...                 0       UPSOLD       0.00          0.00                 0       UPSOLD       0.00          0.00                 0         UPSOLD-UPSOLD-UPSOLD\n",
       "28000                 ECR-998                               SSRN   10933.00   11670.00     890.00     916.70       0.00     0       UPSOLD        0.00  ...                92       UPSOLD       0.00          0.00                 0  TOTAL_CHURN     916.70          0.00                 0  UPSOLD-PARTIAL_CHURN-UPSOLD\n",
       "28001                 ECR-998                             eBooks    3425.59   13948.61   14091.11   14654.75   15240.94     0       UPSOLD        0.00  ...                 0       UPSOLD       0.00          0.00                 0       UPSOLD       0.00          0.00                 0         UPSOLD-UPSOLD-UPSOLD\n",
       "\n",
       "[28002 rows x 25 columns]"
      ]
     },
     "execution_count": 56,
     "metadata": {},
     "output_type": "execute_result"
    }
   ],
   "source": [
    "bookings_by_year"
   ]
  },
  {
   "cell_type": "code",
   "execution_count": 57,
   "metadata": {},
   "outputs": [
    {
     "data": {
      "text/html": [
       "<div>\n",
       "<style scoped>\n",
       "    .dataframe tbody tr th:only-of-type {\n",
       "        vertical-align: middle;\n",
       "    }\n",
       "\n",
       "    .dataframe tbody tr th {\n",
       "        vertical-align: top;\n",
       "    }\n",
       "\n",
       "    .dataframe thead th {\n",
       "        text-align: right;\n",
       "    }\n",
       "</style>\n",
       "<table border=\"1\" class=\"dataframe\">\n",
       "  <thead>\n",
       "    <tr style=\"text-align: right;\">\n",
       "      <th></th>\n",
       "      <th>TREND_TEXT</th>\n",
       "      <th>total_churn_2016</th>\n",
       "      <th>total_churn_2017</th>\n",
       "      <th>total_churn_2018</th>\n",
       "      <th>total_churn_2019</th>\n",
       "      <th>COUNTS</th>\n",
       "    </tr>\n",
       "  </thead>\n",
       "  <tbody>\n",
       "    <tr>\n",
       "      <th>64</th>\n",
       "      <td>UPSOLD-UPSOLD-UPSOLD</td>\n",
       "      <td>0.00</td>\n",
       "      <td>0.00</td>\n",
       "      <td>0.00</td>\n",
       "      <td>165009194.90</td>\n",
       "      <td>7652</td>\n",
       "    </tr>\n",
       "    <tr>\n",
       "      <th>0</th>\n",
       "      <td>LOST-LOST-LOST</td>\n",
       "      <td>0.00</td>\n",
       "      <td>0.00</td>\n",
       "      <td>0.00</td>\n",
       "      <td>244342.53</td>\n",
       "      <td>3349</td>\n",
       "    </tr>\n",
       "    <tr>\n",
       "      <th>2</th>\n",
       "      <td>LOST-LOST-UPSOLD</td>\n",
       "      <td>0.00</td>\n",
       "      <td>0.00</td>\n",
       "      <td>0.00</td>\n",
       "      <td>55773074.99</td>\n",
       "      <td>2015</td>\n",
       "    </tr>\n",
       "    <tr>\n",
       "      <th>40</th>\n",
       "      <td>TOTAL_CHURN-LOST-LOST</td>\n",
       "      <td>73486087.26</td>\n",
       "      <td>0.00</td>\n",
       "      <td>0.00</td>\n",
       "      <td>227489.21</td>\n",
       "      <td>1853</td>\n",
       "    </tr>\n",
       "    <tr>\n",
       "      <th>58</th>\n",
       "      <td>UPSOLD-TOTAL_CHURN-LOST</td>\n",
       "      <td>0.00</td>\n",
       "      <td>85618507.07</td>\n",
       "      <td>0.00</td>\n",
       "      <td>293682.49</td>\n",
       "      <td>1700</td>\n",
       "    </tr>\n",
       "    <tr>\n",
       "      <th>...</th>\n",
       "      <td>...</td>\n",
       "      <td>...</td>\n",
       "      <td>...</td>\n",
       "      <td>...</td>\n",
       "      <td>...</td>\n",
       "      <td>...</td>\n",
       "    </tr>\n",
       "    <tr>\n",
       "      <th>47</th>\n",
       "      <td>TOTAL_CHURN-UPSOLD-RETAINED</td>\n",
       "      <td>98901.95</td>\n",
       "      <td>0.00</td>\n",
       "      <td>0.00</td>\n",
       "      <td>89890.15</td>\n",
       "      <td>5</td>\n",
       "    </tr>\n",
       "    <tr>\n",
       "      <th>4</th>\n",
       "      <td>LOST-TOTAL_CHURN-TOTAL_CHURN</td>\n",
       "      <td>0.00</td>\n",
       "      <td>7598.04</td>\n",
       "      <td>35288.88</td>\n",
       "      <td>0.00</td>\n",
       "      <td>5</td>\n",
       "    </tr>\n",
       "    <tr>\n",
       "      <th>25</th>\n",
       "      <td>RETAINED-PARTIAL_CHURN-PARTIAL_CHURN</td>\n",
       "      <td>0.00</td>\n",
       "      <td>0.00</td>\n",
       "      <td>0.00</td>\n",
       "      <td>48713.50</td>\n",
       "      <td>3</td>\n",
       "    </tr>\n",
       "    <tr>\n",
       "      <th>44</th>\n",
       "      <td>TOTAL_CHURN-TOTAL_CHURN-TOTAL_CHURN</td>\n",
       "      <td>3978.02</td>\n",
       "      <td>2662.06</td>\n",
       "      <td>143.76</td>\n",
       "      <td>0.00</td>\n",
       "      <td>3</td>\n",
       "    </tr>\n",
       "    <tr>\n",
       "      <th>26</th>\n",
       "      <td>RETAINED-PARTIAL_CHURN-RETAINED</td>\n",
       "      <td>0.00</td>\n",
       "      <td>0.00</td>\n",
       "      <td>0.00</td>\n",
       "      <td>0.00</td>\n",
       "      <td>2</td>\n",
       "    </tr>\n",
       "  </tbody>\n",
       "</table>\n",
       "<p>65 rows × 6 columns</p>\n",
       "</div>"
      ],
      "text/plain": [
       "                              TREND_TEXT  total_churn_2016  total_churn_2017  total_churn_2018  total_churn_2019  COUNTS\n",
       "64                  UPSOLD-UPSOLD-UPSOLD              0.00              0.00              0.00      165009194.90    7652\n",
       "0                         LOST-LOST-LOST              0.00              0.00              0.00         244342.53    3349\n",
       "2                       LOST-LOST-UPSOLD              0.00              0.00              0.00       55773074.99    2015\n",
       "40                 TOTAL_CHURN-LOST-LOST       73486087.26              0.00              0.00         227489.21    1853\n",
       "58               UPSOLD-TOTAL_CHURN-LOST              0.00       85618507.07              0.00         293682.49    1700\n",
       "..                                   ...               ...               ...               ...               ...     ...\n",
       "47           TOTAL_CHURN-UPSOLD-RETAINED          98901.95              0.00              0.00          89890.15       5\n",
       "4           LOST-TOTAL_CHURN-TOTAL_CHURN              0.00           7598.04          35288.88              0.00       5\n",
       "25  RETAINED-PARTIAL_CHURN-PARTIAL_CHURN              0.00              0.00              0.00          48713.50       3\n",
       "44   TOTAL_CHURN-TOTAL_CHURN-TOTAL_CHURN           3978.02           2662.06            143.76              0.00       3\n",
       "26       RETAINED-PARTIAL_CHURN-RETAINED              0.00              0.00              0.00              0.00       2\n",
       "\n",
       "[65 rows x 6 columns]"
      ]
     },
     "execution_count": 57,
     "metadata": {},
     "output_type": "execute_result"
    }
   ],
   "source": [
    "x = bookings_by_year.groupby(['TREND_TEXT']).agg(\n",
    "    total_churn_2016 = ('total_2016' , sum),\n",
    "    total_churn_2017 = ('total_2017' , sum),\n",
    "    total_churn_2018 = ('total_2018' , sum),\n",
    "    total_churn_2019 = ('total_2019' , sum)).reset_index()\n",
    "\n",
    "y = pd.DataFrame(bookings_by_year.TREND_TEXT.value_counts(dropna=False)).reset_index()\n",
    "\n",
    "y.columns = ['TREND_TEXT', 'COUNTS']\n",
    "\n",
    "z = pd.merge(x,y,on='TREND_TEXT').sort_values(by='COUNTS', ascending=False)\n",
    "\n",
    "z"
   ]
  },
  {
   "cell_type": "code",
   "execution_count": 58,
   "metadata": {},
   "outputs": [
    {
     "data": {
      "text/html": [
       "<div>\n",
       "<style scoped>\n",
       "    .dataframe tbody tr th:only-of-type {\n",
       "        vertical-align: middle;\n",
       "    }\n",
       "\n",
       "    .dataframe tbody tr th {\n",
       "        vertical-align: top;\n",
       "    }\n",
       "\n",
       "    .dataframe thead th {\n",
       "        text-align: right;\n",
       "    }\n",
       "</style>\n",
       "<table border=\"1\" class=\"dataframe\">\n",
       "  <thead>\n",
       "    <tr style=\"text-align: right;\">\n",
       "      <th></th>\n",
       "      <th>TREND_TEXT</th>\n",
       "      <th>partial_churn_2016</th>\n",
       "      <th>total_churn_2017</th>\n",
       "      <th>total_churn_2018</th>\n",
       "      <th>total_churn_2019</th>\n",
       "      <th>COUNTS</th>\n",
       "    </tr>\n",
       "  </thead>\n",
       "  <tbody>\n",
       "    <tr>\n",
       "      <th>64</th>\n",
       "      <td>UPSOLD-UPSOLD-UPSOLD</td>\n",
       "      <td>0.00</td>\n",
       "      <td>0.00</td>\n",
       "      <td>0.00</td>\n",
       "      <td>95401357.36</td>\n",
       "      <td>7652</td>\n",
       "    </tr>\n",
       "    <tr>\n",
       "      <th>0</th>\n",
       "      <td>LOST-LOST-LOST</td>\n",
       "      <td>0.00</td>\n",
       "      <td>0.00</td>\n",
       "      <td>0.00</td>\n",
       "      <td>0.00</td>\n",
       "      <td>3349</td>\n",
       "    </tr>\n",
       "    <tr>\n",
       "      <th>2</th>\n",
       "      <td>LOST-LOST-UPSOLD</td>\n",
       "      <td>0.00</td>\n",
       "      <td>0.00</td>\n",
       "      <td>0.00</td>\n",
       "      <td>5683243.04</td>\n",
       "      <td>2015</td>\n",
       "    </tr>\n",
       "    <tr>\n",
       "      <th>40</th>\n",
       "      <td>TOTAL_CHURN-LOST-LOST</td>\n",
       "      <td>0.00</td>\n",
       "      <td>0.00</td>\n",
       "      <td>0.00</td>\n",
       "      <td>0.00</td>\n",
       "      <td>1853</td>\n",
       "    </tr>\n",
       "    <tr>\n",
       "      <th>58</th>\n",
       "      <td>UPSOLD-TOTAL_CHURN-LOST</td>\n",
       "      <td>0.00</td>\n",
       "      <td>0.00</td>\n",
       "      <td>0.00</td>\n",
       "      <td>0.00</td>\n",
       "      <td>1700</td>\n",
       "    </tr>\n",
       "    <tr>\n",
       "      <th>...</th>\n",
       "      <td>...</td>\n",
       "      <td>...</td>\n",
       "      <td>...</td>\n",
       "      <td>...</td>\n",
       "      <td>...</td>\n",
       "      <td>...</td>\n",
       "    </tr>\n",
       "    <tr>\n",
       "      <th>47</th>\n",
       "      <td>TOTAL_CHURN-UPSOLD-RETAINED</td>\n",
       "      <td>0.00</td>\n",
       "      <td>0.00</td>\n",
       "      <td>0.00</td>\n",
       "      <td>0.00</td>\n",
       "      <td>5</td>\n",
       "    </tr>\n",
       "    <tr>\n",
       "      <th>4</th>\n",
       "      <td>LOST-TOTAL_CHURN-TOTAL_CHURN</td>\n",
       "      <td>0.00</td>\n",
       "      <td>0.00</td>\n",
       "      <td>0.00</td>\n",
       "      <td>0.00</td>\n",
       "      <td>5</td>\n",
       "    </tr>\n",
       "    <tr>\n",
       "      <th>25</th>\n",
       "      <td>RETAINED-PARTIAL_CHURN-PARTIAL_CHURN</td>\n",
       "      <td>0.00</td>\n",
       "      <td>33440.00</td>\n",
       "      <td>9242.50</td>\n",
       "      <td>0.00</td>\n",
       "      <td>3</td>\n",
       "    </tr>\n",
       "    <tr>\n",
       "      <th>44</th>\n",
       "      <td>TOTAL_CHURN-TOTAL_CHURN-TOTAL_CHURN</td>\n",
       "      <td>0.00</td>\n",
       "      <td>0.00</td>\n",
       "      <td>0.00</td>\n",
       "      <td>0.00</td>\n",
       "      <td>3</td>\n",
       "    </tr>\n",
       "    <tr>\n",
       "      <th>26</th>\n",
       "      <td>RETAINED-PARTIAL_CHURN-RETAINED</td>\n",
       "      <td>0.00</td>\n",
       "      <td>16054.16</td>\n",
       "      <td>0.00</td>\n",
       "      <td>20083.00</td>\n",
       "      <td>2</td>\n",
       "    </tr>\n",
       "  </tbody>\n",
       "</table>\n",
       "<p>65 rows × 6 columns</p>\n",
       "</div>"
      ],
      "text/plain": [
       "                              TREND_TEXT  partial_churn_2016  total_churn_2017  total_churn_2018  total_churn_2019  COUNTS\n",
       "64                  UPSOLD-UPSOLD-UPSOLD                0.00              0.00              0.00       95401357.36    7652\n",
       "0                         LOST-LOST-LOST                0.00              0.00              0.00              0.00    3349\n",
       "2                       LOST-LOST-UPSOLD                0.00              0.00              0.00        5683243.04    2015\n",
       "40                 TOTAL_CHURN-LOST-LOST                0.00              0.00              0.00              0.00    1853\n",
       "58               UPSOLD-TOTAL_CHURN-LOST                0.00              0.00              0.00              0.00    1700\n",
       "..                                   ...                 ...               ...               ...               ...     ...\n",
       "47           TOTAL_CHURN-UPSOLD-RETAINED                0.00              0.00              0.00              0.00       5\n",
       "4           LOST-TOTAL_CHURN-TOTAL_CHURN                0.00              0.00              0.00              0.00       5\n",
       "25  RETAINED-PARTIAL_CHURN-PARTIAL_CHURN                0.00          33440.00           9242.50              0.00       3\n",
       "44   TOTAL_CHURN-TOTAL_CHURN-TOTAL_CHURN                0.00              0.00              0.00              0.00       3\n",
       "26       RETAINED-PARTIAL_CHURN-RETAINED                0.00          16054.16              0.00          20083.00       2\n",
       "\n",
       "[65 rows x 6 columns]"
      ]
     },
     "execution_count": 58,
     "metadata": {},
     "output_type": "execute_result"
    }
   ],
   "source": [
    "x = bookings_by_year.groupby(['TREND_TEXT']).agg(\n",
    "    partial_churn_2016 = ('partial_2016' , sum),\n",
    "    total_churn_2017 = ('partial_2017' , sum),\n",
    "    total_churn_2018 = ('partial_2018' , sum),\n",
    "    total_churn_2019 = ('partial_2019' , sum)).reset_index()\n",
    "\n",
    "y = pd.DataFrame(bookings_by_year.TREND_TEXT.value_counts(dropna=False)).reset_index()\n",
    "\n",
    "y.columns = ['TREND_TEXT', 'COUNTS']\n",
    "\n",
    "z = pd.merge(x,y,on='TREND_TEXT').sort_values(by='COUNTS', ascending=False)\n",
    "\n",
    "\n",
    "z"
   ]
  },
  {
   "cell_type": "code",
   "execution_count": 59,
   "metadata": {},
   "outputs": [
    {
     "data": {
      "text/html": [
       "<div>\n",
       "<style scoped>\n",
       "    .dataframe tbody tr th:only-of-type {\n",
       "        vertical-align: middle;\n",
       "    }\n",
       "\n",
       "    .dataframe tbody tr th {\n",
       "        vertical-align: top;\n",
       "    }\n",
       "\n",
       "    .dataframe thead th {\n",
       "        text-align: right;\n",
       "    }\n",
       "</style>\n",
       "<table border=\"1\" class=\"dataframe\">\n",
       "  <thead>\n",
       "    <tr style=\"text-align: right;\">\n",
       "      <th></th>\n",
       "      <th>TREND_TEXT</th>\n",
       "      <th>bookings_2015</th>\n",
       "      <th>bookings_2016</th>\n",
       "      <th>bookings_2017</th>\n",
       "      <th>bookings_2018</th>\n",
       "      <th>COUNTS</th>\n",
       "    </tr>\n",
       "  </thead>\n",
       "  <tbody>\n",
       "    <tr>\n",
       "      <th>64</th>\n",
       "      <td>UPSOLD-UPSOLD-UPSOLD</td>\n",
       "      <td>731567989.37</td>\n",
       "      <td>826378075.91</td>\n",
       "      <td>893808219.73</td>\n",
       "      <td>1034713397.00</td>\n",
       "      <td>7652</td>\n",
       "    </tr>\n",
       "    <tr>\n",
       "      <th>0</th>\n",
       "      <td>LOST-LOST-LOST</td>\n",
       "      <td>-20972619.77</td>\n",
       "      <td>0.00</td>\n",
       "      <td>0.00</td>\n",
       "      <td>0.00</td>\n",
       "      <td>3349</td>\n",
       "    </tr>\n",
       "    <tr>\n",
       "      <th>2</th>\n",
       "      <td>LOST-LOST-UPSOLD</td>\n",
       "      <td>-854452.96</td>\n",
       "      <td>0.00</td>\n",
       "      <td>0.00</td>\n",
       "      <td>86492481.41</td>\n",
       "      <td>2015</td>\n",
       "    </tr>\n",
       "    <tr>\n",
       "      <th>40</th>\n",
       "      <td>TOTAL_CHURN-LOST-LOST</td>\n",
       "      <td>50756900.36</td>\n",
       "      <td>-22729186.91</td>\n",
       "      <td>0.00</td>\n",
       "      <td>0.00</td>\n",
       "      <td>1853</td>\n",
       "    </tr>\n",
       "    <tr>\n",
       "      <th>58</th>\n",
       "      <td>UPSOLD-TOTAL_CHURN-LOST</td>\n",
       "      <td>32283279.85</td>\n",
       "      <td>55048444.07</td>\n",
       "      <td>-30570063.00</td>\n",
       "      <td>0.00</td>\n",
       "      <td>1700</td>\n",
       "    </tr>\n",
       "    <tr>\n",
       "      <th>...</th>\n",
       "      <td>...</td>\n",
       "      <td>...</td>\n",
       "      <td>...</td>\n",
       "      <td>...</td>\n",
       "      <td>...</td>\n",
       "      <td>...</td>\n",
       "    </tr>\n",
       "    <tr>\n",
       "      <th>47</th>\n",
       "      <td>TOTAL_CHURN-UPSOLD-RETAINED</td>\n",
       "      <td>73303.90</td>\n",
       "      <td>-25598.05</td>\n",
       "      <td>71266.56</td>\n",
       "      <td>71266.56</td>\n",
       "      <td>5</td>\n",
       "    </tr>\n",
       "    <tr>\n",
       "      <th>4</th>\n",
       "      <td>LOST-TOTAL_CHURN-TOTAL_CHURN</td>\n",
       "      <td>0.00</td>\n",
       "      <td>0.00</td>\n",
       "      <td>-7598.04</td>\n",
       "      <td>-42886.92</td>\n",
       "      <td>5</td>\n",
       "    </tr>\n",
       "    <tr>\n",
       "      <th>25</th>\n",
       "      <td>RETAINED-PARTIAL_CHURN-PARTIAL_CHURN</td>\n",
       "      <td>131926.00</td>\n",
       "      <td>131926.00</td>\n",
       "      <td>98486.00</td>\n",
       "      <td>89243.50</td>\n",
       "      <td>3</td>\n",
       "    </tr>\n",
       "    <tr>\n",
       "      <th>44</th>\n",
       "      <td>TOTAL_CHURN-TOTAL_CHURN-TOTAL_CHURN</td>\n",
       "      <td>3978.02</td>\n",
       "      <td>0.00</td>\n",
       "      <td>-2662.06</td>\n",
       "      <td>-2805.82</td>\n",
       "      <td>3</td>\n",
       "    </tr>\n",
       "    <tr>\n",
       "      <th>26</th>\n",
       "      <td>RETAINED-PARTIAL_CHURN-RETAINED</td>\n",
       "      <td>161230.16</td>\n",
       "      <td>161230.16</td>\n",
       "      <td>145176.00</td>\n",
       "      <td>145176.00</td>\n",
       "      <td>2</td>\n",
       "    </tr>\n",
       "  </tbody>\n",
       "</table>\n",
       "<p>65 rows × 6 columns</p>\n",
       "</div>"
      ],
      "text/plain": [
       "                              TREND_TEXT  bookings_2015  bookings_2016  bookings_2017  bookings_2018  COUNTS\n",
       "64                  UPSOLD-UPSOLD-UPSOLD   731567989.37   826378075.91   893808219.73  1034713397.00    7652\n",
       "0                         LOST-LOST-LOST   -20972619.77           0.00           0.00           0.00    3349\n",
       "2                       LOST-LOST-UPSOLD     -854452.96           0.00           0.00    86492481.41    2015\n",
       "40                 TOTAL_CHURN-LOST-LOST    50756900.36   -22729186.91           0.00           0.00    1853\n",
       "58               UPSOLD-TOTAL_CHURN-LOST    32283279.85    55048444.07   -30570063.00           0.00    1700\n",
       "..                                   ...            ...            ...            ...            ...     ...\n",
       "47           TOTAL_CHURN-UPSOLD-RETAINED       73303.90      -25598.05       71266.56       71266.56       5\n",
       "4           LOST-TOTAL_CHURN-TOTAL_CHURN           0.00           0.00       -7598.04      -42886.92       5\n",
       "25  RETAINED-PARTIAL_CHURN-PARTIAL_CHURN      131926.00      131926.00       98486.00       89243.50       3\n",
       "44   TOTAL_CHURN-TOTAL_CHURN-TOTAL_CHURN        3978.02           0.00       -2662.06       -2805.82       3\n",
       "26       RETAINED-PARTIAL_CHURN-RETAINED      161230.16      161230.16      145176.00      145176.00       2\n",
       "\n",
       "[65 rows x 6 columns]"
      ]
     },
     "execution_count": 59,
     "metadata": {},
     "output_type": "execute_result"
    }
   ],
   "source": [
    "x = bookings_by_year.groupby(['TREND_TEXT']).agg(\n",
    "    bookings_2015 = (2015 , sum),\n",
    "    bookings_2016 = (2016 , sum),\n",
    "    bookings_2017 = (2017 , sum),\n",
    "    bookings_2018 = (2018 , sum)).reset_index()\n",
    "\n",
    "y = pd.DataFrame(bookings_by_year.TREND_TEXT.value_counts(dropna=False)).reset_index()\n",
    "\n",
    "y.columns = ['TREND_TEXT', 'COUNTS']\n",
    "\n",
    "pd.merge(x,y,on='TREND_TEXT').sort_values(by='COUNTS', ascending=False)\n"
   ]
  },
  {
   "cell_type": "code",
   "execution_count": 60,
   "metadata": {},
   "outputs": [],
   "source": [
    "del x,y"
   ]
  },
  {
   "cell_type": "code",
   "execution_count": 61,
   "metadata": {},
   "outputs": [
    {
     "name": "stdout",
     "output_type": "stream",
     "text": [
      "UPSOLD-UPSOLD-UPSOLD                   27.33\n",
      "LOST-LOST-LOST                         11.96\n",
      "LOST-LOST-UPSOLD                        7.20\n",
      "TOTAL_CHURN-LOST-LOST                   6.62\n",
      "UPSOLD-TOTAL_CHURN-LOST                 6.07\n",
      "                                        ... \n",
      "LOST-TOTAL_CHURN-TOTAL_CHURN            0.02\n",
      "TOTAL_CHURN-UPSOLD-RETAINED             0.02\n",
      "TOTAL_CHURN-TOTAL_CHURN-TOTAL_CHURN     0.01\n",
      "RETAINED-PARTIAL_CHURN-PARTIAL_CHURN    0.01\n",
      "RETAINED-PARTIAL_CHURN-RETAINED         0.01\n",
      "Name: TREND_TEXT, Length: 65, dtype: float64\n"
     ]
    }
   ],
   "source": [
    "pd.set_option('display.float_format', lambda x: '%.2f' % x)\n",
    "print(100. * bookings_by_year['TREND_TEXT'].value_counts(dropna=False) / len(bookings_by_year['TREND_TEXT']))"
   ]
  },
  {
   "cell_type": "code",
   "execution_count": 62,
   "metadata": {},
   "outputs": [
    {
     "data": {
      "text/plain": [
       "Index(['SIS Id  (Agreement SIS)',    'Product Line Level 2',\n",
       "                            2015,                      2016,\n",
       "                            2017,                      2018,\n",
       "                            2019,                      2020,\n",
       "                    'churn_2016',              'total_2016',\n",
       "                  'partial_2016',        'partial_pct_2016',\n",
       "                    'churn_2017',              'total_2017',\n",
       "                  'partial_2017',        'partial_pct_2017',\n",
       "                    'churn_2018',              'total_2018',\n",
       "                  'partial_2018',        'partial_pct_2018',\n",
       "                    'churn_2019',              'total_2019',\n",
       "                  'partial_2019',        'partial_pct_2019',\n",
       "                    'TREND_TEXT'],\n",
       "      dtype='object')"
      ]
     },
     "execution_count": 62,
     "metadata": {},
     "output_type": "execute_result"
    }
   ],
   "source": [
    "bookings_by_year.columns"
   ]
  },
  {
   "cell_type": "markdown",
   "metadata": {},
   "source": [
    "## Customer Revenue Trend over period 2015 to 2019"
   ]
  },
  {
   "cell_type": "code",
   "execution_count": 63,
   "metadata": {},
   "outputs": [],
   "source": [
    "def get_trend_feature(df, new_colname, groupcols, timecols, prefix=''):\n",
    "    SECOND_PERIOD = 1\n",
    "    \n",
    "    tempdf = df[groupcols + timecols]\n",
    "    \n",
    "    tempdf = tempdf.groupby(groupcols).sum()\n",
    "    \n",
    "    # increasing trend customers - - all customers with value True\n",
    "    increasing_cust = (tempdf.diff(axis=1) > 0)[timecols[SECOND_PERIOD:]].apply(all, axis=1)\n",
    "    increasing_cust_index = increasing_cust[increasing_cust].index\n",
    "    \n",
    "    print(\"INCREASING TREND\")\n",
    "    print(increasing_cust.value_counts())\n",
    "    # decreasing trend customers - all customers with value False\n",
    "    decreasing_cust = (tempdf.diff(axis=1) > 0)[timecols[SECOND_PERIOD:]].apply(any, axis=1)\n",
    "    decreasing_cust_index = decreasing_cust[~decreasing_cust].index\n",
    "    \n",
    "    print(\"DECREASING TREND\")\n",
    "    print(decreasing_cust.value_counts())\n",
    "    \n",
    "    #df[new_colname] = 'updown_trend'\n",
    "    df.loc[:,new_colname] = prefix+'updown_trend'\n",
    "    df = df.set_index(groupcols)\n",
    "    \n",
    "    df.loc[increasing_cust_index, new_colname] = prefix+'increasing_trend'\n",
    "\n",
    "    df.loc[decreasing_cust_index, new_colname] = prefix+'decreasing_trend'\n",
    "    \n",
    "    df = df.reset_index()\n",
    "    \n",
    "    return df\n",
    "\n"
   ]
  },
  {
   "cell_type": "markdown",
   "metadata": {},
   "source": [
    "<b> Get Customer Bookings Trend over year </b>"
   ]
  },
  {
   "cell_type": "code",
   "execution_count": 64,
   "metadata": {
    "scrolled": true
   },
   "outputs": [
    {
     "name": "stdout",
     "output_type": "stream",
     "text": [
      "INCREASING TREND\n",
      "False    12567\n",
      "True      1486\n",
      "dtype: int64\n",
      "DECREASING TREND\n",
      "True     12918\n",
      "False     1135\n",
      "dtype: int64\n"
     ]
    }
   ],
   "source": [
    "bookings_by_year = get_trend_feature(bookings_by_year, 'cust_booking_trend', \n",
    "                      groupcols = ['SIS Id  (Agreement SIS)'], \n",
    "                      timecols = [2015, 2016,2017,2018,2019],\n",
    "                      prefix='cust_booking_'\n",
    "                     )"
   ]
  },
  {
   "cell_type": "markdown",
   "metadata": {},
   "source": [
    "<b> Get Customer x Product Bookings Trend over year </b>"
   ]
  },
  {
   "cell_type": "code",
   "execution_count": 65,
   "metadata": {},
   "outputs": [
    {
     "name": "stdout",
     "output_type": "stream",
     "text": [
      "INCREASING TREND\n",
      "False    23996\n",
      "True      4006\n",
      "dtype: int64\n",
      "DECREASING TREND\n",
      "True     25410\n",
      "False     2592\n",
      "dtype: int64\n"
     ]
    }
   ],
   "source": [
    "bookings_by_year = get_trend_feature(bookings_by_year, 'cust_prod_booking_trend', \n",
    "                      groupcols = ['SIS Id  (Agreement SIS)', 'Product Line Level 2'], \n",
    "                      timecols = [2015, 2016,2017,2018,2019],\n",
    "                      prefix='cust_prod_booking_'\n",
    "                     )"
   ]
  },
  {
   "cell_type": "code",
   "execution_count": 66,
   "metadata": {},
   "outputs": [
    {
     "data": {
      "text/plain": [
       "cust_booking_updown_trend        23557\n",
       "cust_booking_increasing_trend     3092\n",
       "cust_booking_decreasing_trend     1353\n",
       "Name: cust_booking_trend, dtype: int64"
      ]
     },
     "execution_count": 66,
     "metadata": {},
     "output_type": "execute_result"
    }
   ],
   "source": [
    "bookings_by_year['cust_booking_trend'].value_counts()"
   ]
  },
  {
   "cell_type": "code",
   "execution_count": 67,
   "metadata": {},
   "outputs": [
    {
     "data": {
      "text/plain": [
       "cust_prod_booking_updown_trend        21404\n",
       "cust_prod_booking_increasing_trend     4006\n",
       "cust_prod_booking_decreasing_trend     2592\n",
       "Name: cust_prod_booking_trend, dtype: int64"
      ]
     },
     "execution_count": 67,
     "metadata": {},
     "output_type": "execute_result"
    }
   ],
   "source": [
    "bookings_by_year['cust_prod_booking_trend'].value_counts()"
   ]
  },
  {
   "cell_type": "markdown",
   "metadata": {},
   "source": [
    "### Yearly churn of customers with decreasing trend"
   ]
  },
  {
   "cell_type": "code",
   "execution_count": 68,
   "metadata": {},
   "outputs": [],
   "source": [
    "year_cols = ['churn_2016','churn_2017','churn_2018','churn_2019']"
   ]
  },
  {
   "cell_type": "code",
   "execution_count": 69,
   "metadata": {},
   "outputs": [],
   "source": [
    "def get_trend_churn_matrix(df, trendcol, timecols, churn_chron_name='churn_year', churn_colname='CHURN'):\n",
    "    \n",
    "    df = df[[trendcol] + timecols]\n",
    "    \n",
    "    df = pd.melt(df, id_vars=[trendcol], value_vars=timecols,  \n",
    "                 var_name=churn_chron_name, value_name=churn_colname).reset_index()\n",
    "    \n",
    "    df = df.groupby([trendcol] + [churn_colname, churn_chron_name]).count().reset_index()\n",
    "    df = df.rename(columns={'index': 'counts'})\n",
    "    \n",
    "    df = df.groupby([trendcol] + [churn_colname, churn_chron_name])['counts'].sum().unstack(churn_chron_name)\n",
    "    \n",
    "    return df"
   ]
  },
  {
   "cell_type": "markdown",
   "metadata": {},
   "source": [
    "# One row per Customer x Products combinations\n",
    "\n",
    "so counts represent unique customer x product combinations"
   ]
  },
  {
   "cell_type": "code",
   "execution_count": 70,
   "metadata": {},
   "outputs": [
    {
     "data": {
      "text/html": [
       "<div>\n",
       "<style scoped>\n",
       "    .dataframe tbody tr th:only-of-type {\n",
       "        vertical-align: middle;\n",
       "    }\n",
       "\n",
       "    .dataframe tbody tr th {\n",
       "        vertical-align: top;\n",
       "    }\n",
       "\n",
       "    .dataframe thead th {\n",
       "        text-align: right;\n",
       "    }\n",
       "</style>\n",
       "<table border=\"1\" class=\"dataframe\">\n",
       "  <thead>\n",
       "    <tr style=\"text-align: right;\">\n",
       "      <th></th>\n",
       "      <th>churn_year</th>\n",
       "      <th>churn_2016</th>\n",
       "      <th>churn_2017</th>\n",
       "      <th>churn_2018</th>\n",
       "      <th>churn_2019</th>\n",
       "    </tr>\n",
       "    <tr>\n",
       "      <th>cust_booking_trend</th>\n",
       "      <th>CHURN</th>\n",
       "      <th></th>\n",
       "      <th></th>\n",
       "      <th></th>\n",
       "      <th></th>\n",
       "    </tr>\n",
       "  </thead>\n",
       "  <tbody>\n",
       "    <tr>\n",
       "      <th rowspan=\"5\" valign=\"top\">cust_booking_decreasing_trend</th>\n",
       "      <th>LOST</th>\n",
       "      <td>696</td>\n",
       "      <td>1174</td>\n",
       "      <td>1270</td>\n",
       "      <td>1249</td>\n",
       "    </tr>\n",
       "    <tr>\n",
       "      <th>PARTIAL_CHURN</th>\n",
       "      <td>76</td>\n",
       "      <td>35</td>\n",
       "      <td>21</td>\n",
       "      <td>12</td>\n",
       "    </tr>\n",
       "    <tr>\n",
       "      <th>RETAINED</th>\n",
       "      <td>55</td>\n",
       "      <td>15</td>\n",
       "      <td>12</td>\n",
       "      <td>5</td>\n",
       "    </tr>\n",
       "    <tr>\n",
       "      <th>TOTAL_CHURN</th>\n",
       "      <td>484</td>\n",
       "      <td>103</td>\n",
       "      <td>28</td>\n",
       "      <td>77</td>\n",
       "    </tr>\n",
       "    <tr>\n",
       "      <th>UPSOLD</th>\n",
       "      <td>42</td>\n",
       "      <td>26</td>\n",
       "      <td>22</td>\n",
       "      <td>10</td>\n",
       "    </tr>\n",
       "    <tr>\n",
       "      <th rowspan=\"5\" valign=\"top\">cust_booking_increasing_trend</th>\n",
       "      <th>LOST</th>\n",
       "      <td>444</td>\n",
       "      <td>384</td>\n",
       "      <td>315</td>\n",
       "      <td>277</td>\n",
       "    </tr>\n",
       "    <tr>\n",
       "      <th>PARTIAL_CHURN</th>\n",
       "      <td>102</td>\n",
       "      <td>116</td>\n",
       "      <td>116</td>\n",
       "      <td>81</td>\n",
       "    </tr>\n",
       "    <tr>\n",
       "      <th>RETAINED</th>\n",
       "      <td>41</td>\n",
       "      <td>37</td>\n",
       "      <td>19</td>\n",
       "      <td>25</td>\n",
       "    </tr>\n",
       "    <tr>\n",
       "      <th>TOTAL_CHURN</th>\n",
       "      <td>50</td>\n",
       "      <td>48</td>\n",
       "      <td>70</td>\n",
       "      <td>214</td>\n",
       "    </tr>\n",
       "    <tr>\n",
       "      <th>UPSOLD</th>\n",
       "      <td>2455</td>\n",
       "      <td>2507</td>\n",
       "      <td>2572</td>\n",
       "      <td>2495</td>\n",
       "    </tr>\n",
       "    <tr>\n",
       "      <th rowspan=\"5\" valign=\"top\">cust_booking_updown_trend</th>\n",
       "      <th>LOST</th>\n",
       "      <td>7124</td>\n",
       "      <td>6116</td>\n",
       "      <td>5963</td>\n",
       "      <td>7469</td>\n",
       "    </tr>\n",
       "    <tr>\n",
       "      <th>PARTIAL_CHURN</th>\n",
       "      <td>1738</td>\n",
       "      <td>1948</td>\n",
       "      <td>1935</td>\n",
       "      <td>1503</td>\n",
       "    </tr>\n",
       "    <tr>\n",
       "      <th>RETAINED</th>\n",
       "      <td>462</td>\n",
       "      <td>336</td>\n",
       "      <td>404</td>\n",
       "      <td>380</td>\n",
       "    </tr>\n",
       "    <tr>\n",
       "      <th>TOTAL_CHURN</th>\n",
       "      <td>2118</td>\n",
       "      <td>2954</td>\n",
       "      <td>3228</td>\n",
       "      <td>7221</td>\n",
       "    </tr>\n",
       "    <tr>\n",
       "      <th>UPSOLD</th>\n",
       "      <td>12115</td>\n",
       "      <td>12203</td>\n",
       "      <td>12027</td>\n",
       "      <td>6984</td>\n",
       "    </tr>\n",
       "  </tbody>\n",
       "</table>\n",
       "</div>"
      ],
      "text/plain": [
       "churn_year                                   churn_2016  churn_2017  churn_2018  churn_2019\n",
       "cust_booking_trend            CHURN                                                        \n",
       "cust_booking_decreasing_trend LOST                  696        1174        1270        1249\n",
       "                              PARTIAL_CHURN          76          35          21          12\n",
       "                              RETAINED               55          15          12           5\n",
       "                              TOTAL_CHURN           484         103          28          77\n",
       "                              UPSOLD                 42          26          22          10\n",
       "cust_booking_increasing_trend LOST                  444         384         315         277\n",
       "                              PARTIAL_CHURN         102         116         116          81\n",
       "                              RETAINED               41          37          19          25\n",
       "                              TOTAL_CHURN            50          48          70         214\n",
       "                              UPSOLD               2455        2507        2572        2495\n",
       "cust_booking_updown_trend     LOST                 7124        6116        5963        7469\n",
       "                              PARTIAL_CHURN        1738        1948        1935        1503\n",
       "                              RETAINED              462         336         404         380\n",
       "                              TOTAL_CHURN          2118        2954        3228        7221\n",
       "                              UPSOLD              12115       12203       12027        6984"
      ]
     },
     "execution_count": 70,
     "metadata": {},
     "output_type": "execute_result"
    }
   ],
   "source": [
    "cust_trend_matrix = get_trend_churn_matrix(bookings_by_year, trendcol='cust_booking_trend', timecols=year_cols)\n",
    "\n",
    "#append_df_to_excel('../data/analysis/churn_analysis.xlsx', cust_trend_matrix, sheet_name='cust_booking_trend', index=True)\n",
    "\n",
    "cust_trend_matrix"
   ]
  },
  {
   "cell_type": "code",
   "execution_count": 71,
   "metadata": {},
   "outputs": [
    {
     "data": {
      "text/html": [
       "<div>\n",
       "<style scoped>\n",
       "    .dataframe tbody tr th:only-of-type {\n",
       "        vertical-align: middle;\n",
       "    }\n",
       "\n",
       "    .dataframe tbody tr th {\n",
       "        vertical-align: top;\n",
       "    }\n",
       "\n",
       "    .dataframe thead th {\n",
       "        text-align: right;\n",
       "    }\n",
       "</style>\n",
       "<table border=\"1\" class=\"dataframe\">\n",
       "  <thead>\n",
       "    <tr style=\"text-align: right;\">\n",
       "      <th></th>\n",
       "      <th>churn_year</th>\n",
       "      <th>churn_2016</th>\n",
       "      <th>churn_2017</th>\n",
       "      <th>churn_2018</th>\n",
       "      <th>churn_2019</th>\n",
       "    </tr>\n",
       "    <tr>\n",
       "      <th>cust_prod_booking_trend</th>\n",
       "      <th>CHURN</th>\n",
       "      <th></th>\n",
       "      <th></th>\n",
       "      <th></th>\n",
       "      <th></th>\n",
       "    </tr>\n",
       "  </thead>\n",
       "  <tbody>\n",
       "    <tr>\n",
       "      <th rowspan=\"4\" valign=\"top\">cust_prod_booking_decreasing_trend</th>\n",
       "      <th>LOST</th>\n",
       "      <td>1448.00</td>\n",
       "      <td>2293.00</td>\n",
       "      <td>2486.00</td>\n",
       "      <td>2448.00</td>\n",
       "    </tr>\n",
       "    <tr>\n",
       "      <th>PARTIAL_CHURN</th>\n",
       "      <td>147.00</td>\n",
       "      <td>54.00</td>\n",
       "      <td>36.00</td>\n",
       "      <td>17.00</td>\n",
       "    </tr>\n",
       "    <tr>\n",
       "      <th>RETAINED</th>\n",
       "      <td>152.00</td>\n",
       "      <td>49.00</td>\n",
       "      <td>41.00</td>\n",
       "      <td>13.00</td>\n",
       "    </tr>\n",
       "    <tr>\n",
       "      <th>TOTAL_CHURN</th>\n",
       "      <td>845.00</td>\n",
       "      <td>196.00</td>\n",
       "      <td>29.00</td>\n",
       "      <td>114.00</td>\n",
       "    </tr>\n",
       "    <tr>\n",
       "      <th rowspan=\"2\" valign=\"top\">cust_prod_booking_increasing_trend</th>\n",
       "      <th>LOST</th>\n",
       "      <td>3.00</td>\n",
       "      <td>nan</td>\n",
       "      <td>nan</td>\n",
       "      <td>nan</td>\n",
       "    </tr>\n",
       "    <tr>\n",
       "      <th>UPSOLD</th>\n",
       "      <td>4003.00</td>\n",
       "      <td>4006.00</td>\n",
       "      <td>4006.00</td>\n",
       "      <td>4006.00</td>\n",
       "    </tr>\n",
       "    <tr>\n",
       "      <th rowspan=\"5\" valign=\"top\">cust_prod_booking_updown_trend</th>\n",
       "      <th>LOST</th>\n",
       "      <td>6813.00</td>\n",
       "      <td>5381.00</td>\n",
       "      <td>5062.00</td>\n",
       "      <td>6547.00</td>\n",
       "    </tr>\n",
       "    <tr>\n",
       "      <th>PARTIAL_CHURN</th>\n",
       "      <td>1769.00</td>\n",
       "      <td>2045.00</td>\n",
       "      <td>2036.00</td>\n",
       "      <td>1579.00</td>\n",
       "    </tr>\n",
       "    <tr>\n",
       "      <th>RETAINED</th>\n",
       "      <td>406.00</td>\n",
       "      <td>339.00</td>\n",
       "      <td>394.00</td>\n",
       "      <td>397.00</td>\n",
       "    </tr>\n",
       "    <tr>\n",
       "      <th>TOTAL_CHURN</th>\n",
       "      <td>1807.00</td>\n",
       "      <td>2909.00</td>\n",
       "      <td>3297.00</td>\n",
       "      <td>7398.00</td>\n",
       "    </tr>\n",
       "    <tr>\n",
       "      <th>UPSOLD</th>\n",
       "      <td>10609.00</td>\n",
       "      <td>10730.00</td>\n",
       "      <td>10615.00</td>\n",
       "      <td>5483.00</td>\n",
       "    </tr>\n",
       "  </tbody>\n",
       "</table>\n",
       "</div>"
      ],
      "text/plain": [
       "churn_year                                        churn_2016  churn_2017  churn_2018  churn_2019\n",
       "cust_prod_booking_trend            CHURN                                                        \n",
       "cust_prod_booking_decreasing_trend LOST              1448.00     2293.00     2486.00     2448.00\n",
       "                                   PARTIAL_CHURN      147.00       54.00       36.00       17.00\n",
       "                                   RETAINED           152.00       49.00       41.00       13.00\n",
       "                                   TOTAL_CHURN        845.00      196.00       29.00      114.00\n",
       "cust_prod_booking_increasing_trend LOST                 3.00         nan         nan         nan\n",
       "                                   UPSOLD            4003.00     4006.00     4006.00     4006.00\n",
       "cust_prod_booking_updown_trend     LOST              6813.00     5381.00     5062.00     6547.00\n",
       "                                   PARTIAL_CHURN     1769.00     2045.00     2036.00     1579.00\n",
       "                                   RETAINED           406.00      339.00      394.00      397.00\n",
       "                                   TOTAL_CHURN       1807.00     2909.00     3297.00     7398.00\n",
       "                                   UPSOLD           10609.00    10730.00    10615.00     5483.00"
      ]
     },
     "execution_count": 71,
     "metadata": {},
     "output_type": "execute_result"
    }
   ],
   "source": [
    "prod_trend_matrix = get_trend_churn_matrix(bookings_by_year, trendcol='cust_prod_booking_trend', timecols=year_cols)\n",
    "\n",
    "#append_df_to_excel('../data/analysis/churn_analysis.xlsx', prod_trend_matrix, sheet_name='cust_prod_booking_trend', index=True)\n",
    "\n",
    "prod_trend_matrix"
   ]
  },
  {
   "cell_type": "code",
   "execution_count": 72,
   "metadata": {},
   "outputs": [
    {
     "name": "stdout",
     "output_type": "stream",
     "text": [
      "(28002, 27)\n",
      "14053\n",
      "29\n",
      "28002\n"
     ]
    }
   ],
   "source": [
    "print(bookings_by_year.shape)\n",
    "print(len(bookings_by_year['SIS Id  (Agreement SIS)'].unique()))\n",
    "print(len(bookings_by_year['Product Line Level 2'].unique()))\n",
    "print(len(bookings_by_year.drop_duplicates(['SIS Id  (Agreement SIS)','Product Line Level 2'])))"
   ]
  },
  {
   "cell_type": "code",
   "execution_count": 73,
   "metadata": {},
   "outputs": [
    {
     "name": "stdout",
     "output_type": "stream",
     "text": [
      "=========== 2019 ===========\n",
      "UPSOLD          33.89\n",
      "LOST            32.12\n",
      "TOTAL_CHURN     26.83\n",
      "PARTIAL_CHURN    5.70\n",
      "RETAINED         1.46\n",
      "Name: churn_2019, dtype: float64\n",
      "=========== 2018 ===========\n",
      "UPSOLD          52.21\n",
      "LOST            26.96\n",
      "TOTAL_CHURN     11.88\n",
      "PARTIAL_CHURN    7.40\n",
      "RETAINED         1.55\n",
      "Name: churn_2018, dtype: float64\n",
      "=========== 2017 ===========\n",
      "UPSOLD          52.62\n",
      "LOST            27.41\n",
      "TOTAL_CHURN     11.09\n",
      "PARTIAL_CHURN    7.50\n",
      "RETAINED         1.39\n",
      "Name: churn_2017, dtype: float64\n",
      "=========== 2016 ===========\n",
      "UPSOLD          52.18\n",
      "LOST            29.51\n",
      "TOTAL_CHURN      9.47\n",
      "PARTIAL_CHURN    6.84\n",
      "RETAINED         1.99\n",
      "Name: churn_2016, dtype: float64\n"
     ]
    }
   ],
   "source": [
    "pd.set_option('display.float_format', lambda x: '%.2f' % x)\n",
    "print(\"=========== 2019 ===========\")\n",
    "print(100. * bookings_by_year['churn_2019'].value_counts(dropna=False) / len(bookings_by_year['churn_2019']))\n",
    "print(\"=========== 2018 ===========\")\n",
    "print(100. * bookings_by_year['churn_2018'].value_counts(dropna=False) / len(bookings_by_year['churn_2018']))\n",
    "print(\"=========== 2017 ===========\")\n",
    "print(100. * bookings_by_year['churn_2017'].value_counts(dropna=False) / len(bookings_by_year['churn_2017']))\n",
    "print(\"=========== 2016 ===========\")\n",
    "print(100. * bookings_by_year['churn_2016'].value_counts(dropna=False) / len(bookings_by_year['churn_2016']))\n"
   ]
  },
  {
   "cell_type": "code",
   "execution_count": 74,
   "metadata": {},
   "outputs": [
    {
     "data": {
      "text/html": [
       "<div>\n",
       "<style scoped>\n",
       "    .dataframe tbody tr th:only-of-type {\n",
       "        vertical-align: middle;\n",
       "    }\n",
       "\n",
       "    .dataframe tbody tr th {\n",
       "        vertical-align: top;\n",
       "    }\n",
       "\n",
       "    .dataframe thead th {\n",
       "        text-align: right;\n",
       "    }\n",
       "</style>\n",
       "<table border=\"1\" class=\"dataframe\">\n",
       "  <thead>\n",
       "    <tr style=\"text-align: right;\">\n",
       "      <th></th>\n",
       "      <th>SIS Id  (Agreement SIS)</th>\n",
       "      <th>Product Line Level 2</th>\n",
       "      <th>2015</th>\n",
       "      <th>2016</th>\n",
       "      <th>2017</th>\n",
       "      <th>2018</th>\n",
       "      <th>2019</th>\n",
       "      <th>2020</th>\n",
       "      <th>churn_2016</th>\n",
       "      <th>total_2016</th>\n",
       "      <th>...</th>\n",
       "      <th>total_2018</th>\n",
       "      <th>partial_2018</th>\n",
       "      <th>partial_pct_2018</th>\n",
       "      <th>churn_2019</th>\n",
       "      <th>total_2019</th>\n",
       "      <th>partial_2019</th>\n",
       "      <th>partial_pct_2019</th>\n",
       "      <th>TREND_TEXT</th>\n",
       "      <th>cust_booking_trend</th>\n",
       "      <th>cust_prod_booking_trend</th>\n",
       "    </tr>\n",
       "  </thead>\n",
       "  <tbody>\n",
       "    <tr>\n",
       "      <th>0</th>\n",
       "      <td>1107461</td>\n",
       "      <td>Knovel</td>\n",
       "      <td>-2245.61</td>\n",
       "      <td>0.00</td>\n",
       "      <td>0.00</td>\n",
       "      <td>0.00</td>\n",
       "      <td>0.00</td>\n",
       "      <td>0</td>\n",
       "      <td>LOST</td>\n",
       "      <td>0.00</td>\n",
       "      <td>...</td>\n",
       "      <td>0.00</td>\n",
       "      <td>0.00</td>\n",
       "      <td>0</td>\n",
       "      <td>LOST</td>\n",
       "      <td>0.00</td>\n",
       "      <td>0.00</td>\n",
       "      <td>0</td>\n",
       "      <td>LOST-LOST-LOST</td>\n",
       "      <td>cust_booking_updown_trend</td>\n",
       "      <td>cust_prod_booking_updown_trend</td>\n",
       "    </tr>\n",
       "    <tr>\n",
       "      <th>1</th>\n",
       "      <td>1110518</td>\n",
       "      <td>embase</td>\n",
       "      <td>0.00</td>\n",
       "      <td>0.00</td>\n",
       "      <td>17529.00</td>\n",
       "      <td>0.00</td>\n",
       "      <td>0.00</td>\n",
       "      <td>0</td>\n",
       "      <td>LOST</td>\n",
       "      <td>0.00</td>\n",
       "      <td>...</td>\n",
       "      <td>17529.00</td>\n",
       "      <td>0.00</td>\n",
       "      <td>0</td>\n",
       "      <td>LOST</td>\n",
       "      <td>0.00</td>\n",
       "      <td>0.00</td>\n",
       "      <td>0</td>\n",
       "      <td>LOST-UPSOLD-TOTAL_CHURN</td>\n",
       "      <td>cust_booking_updown_trend</td>\n",
       "      <td>cust_prod_booking_updown_trend</td>\n",
       "    </tr>\n",
       "    <tr>\n",
       "      <th>2</th>\n",
       "      <td>1211459</td>\n",
       "      <td>SSRN</td>\n",
       "      <td>202.10</td>\n",
       "      <td>0.00</td>\n",
       "      <td>0.00</td>\n",
       "      <td>0.00</td>\n",
       "      <td>0.00</td>\n",
       "      <td>0</td>\n",
       "      <td>TOTAL_CHURN</td>\n",
       "      <td>202.10</td>\n",
       "      <td>...</td>\n",
       "      <td>0.00</td>\n",
       "      <td>0.00</td>\n",
       "      <td>0</td>\n",
       "      <td>LOST</td>\n",
       "      <td>0.00</td>\n",
       "      <td>0.00</td>\n",
       "      <td>0</td>\n",
       "      <td>TOTAL_CHURN-LOST-LOST</td>\n",
       "      <td>cust_booking_decreasing_trend</td>\n",
       "      <td>cust_prod_booking_decreasing_trend</td>\n",
       "    </tr>\n",
       "    <tr>\n",
       "      <th>3</th>\n",
       "      <td>394770</td>\n",
       "      <td>SCOPUS</td>\n",
       "      <td>-4056.77</td>\n",
       "      <td>0.00</td>\n",
       "      <td>0.00</td>\n",
       "      <td>0.00</td>\n",
       "      <td>0.00</td>\n",
       "      <td>0</td>\n",
       "      <td>LOST</td>\n",
       "      <td>0.00</td>\n",
       "      <td>...</td>\n",
       "      <td>0.00</td>\n",
       "      <td>0.00</td>\n",
       "      <td>0</td>\n",
       "      <td>LOST</td>\n",
       "      <td>0.00</td>\n",
       "      <td>0.00</td>\n",
       "      <td>0</td>\n",
       "      <td>LOST-LOST-LOST</td>\n",
       "      <td>cust_booking_updown_trend</td>\n",
       "      <td>cust_prod_booking_updown_trend</td>\n",
       "    </tr>\n",
       "    <tr>\n",
       "      <th>4</th>\n",
       "      <td>416754</td>\n",
       "      <td>Journals Electronic Subscriptions</td>\n",
       "      <td>38207.91</td>\n",
       "      <td>0.00</td>\n",
       "      <td>0.00</td>\n",
       "      <td>0.00</td>\n",
       "      <td>0.00</td>\n",
       "      <td>0</td>\n",
       "      <td>TOTAL_CHURN</td>\n",
       "      <td>38207.91</td>\n",
       "      <td>...</td>\n",
       "      <td>0.00</td>\n",
       "      <td>0.00</td>\n",
       "      <td>0</td>\n",
       "      <td>LOST</td>\n",
       "      <td>0.00</td>\n",
       "      <td>0.00</td>\n",
       "      <td>0</td>\n",
       "      <td>TOTAL_CHURN-LOST-LOST</td>\n",
       "      <td>cust_booking_decreasing_trend</td>\n",
       "      <td>cust_prod_booking_decreasing_trend</td>\n",
       "    </tr>\n",
       "    <tr>\n",
       "      <th>...</th>\n",
       "      <td>...</td>\n",
       "      <td>...</td>\n",
       "      <td>...</td>\n",
       "      <td>...</td>\n",
       "      <td>...</td>\n",
       "      <td>...</td>\n",
       "      <td>...</td>\n",
       "      <td>...</td>\n",
       "      <td>...</td>\n",
       "      <td>...</td>\n",
       "      <td>...</td>\n",
       "      <td>...</td>\n",
       "      <td>...</td>\n",
       "      <td>...</td>\n",
       "      <td>...</td>\n",
       "      <td>...</td>\n",
       "      <td>...</td>\n",
       "      <td>...</td>\n",
       "      <td>...</td>\n",
       "      <td>...</td>\n",
       "      <td>...</td>\n",
       "    </tr>\n",
       "    <tr>\n",
       "      <th>27997</th>\n",
       "      <td>ECR-998</td>\n",
       "      <td>Journals Electronic Subscriptions</td>\n",
       "      <td>1020821.58</td>\n",
       "      <td>1053712.45</td>\n",
       "      <td>1095160.28</td>\n",
       "      <td>1137674.93</td>\n",
       "      <td>1179126.81</td>\n",
       "      <td>0</td>\n",
       "      <td>UPSOLD</td>\n",
       "      <td>0.00</td>\n",
       "      <td>...</td>\n",
       "      <td>0.00</td>\n",
       "      <td>0.00</td>\n",
       "      <td>0</td>\n",
       "      <td>UPSOLD</td>\n",
       "      <td>0.00</td>\n",
       "      <td>0.00</td>\n",
       "      <td>0</td>\n",
       "      <td>UPSOLD-UPSOLD-UPSOLD</td>\n",
       "      <td>cust_booking_updown_trend</td>\n",
       "      <td>cust_prod_booking_increasing_trend</td>\n",
       "    </tr>\n",
       "    <tr>\n",
       "      <th>27998</th>\n",
       "      <td>ECR-998</td>\n",
       "      <td>Knovel</td>\n",
       "      <td>30574.00</td>\n",
       "      <td>31950.00</td>\n",
       "      <td>33388.00</td>\n",
       "      <td>34724.00</td>\n",
       "      <td>0.00</td>\n",
       "      <td>0</td>\n",
       "      <td>UPSOLD</td>\n",
       "      <td>0.00</td>\n",
       "      <td>...</td>\n",
       "      <td>0.00</td>\n",
       "      <td>0.00</td>\n",
       "      <td>0</td>\n",
       "      <td>TOTAL_CHURN</td>\n",
       "      <td>34724.00</td>\n",
       "      <td>0.00</td>\n",
       "      <td>0</td>\n",
       "      <td>UPSOLD-UPSOLD-UPSOLD</td>\n",
       "      <td>cust_booking_updown_trend</td>\n",
       "      <td>cust_prod_booking_updown_trend</td>\n",
       "    </tr>\n",
       "    <tr>\n",
       "      <th>27999</th>\n",
       "      <td>ECR-998</td>\n",
       "      <td>Reaxys</td>\n",
       "      <td>30778.00</td>\n",
       "      <td>32009.00</td>\n",
       "      <td>33289.00</td>\n",
       "      <td>34621.00</td>\n",
       "      <td>36005.00</td>\n",
       "      <td>0</td>\n",
       "      <td>UPSOLD</td>\n",
       "      <td>0.00</td>\n",
       "      <td>...</td>\n",
       "      <td>0.00</td>\n",
       "      <td>0.00</td>\n",
       "      <td>0</td>\n",
       "      <td>UPSOLD</td>\n",
       "      <td>0.00</td>\n",
       "      <td>0.00</td>\n",
       "      <td>0</td>\n",
       "      <td>UPSOLD-UPSOLD-UPSOLD</td>\n",
       "      <td>cust_booking_updown_trend</td>\n",
       "      <td>cust_prod_booking_increasing_trend</td>\n",
       "    </tr>\n",
       "    <tr>\n",
       "      <th>28000</th>\n",
       "      <td>ECR-998</td>\n",
       "      <td>SSRN</td>\n",
       "      <td>10933.00</td>\n",
       "      <td>11670.00</td>\n",
       "      <td>890.00</td>\n",
       "      <td>916.70</td>\n",
       "      <td>0.00</td>\n",
       "      <td>0</td>\n",
       "      <td>UPSOLD</td>\n",
       "      <td>0.00</td>\n",
       "      <td>...</td>\n",
       "      <td>0.00</td>\n",
       "      <td>0.00</td>\n",
       "      <td>0</td>\n",
       "      <td>TOTAL_CHURN</td>\n",
       "      <td>916.70</td>\n",
       "      <td>0.00</td>\n",
       "      <td>0</td>\n",
       "      <td>UPSOLD-PARTIAL_CHURN-UPSOLD</td>\n",
       "      <td>cust_booking_updown_trend</td>\n",
       "      <td>cust_prod_booking_updown_trend</td>\n",
       "    </tr>\n",
       "    <tr>\n",
       "      <th>28001</th>\n",
       "      <td>ECR-998</td>\n",
       "      <td>eBooks</td>\n",
       "      <td>3425.59</td>\n",
       "      <td>13948.61</td>\n",
       "      <td>14091.11</td>\n",
       "      <td>14654.75</td>\n",
       "      <td>15240.94</td>\n",
       "      <td>0</td>\n",
       "      <td>UPSOLD</td>\n",
       "      <td>0.00</td>\n",
       "      <td>...</td>\n",
       "      <td>0.00</td>\n",
       "      <td>0.00</td>\n",
       "      <td>0</td>\n",
       "      <td>UPSOLD</td>\n",
       "      <td>0.00</td>\n",
       "      <td>0.00</td>\n",
       "      <td>0</td>\n",
       "      <td>UPSOLD-UPSOLD-UPSOLD</td>\n",
       "      <td>cust_booking_updown_trend</td>\n",
       "      <td>cust_prod_booking_increasing_trend</td>\n",
       "    </tr>\n",
       "  </tbody>\n",
       "</table>\n",
       "<p>28002 rows × 27 columns</p>\n",
       "</div>"
      ],
      "text/plain": [
       "      SIS Id  (Agreement SIS)               Product Line Level 2       2015       2016       2017       2018       2019  2020   churn_2016  total_2016  ...  total_2018  partial_2018 partial_pct_2018   churn_2019  total_2019  partial_2019 partial_pct_2019                   TREND_TEXT             cust_booking_trend             cust_prod_booking_trend\n",
       "0                     1107461                             Knovel   -2245.61       0.00       0.00       0.00       0.00     0         LOST        0.00  ...        0.00          0.00                0         LOST        0.00          0.00                0               LOST-LOST-LOST      cust_booking_updown_trend      cust_prod_booking_updown_trend\n",
       "1                     1110518                             embase       0.00       0.00   17529.00       0.00       0.00     0         LOST        0.00  ...    17529.00          0.00                0         LOST        0.00          0.00                0      LOST-UPSOLD-TOTAL_CHURN      cust_booking_updown_trend      cust_prod_booking_updown_trend\n",
       "2                     1211459                               SSRN     202.10       0.00       0.00       0.00       0.00     0  TOTAL_CHURN      202.10  ...        0.00          0.00                0         LOST        0.00          0.00                0        TOTAL_CHURN-LOST-LOST  cust_booking_decreasing_trend  cust_prod_booking_decreasing_trend\n",
       "3                      394770                             SCOPUS   -4056.77       0.00       0.00       0.00       0.00     0         LOST        0.00  ...        0.00          0.00                0         LOST        0.00          0.00                0               LOST-LOST-LOST      cust_booking_updown_trend      cust_prod_booking_updown_trend\n",
       "4                      416754  Journals Electronic Subscriptions   38207.91       0.00       0.00       0.00       0.00     0  TOTAL_CHURN    38207.91  ...        0.00          0.00                0         LOST        0.00          0.00                0        TOTAL_CHURN-LOST-LOST  cust_booking_decreasing_trend  cust_prod_booking_decreasing_trend\n",
       "...                       ...                                ...        ...        ...        ...        ...        ...   ...          ...         ...  ...         ...           ...              ...          ...         ...           ...              ...                          ...                            ...                                 ...\n",
       "27997                 ECR-998  Journals Electronic Subscriptions 1020821.58 1053712.45 1095160.28 1137674.93 1179126.81     0       UPSOLD        0.00  ...        0.00          0.00                0       UPSOLD        0.00          0.00                0         UPSOLD-UPSOLD-UPSOLD      cust_booking_updown_trend  cust_prod_booking_increasing_trend\n",
       "27998                 ECR-998                             Knovel   30574.00   31950.00   33388.00   34724.00       0.00     0       UPSOLD        0.00  ...        0.00          0.00                0  TOTAL_CHURN    34724.00          0.00                0         UPSOLD-UPSOLD-UPSOLD      cust_booking_updown_trend      cust_prod_booking_updown_trend\n",
       "27999                 ECR-998                             Reaxys   30778.00   32009.00   33289.00   34621.00   36005.00     0       UPSOLD        0.00  ...        0.00          0.00                0       UPSOLD        0.00          0.00                0         UPSOLD-UPSOLD-UPSOLD      cust_booking_updown_trend  cust_prod_booking_increasing_trend\n",
       "28000                 ECR-998                               SSRN   10933.00   11670.00     890.00     916.70       0.00     0       UPSOLD        0.00  ...        0.00          0.00                0  TOTAL_CHURN      916.70          0.00                0  UPSOLD-PARTIAL_CHURN-UPSOLD      cust_booking_updown_trend      cust_prod_booking_updown_trend\n",
       "28001                 ECR-998                             eBooks    3425.59   13948.61   14091.11   14654.75   15240.94     0       UPSOLD        0.00  ...        0.00          0.00                0       UPSOLD        0.00          0.00                0         UPSOLD-UPSOLD-UPSOLD      cust_booking_updown_trend  cust_prod_booking_increasing_trend\n",
       "\n",
       "[28002 rows x 27 columns]"
      ]
     },
     "execution_count": 74,
     "metadata": {},
     "output_type": "execute_result"
    }
   ],
   "source": [
    "bookings_by_year"
   ]
  },
  {
   "cell_type": "markdown",
   "metadata": {},
   "source": [
    "### Churn Year\n",
    "\n",
    "The Churn seen in 2019 seems to be higher because for model dev we have considered ended contracts and ignored active contracts. there are many contracts in 2019 that havent yet ended as of TODAY and as a result they dont feature in our model dev dataset.\n",
    "\n",
    "Thus churn year 2018 is the label we will use to train our model"
   ]
  },
  {
   "cell_type": "code",
   "execution_count": 75,
   "metadata": {},
   "outputs": [
    {
     "data": {
      "text/html": [
       "<div>\n",
       "<style scoped>\n",
       "    .dataframe tbody tr th:only-of-type {\n",
       "        vertical-align: middle;\n",
       "    }\n",
       "\n",
       "    .dataframe tbody tr th {\n",
       "        vertical-align: top;\n",
       "    }\n",
       "\n",
       "    .dataframe thead th {\n",
       "        text-align: right;\n",
       "    }\n",
       "</style>\n",
       "<table border=\"1\" class=\"dataframe\">\n",
       "  <thead>\n",
       "    <tr style=\"text-align: right;\">\n",
       "      <th></th>\n",
       "      <th>SIS Id  (Agreement SIS)</th>\n",
       "      <th>Product Line Level 2</th>\n",
       "      <th>2015</th>\n",
       "      <th>2016</th>\n",
       "      <th>2017</th>\n",
       "      <th>2018</th>\n",
       "      <th>2019</th>\n",
       "      <th>2020</th>\n",
       "      <th>churn_2016</th>\n",
       "      <th>total_2016</th>\n",
       "      <th>...</th>\n",
       "      <th>total_2018</th>\n",
       "      <th>partial_2018</th>\n",
       "      <th>partial_pct_2018</th>\n",
       "      <th>churn_2019</th>\n",
       "      <th>total_2019</th>\n",
       "      <th>partial_2019</th>\n",
       "      <th>partial_pct_2019</th>\n",
       "      <th>TREND_TEXT</th>\n",
       "      <th>cust_booking_trend</th>\n",
       "      <th>cust_prod_booking_trend</th>\n",
       "    </tr>\n",
       "  </thead>\n",
       "  <tbody>\n",
       "    <tr>\n",
       "      <th>11</th>\n",
       "      <td>ECR-1</td>\n",
       "      <td>Knovel</td>\n",
       "      <td>133000.00</td>\n",
       "      <td>136990.00</td>\n",
       "      <td>141100.00</td>\n",
       "      <td>156304.00</td>\n",
       "      <td>160993.00</td>\n",
       "      <td>0</td>\n",
       "      <td>UPSOLD</td>\n",
       "      <td>0.00</td>\n",
       "      <td>...</td>\n",
       "      <td>0.00</td>\n",
       "      <td>0.00</td>\n",
       "      <td>0</td>\n",
       "      <td>UPSOLD</td>\n",
       "      <td>0.00</td>\n",
       "      <td>0.00</td>\n",
       "      <td>0</td>\n",
       "      <td>UPSOLD-UPSOLD-UPSOLD</td>\n",
       "      <td>cust_booking_updown_trend</td>\n",
       "      <td>cust_prod_booking_increasing_trend</td>\n",
       "    </tr>\n",
       "    <tr>\n",
       "      <th>31</th>\n",
       "      <td>ECR-10000700</td>\n",
       "      <td>Journals Electronic Subscriptions</td>\n",
       "      <td>256032.00</td>\n",
       "      <td>273177.65</td>\n",
       "      <td>292074.90</td>\n",
       "      <td>306909.00</td>\n",
       "      <td>322519.00</td>\n",
       "      <td>0</td>\n",
       "      <td>UPSOLD</td>\n",
       "      <td>0.00</td>\n",
       "      <td>...</td>\n",
       "      <td>0.00</td>\n",
       "      <td>0.00</td>\n",
       "      <td>0</td>\n",
       "      <td>UPSOLD</td>\n",
       "      <td>0.00</td>\n",
       "      <td>0.00</td>\n",
       "      <td>0</td>\n",
       "      <td>UPSOLD-UPSOLD-UPSOLD</td>\n",
       "      <td>cust_booking_increasing_trend</td>\n",
       "      <td>cust_prod_booking_increasing_trend</td>\n",
       "    </tr>\n",
       "    <tr>\n",
       "      <th>33</th>\n",
       "      <td>ECR-10000700</td>\n",
       "      <td>Reaxys</td>\n",
       "      <td>27628.00</td>\n",
       "      <td>29009.00</td>\n",
       "      <td>30169.00</td>\n",
       "      <td>31677.00</td>\n",
       "      <td>32940.00</td>\n",
       "      <td>0</td>\n",
       "      <td>UPSOLD</td>\n",
       "      <td>0.00</td>\n",
       "      <td>...</td>\n",
       "      <td>0.00</td>\n",
       "      <td>0.00</td>\n",
       "      <td>0</td>\n",
       "      <td>UPSOLD</td>\n",
       "      <td>0.00</td>\n",
       "      <td>0.00</td>\n",
       "      <td>0</td>\n",
       "      <td>UPSOLD-UPSOLD-UPSOLD</td>\n",
       "      <td>cust_booking_increasing_trend</td>\n",
       "      <td>cust_prod_booking_increasing_trend</td>\n",
       "    </tr>\n",
       "    <tr>\n",
       "      <th>34</th>\n",
       "      <td>ECR-10000700</td>\n",
       "      <td>SCOPUS</td>\n",
       "      <td>36582.00</td>\n",
       "      <td>38045.00</td>\n",
       "      <td>39567.00</td>\n",
       "      <td>41150.00</td>\n",
       "      <td>43002.00</td>\n",
       "      <td>0</td>\n",
       "      <td>UPSOLD</td>\n",
       "      <td>0.00</td>\n",
       "      <td>...</td>\n",
       "      <td>0.00</td>\n",
       "      <td>0.00</td>\n",
       "      <td>0</td>\n",
       "      <td>UPSOLD</td>\n",
       "      <td>0.00</td>\n",
       "      <td>0.00</td>\n",
       "      <td>0</td>\n",
       "      <td>UPSOLD-UPSOLD-UPSOLD</td>\n",
       "      <td>cust_booking_increasing_trend</td>\n",
       "      <td>cust_prod_booking_increasing_trend</td>\n",
       "    </tr>\n",
       "    <tr>\n",
       "      <th>93</th>\n",
       "      <td>ECR-1004</td>\n",
       "      <td>EV</td>\n",
       "      <td>169004.00</td>\n",
       "      <td>174074.00</td>\n",
       "      <td>179296.00</td>\n",
       "      <td>184675.00</td>\n",
       "      <td>345003.00</td>\n",
       "      <td>0</td>\n",
       "      <td>UPSOLD</td>\n",
       "      <td>0.00</td>\n",
       "      <td>...</td>\n",
       "      <td>0.00</td>\n",
       "      <td>0.00</td>\n",
       "      <td>0</td>\n",
       "      <td>UPSOLD</td>\n",
       "      <td>0.00</td>\n",
       "      <td>0.00</td>\n",
       "      <td>0</td>\n",
       "      <td>UPSOLD-UPSOLD-UPSOLD</td>\n",
       "      <td>cust_booking_updown_trend</td>\n",
       "      <td>cust_prod_booking_increasing_trend</td>\n",
       "    </tr>\n",
       "  </tbody>\n",
       "</table>\n",
       "<p>5 rows × 27 columns</p>\n",
       "</div>"
      ],
      "text/plain": [
       "   SIS Id  (Agreement SIS)               Product Line Level 2      2015      2016      2017      2018      2019  2020 churn_2016  total_2016  ...  total_2018  partial_2018 partial_pct_2018  churn_2019  total_2019  partial_2019 partial_pct_2019            TREND_TEXT             cust_booking_trend             cust_prod_booking_trend\n",
       "11                   ECR-1                             Knovel 133000.00 136990.00 141100.00 156304.00 160993.00     0     UPSOLD        0.00  ...        0.00          0.00                0      UPSOLD        0.00          0.00                0  UPSOLD-UPSOLD-UPSOLD      cust_booking_updown_trend  cust_prod_booking_increasing_trend\n",
       "31            ECR-10000700  Journals Electronic Subscriptions 256032.00 273177.65 292074.90 306909.00 322519.00     0     UPSOLD        0.00  ...        0.00          0.00                0      UPSOLD        0.00          0.00                0  UPSOLD-UPSOLD-UPSOLD  cust_booking_increasing_trend  cust_prod_booking_increasing_trend\n",
       "33            ECR-10000700                             Reaxys  27628.00  29009.00  30169.00  31677.00  32940.00     0     UPSOLD        0.00  ...        0.00          0.00                0      UPSOLD        0.00          0.00                0  UPSOLD-UPSOLD-UPSOLD  cust_booking_increasing_trend  cust_prod_booking_increasing_trend\n",
       "34            ECR-10000700                             SCOPUS  36582.00  38045.00  39567.00  41150.00  43002.00     0     UPSOLD        0.00  ...        0.00          0.00                0      UPSOLD        0.00          0.00                0  UPSOLD-UPSOLD-UPSOLD  cust_booking_increasing_trend  cust_prod_booking_increasing_trend\n",
       "93                ECR-1004                                 EV 169004.00 174074.00 179296.00 184675.00 345003.00     0     UPSOLD        0.00  ...        0.00          0.00                0      UPSOLD        0.00          0.00                0  UPSOLD-UPSOLD-UPSOLD      cust_booking_updown_trend  cust_prod_booking_increasing_trend\n",
       "\n",
       "[5 rows x 27 columns]"
      ]
     },
     "execution_count": 75,
     "metadata": {},
     "output_type": "execute_result"
    }
   ],
   "source": [
    "bookings_by_year[bookings_by_year.cust_prod_booking_trend == 'cust_prod_booking_increasing_trend'].head()"
   ]
  },
  {
   "cell_type": "code",
   "execution_count": 76,
   "metadata": {},
   "outputs": [],
   "source": [
    "bookings_by_year['3_yr_booking_change_pct'] = bookings_by_year.apply(lambda x: pct_change(x, 2015, 2018), axis=1)"
   ]
  },
  {
   "cell_type": "code",
   "execution_count": 77,
   "metadata": {},
   "outputs": [
    {
     "data": {
      "text/html": [
       "<div>\n",
       "<style scoped>\n",
       "    .dataframe tbody tr th:only-of-type {\n",
       "        vertical-align: middle;\n",
       "    }\n",
       "\n",
       "    .dataframe tbody tr th {\n",
       "        vertical-align: top;\n",
       "    }\n",
       "\n",
       "    .dataframe thead th {\n",
       "        text-align: right;\n",
       "    }\n",
       "</style>\n",
       "<table border=\"1\" class=\"dataframe\">\n",
       "  <thead>\n",
       "    <tr style=\"text-align: right;\">\n",
       "      <th></th>\n",
       "      <th>SIS Id  (Agreement SIS)</th>\n",
       "      <th>Product Line Level 2</th>\n",
       "      <th>2015</th>\n",
       "      <th>2016</th>\n",
       "      <th>2017</th>\n",
       "      <th>2018</th>\n",
       "      <th>2019</th>\n",
       "      <th>2020</th>\n",
       "      <th>churn_2016</th>\n",
       "      <th>total_2016</th>\n",
       "      <th>...</th>\n",
       "      <th>partial_2018</th>\n",
       "      <th>partial_pct_2018</th>\n",
       "      <th>churn_2019</th>\n",
       "      <th>total_2019</th>\n",
       "      <th>partial_2019</th>\n",
       "      <th>partial_pct_2019</th>\n",
       "      <th>TREND_TEXT</th>\n",
       "      <th>cust_booking_trend</th>\n",
       "      <th>cust_prod_booking_trend</th>\n",
       "      <th>3_yr_booking_change_pct</th>\n",
       "    </tr>\n",
       "  </thead>\n",
       "  <tbody>\n",
       "    <tr>\n",
       "      <th>12467</th>\n",
       "      <td>ECR-380603</td>\n",
       "      <td>Journals Electronic Subscriptions</td>\n",
       "      <td>0.00</td>\n",
       "      <td>13870953.53</td>\n",
       "      <td>22167341.17</td>\n",
       "      <td>14467869.91</td>\n",
       "      <td>14467869.92</td>\n",
       "      <td>0</td>\n",
       "      <td>UPSOLD</td>\n",
       "      <td>0.00</td>\n",
       "      <td>...</td>\n",
       "      <td>7699471.27</td>\n",
       "      <td>35</td>\n",
       "      <td>UPSOLD</td>\n",
       "      <td>0.00</td>\n",
       "      <td>0.00</td>\n",
       "      <td>0</td>\n",
       "      <td>UPSOLD-UPSOLD-PARTIAL_CHURN</td>\n",
       "      <td>cust_booking_updown_trend</td>\n",
       "      <td>cust_prod_booking_updown_trend</td>\n",
       "      <td>14467869.91</td>\n",
       "    </tr>\n",
       "    <tr>\n",
       "      <th>1856</th>\n",
       "      <td>ECR-1128518</td>\n",
       "      <td>Journals Electronic Subscriptions</td>\n",
       "      <td>0.00</td>\n",
       "      <td>5718336.14</td>\n",
       "      <td>6070094.00</td>\n",
       "      <td>6443100.00</td>\n",
       "      <td>13337387.70</td>\n",
       "      <td>0</td>\n",
       "      <td>UPSOLD</td>\n",
       "      <td>0.00</td>\n",
       "      <td>...</td>\n",
       "      <td>0.00</td>\n",
       "      <td>0</td>\n",
       "      <td>UPSOLD</td>\n",
       "      <td>0.00</td>\n",
       "      <td>0.00</td>\n",
       "      <td>0</td>\n",
       "      <td>UPSOLD-UPSOLD-UPSOLD</td>\n",
       "      <td>cust_booking_increasing_trend</td>\n",
       "      <td>cust_prod_booking_increasing_trend</td>\n",
       "      <td>6443100.00</td>\n",
       "    </tr>\n",
       "    <tr>\n",
       "      <th>20099</th>\n",
       "      <td>ECR-52792</td>\n",
       "      <td>Journals Electronic Subscriptions</td>\n",
       "      <td>0.00</td>\n",
       "      <td>0.00</td>\n",
       "      <td>0.00</td>\n",
       "      <td>5074877.93</td>\n",
       "      <td>2642047.59</td>\n",
       "      <td>0</td>\n",
       "      <td>LOST</td>\n",
       "      <td>0.00</td>\n",
       "      <td>...</td>\n",
       "      <td>0.00</td>\n",
       "      <td>0</td>\n",
       "      <td>PARTIAL_CHURN</td>\n",
       "      <td>0.00</td>\n",
       "      <td>2432830.34</td>\n",
       "      <td>48</td>\n",
       "      <td>LOST-LOST-UPSOLD</td>\n",
       "      <td>cust_booking_updown_trend</td>\n",
       "      <td>cust_prod_booking_updown_trend</td>\n",
       "      <td>5074877.93</td>\n",
       "    </tr>\n",
       "    <tr>\n",
       "      <th>21102</th>\n",
       "      <td>ECR-553270</td>\n",
       "      <td>Journals Electronic Subscriptions</td>\n",
       "      <td>0.00</td>\n",
       "      <td>8357496.91</td>\n",
       "      <td>5764699.64</td>\n",
       "      <td>2969800.41</td>\n",
       "      <td>0.00</td>\n",
       "      <td>0</td>\n",
       "      <td>UPSOLD</td>\n",
       "      <td>0.00</td>\n",
       "      <td>...</td>\n",
       "      <td>2794899.23</td>\n",
       "      <td>48</td>\n",
       "      <td>TOTAL_CHURN</td>\n",
       "      <td>2969800.41</td>\n",
       "      <td>0.00</td>\n",
       "      <td>0</td>\n",
       "      <td>UPSOLD-PARTIAL_CHURN-PARTIAL_CHURN</td>\n",
       "      <td>cust_booking_updown_trend</td>\n",
       "      <td>cust_prod_booking_updown_trend</td>\n",
       "      <td>2969800.41</td>\n",
       "    </tr>\n",
       "    <tr>\n",
       "      <th>8858</th>\n",
       "      <td>ECR-28712</td>\n",
       "      <td>Journals Electronic Subscriptions</td>\n",
       "      <td>0.00</td>\n",
       "      <td>0.00</td>\n",
       "      <td>0.00</td>\n",
       "      <td>2760119.62</td>\n",
       "      <td>2723827.68</td>\n",
       "      <td>0</td>\n",
       "      <td>LOST</td>\n",
       "      <td>0.00</td>\n",
       "      <td>...</td>\n",
       "      <td>0.00</td>\n",
       "      <td>0</td>\n",
       "      <td>PARTIAL_CHURN</td>\n",
       "      <td>0.00</td>\n",
       "      <td>36291.94</td>\n",
       "      <td>1</td>\n",
       "      <td>LOST-LOST-UPSOLD</td>\n",
       "      <td>cust_booking_updown_trend</td>\n",
       "      <td>cust_prod_booking_updown_trend</td>\n",
       "      <td>2760119.62</td>\n",
       "    </tr>\n",
       "    <tr>\n",
       "      <th>...</th>\n",
       "      <td>...</td>\n",
       "      <td>...</td>\n",
       "      <td>...</td>\n",
       "      <td>...</td>\n",
       "      <td>...</td>\n",
       "      <td>...</td>\n",
       "      <td>...</td>\n",
       "      <td>...</td>\n",
       "      <td>...</td>\n",
       "      <td>...</td>\n",
       "      <td>...</td>\n",
       "      <td>...</td>\n",
       "      <td>...</td>\n",
       "      <td>...</td>\n",
       "      <td>...</td>\n",
       "      <td>...</td>\n",
       "      <td>...</td>\n",
       "      <td>...</td>\n",
       "      <td>...</td>\n",
       "      <td>...</td>\n",
       "      <td>...</td>\n",
       "    </tr>\n",
       "    <tr>\n",
       "      <th>13766</th>\n",
       "      <td>ECR-402406</td>\n",
       "      <td>Journals Electronic Subscriptions</td>\n",
       "      <td>0.00</td>\n",
       "      <td>90000.00</td>\n",
       "      <td>227000.00</td>\n",
       "      <td>-227000.00</td>\n",
       "      <td>531360.10</td>\n",
       "      <td>0</td>\n",
       "      <td>UPSOLD</td>\n",
       "      <td>0.00</td>\n",
       "      <td>...</td>\n",
       "      <td>0.00</td>\n",
       "      <td>0</td>\n",
       "      <td>UPSOLD</td>\n",
       "      <td>0.00</td>\n",
       "      <td>0.00</td>\n",
       "      <td>0</td>\n",
       "      <td>UPSOLD-UPSOLD-TOTAL_CHURN</td>\n",
       "      <td>cust_booking_updown_trend</td>\n",
       "      <td>cust_prod_booking_updown_trend</td>\n",
       "      <td>-227000.00</td>\n",
       "    </tr>\n",
       "    <tr>\n",
       "      <th>19751</th>\n",
       "      <td>ECR-521241</td>\n",
       "      <td>Pharmapendium</td>\n",
       "      <td>0.00</td>\n",
       "      <td>0.00</td>\n",
       "      <td>201742.70</td>\n",
       "      <td>-237259.85</td>\n",
       "      <td>0.00</td>\n",
       "      <td>0</td>\n",
       "      <td>LOST</td>\n",
       "      <td>0.00</td>\n",
       "      <td>...</td>\n",
       "      <td>0.00</td>\n",
       "      <td>0</td>\n",
       "      <td>LOST</td>\n",
       "      <td>0.00</td>\n",
       "      <td>0.00</td>\n",
       "      <td>0</td>\n",
       "      <td>LOST-UPSOLD-TOTAL_CHURN</td>\n",
       "      <td>cust_booking_updown_trend</td>\n",
       "      <td>cust_prod_booking_updown_trend</td>\n",
       "      <td>-237259.85</td>\n",
       "    </tr>\n",
       "    <tr>\n",
       "      <th>17858</th>\n",
       "      <td>ECR-459818</td>\n",
       "      <td>Knovel</td>\n",
       "      <td>0.00</td>\n",
       "      <td>318368.07</td>\n",
       "      <td>318369.03</td>\n",
       "      <td>-318369.03</td>\n",
       "      <td>0.00</td>\n",
       "      <td>0</td>\n",
       "      <td>UPSOLD</td>\n",
       "      <td>0.00</td>\n",
       "      <td>...</td>\n",
       "      <td>0.00</td>\n",
       "      <td>0</td>\n",
       "      <td>LOST</td>\n",
       "      <td>0.00</td>\n",
       "      <td>0.00</td>\n",
       "      <td>0</td>\n",
       "      <td>UPSOLD-UPSOLD-TOTAL_CHURN</td>\n",
       "      <td>cust_booking_updown_trend</td>\n",
       "      <td>cust_prod_booking_updown_trend</td>\n",
       "      <td>-318369.03</td>\n",
       "    </tr>\n",
       "    <tr>\n",
       "      <th>2005</th>\n",
       "      <td>ECR-1142834</td>\n",
       "      <td>Journals Electronic Subscriptions</td>\n",
       "      <td>0.00</td>\n",
       "      <td>524072.70</td>\n",
       "      <td>1286942.90</td>\n",
       "      <td>-368333.35</td>\n",
       "      <td>0.00</td>\n",
       "      <td>0</td>\n",
       "      <td>UPSOLD</td>\n",
       "      <td>0.00</td>\n",
       "      <td>...</td>\n",
       "      <td>0.00</td>\n",
       "      <td>0</td>\n",
       "      <td>LOST</td>\n",
       "      <td>0.00</td>\n",
       "      <td>0.00</td>\n",
       "      <td>0</td>\n",
       "      <td>UPSOLD-UPSOLD-TOTAL_CHURN</td>\n",
       "      <td>cust_booking_updown_trend</td>\n",
       "      <td>cust_prod_booking_updown_trend</td>\n",
       "      <td>-368333.35</td>\n",
       "    </tr>\n",
       "    <tr>\n",
       "      <th>25642</th>\n",
       "      <td>ECR-83734</td>\n",
       "      <td>Reaxys</td>\n",
       "      <td>0.00</td>\n",
       "      <td>422211.31</td>\n",
       "      <td>439105.58</td>\n",
       "      <td>-444303.34</td>\n",
       "      <td>0.00</td>\n",
       "      <td>0</td>\n",
       "      <td>UPSOLD</td>\n",
       "      <td>0.00</td>\n",
       "      <td>...</td>\n",
       "      <td>0.00</td>\n",
       "      <td>0</td>\n",
       "      <td>LOST</td>\n",
       "      <td>0.00</td>\n",
       "      <td>0.00</td>\n",
       "      <td>0</td>\n",
       "      <td>UPSOLD-UPSOLD-TOTAL_CHURN</td>\n",
       "      <td>cust_booking_updown_trend</td>\n",
       "      <td>cust_prod_booking_updown_trend</td>\n",
       "      <td>-444303.34</td>\n",
       "    </tr>\n",
       "  </tbody>\n",
       "</table>\n",
       "<p>28002 rows × 28 columns</p>\n",
       "</div>"
      ],
      "text/plain": [
       "      SIS Id  (Agreement SIS)               Product Line Level 2  2015        2016        2017        2018        2019  2020 churn_2016  total_2016  ...  partial_2018  partial_pct_2018     churn_2019  total_2019  partial_2019  partial_pct_2019                          TREND_TEXT             cust_booking_trend             cust_prod_booking_trend  3_yr_booking_change_pct\n",
       "12467              ECR-380603  Journals Electronic Subscriptions  0.00 13870953.53 22167341.17 14467869.91 14467869.92     0     UPSOLD        0.00  ...    7699471.27                35         UPSOLD        0.00          0.00                 0         UPSOLD-UPSOLD-PARTIAL_CHURN      cust_booking_updown_trend      cust_prod_booking_updown_trend              14467869.91\n",
       "1856              ECR-1128518  Journals Electronic Subscriptions  0.00  5718336.14  6070094.00  6443100.00 13337387.70     0     UPSOLD        0.00  ...          0.00                 0         UPSOLD        0.00          0.00                 0                UPSOLD-UPSOLD-UPSOLD  cust_booking_increasing_trend  cust_prod_booking_increasing_trend               6443100.00\n",
       "20099               ECR-52792  Journals Electronic Subscriptions  0.00        0.00        0.00  5074877.93  2642047.59     0       LOST        0.00  ...          0.00                 0  PARTIAL_CHURN        0.00    2432830.34                48                    LOST-LOST-UPSOLD      cust_booking_updown_trend      cust_prod_booking_updown_trend               5074877.93\n",
       "21102              ECR-553270  Journals Electronic Subscriptions  0.00  8357496.91  5764699.64  2969800.41        0.00     0     UPSOLD        0.00  ...    2794899.23                48    TOTAL_CHURN  2969800.41          0.00                 0  UPSOLD-PARTIAL_CHURN-PARTIAL_CHURN      cust_booking_updown_trend      cust_prod_booking_updown_trend               2969800.41\n",
       "8858                ECR-28712  Journals Electronic Subscriptions  0.00        0.00        0.00  2760119.62  2723827.68     0       LOST        0.00  ...          0.00                 0  PARTIAL_CHURN        0.00      36291.94                 1                    LOST-LOST-UPSOLD      cust_booking_updown_trend      cust_prod_booking_updown_trend               2760119.62\n",
       "...                       ...                                ...   ...         ...         ...         ...         ...   ...        ...         ...  ...           ...               ...            ...         ...           ...               ...                                 ...                            ...                                 ...                      ...\n",
       "13766              ECR-402406  Journals Electronic Subscriptions  0.00    90000.00   227000.00  -227000.00   531360.10     0     UPSOLD        0.00  ...          0.00                 0         UPSOLD        0.00          0.00                 0           UPSOLD-UPSOLD-TOTAL_CHURN      cust_booking_updown_trend      cust_prod_booking_updown_trend               -227000.00\n",
       "19751              ECR-521241                      Pharmapendium  0.00        0.00   201742.70  -237259.85        0.00     0       LOST        0.00  ...          0.00                 0           LOST        0.00          0.00                 0             LOST-UPSOLD-TOTAL_CHURN      cust_booking_updown_trend      cust_prod_booking_updown_trend               -237259.85\n",
       "17858              ECR-459818                             Knovel  0.00   318368.07   318369.03  -318369.03        0.00     0     UPSOLD        0.00  ...          0.00                 0           LOST        0.00          0.00                 0           UPSOLD-UPSOLD-TOTAL_CHURN      cust_booking_updown_trend      cust_prod_booking_updown_trend               -318369.03\n",
       "2005              ECR-1142834  Journals Electronic Subscriptions  0.00   524072.70  1286942.90  -368333.35        0.00     0     UPSOLD        0.00  ...          0.00                 0           LOST        0.00          0.00                 0           UPSOLD-UPSOLD-TOTAL_CHURN      cust_booking_updown_trend      cust_prod_booking_updown_trend               -368333.35\n",
       "25642               ECR-83734                             Reaxys  0.00   422211.31   439105.58  -444303.34        0.00     0     UPSOLD        0.00  ...          0.00                 0           LOST        0.00          0.00                 0           UPSOLD-UPSOLD-TOTAL_CHURN      cust_booking_updown_trend      cust_prod_booking_updown_trend               -444303.34\n",
       "\n",
       "[28002 rows x 28 columns]"
      ]
     },
     "execution_count": 77,
     "metadata": {},
     "output_type": "execute_result"
    }
   ],
   "source": [
    "bookings_by_year.sort_values(by='3_yr_booking_change_pct', ascending=False)"
   ]
  },
  {
   "cell_type": "code",
   "execution_count": 78,
   "metadata": {},
   "outputs": [
    {
     "name": "stdout",
     "output_type": "stream",
     "text": [
      "14467869.90698054\n",
      "-444303.3372\n"
     ]
    }
   ],
   "source": [
    "print(max(bookings_by_year['3_yr_booking_change_pct']))\n",
    "print(min(bookings_by_year['3_yr_booking_change_pct']))"
   ]
  },
  {
   "cell_type": "code",
   "execution_count": 79,
   "metadata": {},
   "outputs": [],
   "source": [
    "bookings_by_year['3_yr_booking_change'] = pd.cut(bookings_by_year['3_yr_booking_change_pct'],\n",
    "       bins=[min(bookings_by_year['3_yr_booking_change_pct']),-100,-75,-50,-25,0,25,50,75,100,\n",
    "                 max(bookings_by_year['3_yr_booking_change_pct'])],labels=['over_100_pc_dec', '75_to_100_pc_dec', \n",
    "                                      '50_to_75_pc_dec', '25_to_50_pc_dec',  '0_to_25_pc_dec', '0_to_25_pc_inc', \n",
    "                                      '25_to_50_pc_inc','50_to_75_pc_inc', '75_to_100_pc_inc', 'over_100_pc_inc'])"
   ]
  },
  {
   "cell_type": "code",
   "execution_count": 80,
   "metadata": {},
   "outputs": [
    {
     "data": {
      "text/plain": [
       "0_to_25_pc_dec      10284\n",
       "0_to_25_pc_inc       6530\n",
       "over_100_pc_inc      6324\n",
       "over_100_pc_dec      1545\n",
       "25_to_50_pc_inc      1346\n",
       "25_to_50_pc_dec       671\n",
       "50_to_75_pc_inc       429\n",
       "50_to_75_pc_dec       315\n",
       "75_to_100_pc_dec      297\n",
       "75_to_100_pc_inc      260\n",
       "nan                     1\n",
       "Name: 3_yr_booking_change, dtype: int64"
      ]
     },
     "execution_count": 80,
     "metadata": {},
     "output_type": "execute_result"
    }
   ],
   "source": [
    "bookings_by_year['3_yr_booking_change'] = bookings_by_year['3_yr_booking_change'].astype(str)\n",
    "bookings_by_year['3_yr_booking_change'].value_counts()"
   ]
  },
  {
   "cell_type": "code",
   "execution_count": 81,
   "metadata": {},
   "outputs": [
    {
     "name": "stdout",
     "output_type": "stream",
     "text": [
      "0_to_25_pc_dec     36.73\n",
      "0_to_25_pc_inc     23.32\n",
      "over_100_pc_inc    22.58\n",
      "over_100_pc_dec     5.52\n",
      "25_to_50_pc_inc     4.81\n",
      "25_to_50_pc_dec     2.40\n",
      "50_to_75_pc_inc     1.53\n",
      "50_to_75_pc_dec     1.12\n",
      "75_to_100_pc_dec    1.06\n",
      "75_to_100_pc_inc    0.93\n",
      "nan                 0.00\n",
      "Name: 3_yr_booking_change, dtype: float64\n"
     ]
    }
   ],
   "source": [
    "print(100. * bookings_by_year['3_yr_booking_change'].value_counts(dropna=False) / len(bookings_by_year['3_yr_booking_change']))"
   ]
  },
  {
   "cell_type": "code",
   "execution_count": null,
   "metadata": {},
   "outputs": [],
   "source": []
  },
  {
   "cell_type": "code",
   "execution_count": 82,
   "metadata": {},
   "outputs": [
    {
     "data": {
      "text/plain": [
       "<seaborn.axisgrid.FacetGrid at 0x1c12731b6d0>"
      ]
     },
     "execution_count": 82,
     "metadata": {},
     "output_type": "execute_result"
    },
    {
     "data": {
      "image/png": "[encoded data removed]",
      "text/plain": [
       "<Figure size 360x360 with 1 Axes>"
      ]
     },
     "metadata": {
      "needs_background": "light"
     },
     "output_type": "display_data"
    }
   ],
   "source": [
    "import seaborn as sns\n",
    "sns.catplot(x=\"churn_2019\", y=\"3_yr_booking_change_pct\", data=bookings_by_year)"
   ]
  },
  {
   "cell_type": "code",
   "execution_count": 83,
   "metadata": {},
   "outputs": [
    {
     "data": {
      "text/plain": [
       "SIS Id  (Agreement SIS)     object\n",
       "Product Line Level 2        object\n",
       "2015                       float64\n",
       "2016                       float64\n",
       "2017                       float64\n",
       "2018                       float64\n",
       "2019                       float64\n",
       "2020                         int64\n",
       "churn_2016                  object\n",
       "total_2016                 float64\n",
       "partial_2016               float64\n",
       "partial_pct_2016             int64\n",
       "churn_2017                  object\n",
       "total_2017                 float64\n",
       "partial_2017               float64\n",
       "partial_pct_2017             int64\n",
       "churn_2018                  object\n",
       "total_2018                 float64\n",
       "partial_2018               float64\n",
       "partial_pct_2018             int64\n",
       "churn_2019                  object\n",
       "total_2019                 float64\n",
       "partial_2019               float64\n",
       "partial_pct_2019             int64\n",
       "TREND_TEXT                  object\n",
       "cust_booking_trend          object\n",
       "cust_prod_booking_trend     object\n",
       "3_yr_booking_change_pct    float64\n",
       "3_yr_booking_change         object\n",
       "dtype: object"
      ]
     },
     "execution_count": 83,
     "metadata": {},
     "output_type": "execute_result"
    }
   ],
   "source": [
    "bookings_by_year.dtypes"
   ]
  },
  {
   "cell_type": "code",
   "execution_count": 84,
   "metadata": {},
   "outputs": [
    {
     "data": {
      "text/html": [
       "<div>\n",
       "<style scoped>\n",
       "    .dataframe tbody tr th:only-of-type {\n",
       "        vertical-align: middle;\n",
       "    }\n",
       "\n",
       "    .dataframe tbody tr th {\n",
       "        vertical-align: top;\n",
       "    }\n",
       "\n",
       "    .dataframe thead th {\n",
       "        text-align: right;\n",
       "    }\n",
       "</style>\n",
       "<table border=\"1\" class=\"dataframe\">\n",
       "  <thead>\n",
       "    <tr style=\"text-align: right;\">\n",
       "      <th></th>\n",
       "      <th>SIS Id  (Agreement SIS)</th>\n",
       "      <th>Product Line Level 2</th>\n",
       "      <th>2015</th>\n",
       "      <th>2016</th>\n",
       "      <th>2017</th>\n",
       "      <th>2018</th>\n",
       "      <th>2019</th>\n",
       "      <th>2020</th>\n",
       "      <th>churn_2016</th>\n",
       "      <th>total_2016</th>\n",
       "      <th>...</th>\n",
       "      <th>partial_pct_2018</th>\n",
       "      <th>churn_2019</th>\n",
       "      <th>total_2019</th>\n",
       "      <th>partial_2019</th>\n",
       "      <th>partial_pct_2019</th>\n",
       "      <th>TREND_TEXT</th>\n",
       "      <th>cust_booking_trend</th>\n",
       "      <th>cust_prod_booking_trend</th>\n",
       "      <th>3_yr_booking_change_pct</th>\n",
       "      <th>3_yr_booking_change</th>\n",
       "    </tr>\n",
       "  </thead>\n",
       "  <tbody>\n",
       "    <tr>\n",
       "      <th>0</th>\n",
       "      <td>1107461</td>\n",
       "      <td>Knovel</td>\n",
       "      <td>-2245.61</td>\n",
       "      <td>0.00</td>\n",
       "      <td>0.00</td>\n",
       "      <td>0.00</td>\n",
       "      <td>0.00</td>\n",
       "      <td>0</td>\n",
       "      <td>LOST</td>\n",
       "      <td>0.00</td>\n",
       "      <td>...</td>\n",
       "      <td>0</td>\n",
       "      <td>LOST</td>\n",
       "      <td>0.00</td>\n",
       "      <td>0.00</td>\n",
       "      <td>0</td>\n",
       "      <td>LOST-LOST-LOST</td>\n",
       "      <td>cust_booking_updown_trend</td>\n",
       "      <td>cust_prod_booking_updown_trend</td>\n",
       "      <td>0.00</td>\n",
       "      <td>0_to_25_pc_dec</td>\n",
       "    </tr>\n",
       "    <tr>\n",
       "      <th>1</th>\n",
       "      <td>1110518</td>\n",
       "      <td>embase</td>\n",
       "      <td>0.00</td>\n",
       "      <td>0.00</td>\n",
       "      <td>17529.00</td>\n",
       "      <td>0.00</td>\n",
       "      <td>0.00</td>\n",
       "      <td>0</td>\n",
       "      <td>LOST</td>\n",
       "      <td>0.00</td>\n",
       "      <td>...</td>\n",
       "      <td>0</td>\n",
       "      <td>LOST</td>\n",
       "      <td>0.00</td>\n",
       "      <td>0.00</td>\n",
       "      <td>0</td>\n",
       "      <td>LOST-UPSOLD-TOTAL_CHURN</td>\n",
       "      <td>cust_booking_updown_trend</td>\n",
       "      <td>cust_prod_booking_updown_trend</td>\n",
       "      <td>0.00</td>\n",
       "      <td>0_to_25_pc_dec</td>\n",
       "    </tr>\n",
       "    <tr>\n",
       "      <th>2</th>\n",
       "      <td>1211459</td>\n",
       "      <td>SSRN</td>\n",
       "      <td>202.10</td>\n",
       "      <td>0.00</td>\n",
       "      <td>0.00</td>\n",
       "      <td>0.00</td>\n",
       "      <td>0.00</td>\n",
       "      <td>0</td>\n",
       "      <td>TOTAL_CHURN</td>\n",
       "      <td>202.10</td>\n",
       "      <td>...</td>\n",
       "      <td>0</td>\n",
       "      <td>LOST</td>\n",
       "      <td>0.00</td>\n",
       "      <td>0.00</td>\n",
       "      <td>0</td>\n",
       "      <td>TOTAL_CHURN-LOST-LOST</td>\n",
       "      <td>cust_booking_decreasing_trend</td>\n",
       "      <td>cust_prod_booking_decreasing_trend</td>\n",
       "      <td>0.00</td>\n",
       "      <td>0_to_25_pc_dec</td>\n",
       "    </tr>\n",
       "    <tr>\n",
       "      <th>3</th>\n",
       "      <td>394770</td>\n",
       "      <td>SCOPUS</td>\n",
       "      <td>-4056.77</td>\n",
       "      <td>0.00</td>\n",
       "      <td>0.00</td>\n",
       "      <td>0.00</td>\n",
       "      <td>0.00</td>\n",
       "      <td>0</td>\n",
       "      <td>LOST</td>\n",
       "      <td>0.00</td>\n",
       "      <td>...</td>\n",
       "      <td>0</td>\n",
       "      <td>LOST</td>\n",
       "      <td>0.00</td>\n",
       "      <td>0.00</td>\n",
       "      <td>0</td>\n",
       "      <td>LOST-LOST-LOST</td>\n",
       "      <td>cust_booking_updown_trend</td>\n",
       "      <td>cust_prod_booking_updown_trend</td>\n",
       "      <td>0.00</td>\n",
       "      <td>0_to_25_pc_dec</td>\n",
       "    </tr>\n",
       "    <tr>\n",
       "      <th>4</th>\n",
       "      <td>416754</td>\n",
       "      <td>Journals Electronic Subscriptions</td>\n",
       "      <td>38207.91</td>\n",
       "      <td>0.00</td>\n",
       "      <td>0.00</td>\n",
       "      <td>0.00</td>\n",
       "      <td>0.00</td>\n",
       "      <td>0</td>\n",
       "      <td>TOTAL_CHURN</td>\n",
       "      <td>38207.91</td>\n",
       "      <td>...</td>\n",
       "      <td>0</td>\n",
       "      <td>LOST</td>\n",
       "      <td>0.00</td>\n",
       "      <td>0.00</td>\n",
       "      <td>0</td>\n",
       "      <td>TOTAL_CHURN-LOST-LOST</td>\n",
       "      <td>cust_booking_decreasing_trend</td>\n",
       "      <td>cust_prod_booking_decreasing_trend</td>\n",
       "      <td>0.00</td>\n",
       "      <td>0_to_25_pc_dec</td>\n",
       "    </tr>\n",
       "  </tbody>\n",
       "</table>\n",
       "<p>5 rows × 29 columns</p>\n",
       "</div>"
      ],
      "text/plain": [
       "  SIS Id  (Agreement SIS)               Product Line Level 2     2015  2016     2017  2018  2019  2020   churn_2016  total_2016  ...  partial_pct_2018  churn_2019 total_2019  partial_2019  partial_pct_2019               TREND_TEXT             cust_booking_trend             cust_prod_booking_trend  3_yr_booking_change_pct  3_yr_booking_change\n",
       "0                 1107461                             Knovel -2245.61  0.00     0.00  0.00  0.00     0         LOST        0.00  ...                 0        LOST       0.00          0.00                 0           LOST-LOST-LOST      cust_booking_updown_trend      cust_prod_booking_updown_trend                     0.00       0_to_25_pc_dec\n",
       "1                 1110518                             embase     0.00  0.00 17529.00  0.00  0.00     0         LOST        0.00  ...                 0        LOST       0.00          0.00                 0  LOST-UPSOLD-TOTAL_CHURN      cust_booking_updown_trend      cust_prod_booking_updown_trend                     0.00       0_to_25_pc_dec\n",
       "2                 1211459                               SSRN   202.10  0.00     0.00  0.00  0.00     0  TOTAL_CHURN      202.10  ...                 0        LOST       0.00          0.00                 0    TOTAL_CHURN-LOST-LOST  cust_booking_decreasing_trend  cust_prod_booking_decreasing_trend                     0.00       0_to_25_pc_dec\n",
       "3                  394770                             SCOPUS -4056.77  0.00     0.00  0.00  0.00     0         LOST        0.00  ...                 0        LOST       0.00          0.00                 0           LOST-LOST-LOST      cust_booking_updown_trend      cust_prod_booking_updown_trend                     0.00       0_to_25_pc_dec\n",
       "4                  416754  Journals Electronic Subscriptions 38207.91  0.00     0.00  0.00  0.00     0  TOTAL_CHURN    38207.91  ...                 0        LOST       0.00          0.00                 0    TOTAL_CHURN-LOST-LOST  cust_booking_decreasing_trend  cust_prod_booking_decreasing_trend                     0.00       0_to_25_pc_dec\n",
       "\n",
       "[5 rows x 29 columns]"
      ]
     },
     "execution_count": 84,
     "metadata": {},
     "output_type": "execute_result"
    }
   ],
   "source": [
    "bookings_by_year.head()"
   ]
  },
  {
   "cell_type": "code",
   "execution_count": 85,
   "metadata": {},
   "outputs": [],
   "source": [
    "# Having some issue saving churn_label to HDF to saving to pickle "
   ]
  },
  {
   "cell_type": "code",
   "execution_count": 86,
   "metadata": {},
   "outputs": [],
   "source": [
    "bookings_by_year.to_pickle('../data/hdf/churn_label_dev.pickle')"
   ]
  },
  {
   "cell_type": "code",
   "execution_count": 87,
   "metadata": {},
   "outputs": [],
   "source": [
    "#bookings_by_year.to_hdf(path_to_hdf_datastore, key=\"churn_label\")"
   ]
  },
  {
   "cell_type": "markdown",
   "metadata": {},
   "source": [
    "### SD USAGE DATA"
   ]
  },
  {
   "cell_type": "code",
   "execution_count": 88,
   "metadata": {},
   "outputs": [],
   "source": [
    "usage_per_jnl_act = pd.read_csv('../data/02. Data collection/01. Customer Data/05. Product Usage/SD_USAGE/PA-4968 usage per jnl per acct.csv')"
   ]
  },
  {
   "cell_type": "code",
   "execution_count": 89,
   "metadata": {},
   "outputs": [
    {
     "data": {
      "text/plain": [
       "Index(['account_name', 'account_number', 'ecr', 'sis', 'entitlement', 'year',\n",
       "       'issn', 'journal_title', 'fta'],\n",
       "      dtype='object')"
      ]
     },
     "execution_count": 89,
     "metadata": {},
     "output_type": "execute_result"
    }
   ],
   "source": [
    "usage_per_jnl_act.columns"
   ]
  },
  {
   "cell_type": "code",
   "execution_count": 90,
   "metadata": {},
   "outputs": [
    {
     "data": {
      "text/html": [
       "<div>\n",
       "<style scoped>\n",
       "    .dataframe tbody tr th:only-of-type {\n",
       "        vertical-align: middle;\n",
       "    }\n",
       "\n",
       "    .dataframe tbody tr th {\n",
       "        vertical-align: top;\n",
       "    }\n",
       "\n",
       "    .dataframe thead th {\n",
       "        text-align: right;\n",
       "    }\n",
       "</style>\n",
       "<table border=\"1\" class=\"dataframe\">\n",
       "  <thead>\n",
       "    <tr style=\"text-align: right;\">\n",
       "      <th></th>\n",
       "      <th>account_name</th>\n",
       "      <th>account_number</th>\n",
       "      <th>ecr</th>\n",
       "      <th>sis</th>\n",
       "      <th>entitlement</th>\n",
       "      <th>year</th>\n",
       "      <th>issn</th>\n",
       "      <th>journal_title</th>\n",
       "      <th>fta</th>\n",
       "    </tr>\n",
       "  </thead>\n",
       "  <tbody>\n",
       "    <tr>\n",
       "      <th>0</th>\n",
       "      <td>Gyeongsang National University</td>\n",
       "      <td>C000019138</td>\n",
       "      <td>ECR-136936</td>\n",
       "      <td>136936</td>\n",
       "      <td>subject_collection</td>\n",
       "      <td>2018-01-01 00:00:00.000000</td>\n",
       "      <td>0981-9428</td>\n",
       "      <td>Plant Physiology and Biochemistry</td>\n",
       "      <td>1019</td>\n",
       "    </tr>\n",
       "    <tr>\n",
       "      <th>1</th>\n",
       "      <td>University of Málaga</td>\n",
       "      <td>C000032799</td>\n",
       "      <td>ECR-2195</td>\n",
       "      <td>2195</td>\n",
       "      <td>freedom_collection</td>\n",
       "      <td>2018-01-01 00:00:00.000000</td>\n",
       "      <td>1053-8119</td>\n",
       "      <td>NeuroImage</td>\n",
       "      <td>692</td>\n",
       "    </tr>\n",
       "    <tr>\n",
       "      <th>2</th>\n",
       "      <td>Walailak University</td>\n",
       "      <td>C000054431</td>\n",
       "      <td>NaN</td>\n",
       "      <td>404797</td>\n",
       "      <td>freedom_collection</td>\n",
       "      <td>2018-01-01 00:00:00.000000</td>\n",
       "      <td>0981-9428</td>\n",
       "      <td>Plant Physiology and Biochemistry</td>\n",
       "      <td>140</td>\n",
       "    </tr>\n",
       "    <tr>\n",
       "      <th>3</th>\n",
       "      <td>BS - The Copenhagen Business School Library CBS</td>\n",
       "      <td>C000033618</td>\n",
       "      <td>NaN</td>\n",
       "      <td>246661</td>\n",
       "      <td>freedom_collection</td>\n",
       "      <td>2018-01-01 00:00:00.000000</td>\n",
       "      <td>0748-7983</td>\n",
       "      <td>European Journal of Surgical Oncology</td>\n",
       "      <td>36</td>\n",
       "    </tr>\n",
       "    <tr>\n",
       "      <th>4</th>\n",
       "      <td>Indian Institute of Technology Jodhpur</td>\n",
       "      <td>C000117573</td>\n",
       "      <td>ECR-735166</td>\n",
       "      <td>735166</td>\n",
       "      <td>gold_open_access</td>\n",
       "      <td>2018-01-01 00:00:00.000000</td>\n",
       "      <td>1053-8119</td>\n",
       "      <td>NeuroImage</td>\n",
       "      <td>28</td>\n",
       "    </tr>\n",
       "  </tbody>\n",
       "</table>\n",
       "</div>"
      ],
      "text/plain": [
       "                                      account_name account_number         ecr     sis         entitlement                        year       issn                          journal_title   fta\n",
       "0                   Gyeongsang National University     C000019138  ECR-136936  136936  subject_collection  2018-01-01 00:00:00.000000  0981-9428      Plant Physiology and Biochemistry  1019\n",
       "1                             University of Málaga     C000032799    ECR-2195    2195  freedom_collection  2018-01-01 00:00:00.000000  1053-8119                             NeuroImage   692\n",
       "2                              Walailak University     C000054431         NaN  404797  freedom_collection  2018-01-01 00:00:00.000000  0981-9428      Plant Physiology and Biochemistry   140\n",
       "3  BS - The Copenhagen Business School Library CBS     C000033618         NaN  246661  freedom_collection  2018-01-01 00:00:00.000000  0748-7983  European Journal of Surgical Oncology    36\n",
       "4           Indian Institute of Technology Jodhpur     C000117573  ECR-735166  735166    gold_open_access  2018-01-01 00:00:00.000000  1053-8119                             NeuroImage    28"
      ]
     },
     "execution_count": 90,
     "metadata": {},
     "output_type": "execute_result"
    }
   ],
   "source": [
    "usage_per_jnl_act.head()"
   ]
  },
  {
   "cell_type": "code",
   "execution_count": 94,
   "metadata": {},
   "outputs": [
    {
     "ename": "MemoryError",
     "evalue": "",
     "output_type": "error",
     "traceback": [
      "\u001b[1;31m---------------------------------------------------------------------------\u001b[0m",
      "\u001b[1;31mMemoryError\u001b[0m                               Traceback (most recent call last)",
      "\u001b[1;32m<ipython-input-94-fffb6a87c26e>\u001b[0m in \u001b[0;36m<module>\u001b[1;34m\u001b[0m\n\u001b[0;32m      1\u001b[0m \u001b[1;31m#usage_per_jnl_act['year'] = pd.to_datetime(usage_per_jnl_act['year'] ).dt.strftime('%Y-%m-%d')\u001b[0m\u001b[1;33m\u001b[0m\u001b[1;33m\u001b[0m\u001b[1;33m\u001b[0m\u001b[0m\n\u001b[0;32m      2\u001b[0m \u001b[0musage_per_jnl_act\u001b[0m\u001b[1;33m[\u001b[0m\u001b[1;34m'year'\u001b[0m\u001b[1;33m]\u001b[0m \u001b[1;33m=\u001b[0m \u001b[0mpd\u001b[0m\u001b[1;33m.\u001b[0m\u001b[0mto_datetime\u001b[0m\u001b[1;33m(\u001b[0m\u001b[0musage_per_jnl_act\u001b[0m\u001b[1;33m[\u001b[0m\u001b[1;34m'year'\u001b[0m\u001b[1;33m]\u001b[0m \u001b[1;33m,\u001b[0m \u001b[0mformat\u001b[0m\u001b[1;33m=\u001b[0m\u001b[1;34m'%Y-%m-%d'\u001b[0m\u001b[1;33m)\u001b[0m\u001b[1;33m\u001b[0m\u001b[1;33m\u001b[0m\u001b[0m\n\u001b[1;32m----> 3\u001b[1;33m \u001b[0musage_per_jnl_act\u001b[0m\u001b[1;33m[\u001b[0m\u001b[1;34m'year'\u001b[0m\u001b[1;33m]\u001b[0m \u001b[1;33m=\u001b[0m \u001b[0musage_per_jnl_act\u001b[0m\u001b[1;33m[\u001b[0m\u001b[1;34m'year'\u001b[0m\u001b[1;33m]\u001b[0m\u001b[1;33m.\u001b[0m\u001b[0mmap\u001b[0m\u001b[1;33m(\u001b[0m\u001b[1;32mlambda\u001b[0m \u001b[0mx\u001b[0m\u001b[1;33m:\u001b[0m \u001b[0mx\u001b[0m\u001b[1;33m.\u001b[0m\u001b[0myear\u001b[0m \u001b[1;33m)\u001b[0m\u001b[1;33m\u001b[0m\u001b[1;33m\u001b[0m\u001b[0m\n\u001b[0m\u001b[0;32m      4\u001b[0m \u001b[0musage_per_jnl_act\u001b[0m\u001b[1;33m[\u001b[0m\u001b[1;34m'year'\u001b[0m\u001b[1;33m]\u001b[0m\u001b[1;33m.\u001b[0m\u001b[0mdtypes\u001b[0m\u001b[1;33m\u001b[0m\u001b[1;33m\u001b[0m\u001b[0m\n",
      "\u001b[1;32m~\\.virtualenvs\\rss-customer-churn-B66CRNaT\\lib\\site-packages\\pandas\\core\\series.py\u001b[0m in \u001b[0;36mmap\u001b[1;34m(self, arg, na_action)\u001b[0m\n\u001b[0;32m   3628\u001b[0m         \u001b[0mdtype\u001b[0m\u001b[1;33m:\u001b[0m \u001b[0mobject\u001b[0m\u001b[1;33m\u001b[0m\u001b[1;33m\u001b[0m\u001b[0m\n\u001b[0;32m   3629\u001b[0m         \"\"\"\n\u001b[1;32m-> 3630\u001b[1;33m         \u001b[0mnew_values\u001b[0m \u001b[1;33m=\u001b[0m \u001b[0msuper\u001b[0m\u001b[1;33m(\u001b[0m\u001b[1;33m)\u001b[0m\u001b[1;33m.\u001b[0m\u001b[0m_map_values\u001b[0m\u001b[1;33m(\u001b[0m\u001b[0marg\u001b[0m\u001b[1;33m,\u001b[0m \u001b[0mna_action\u001b[0m\u001b[1;33m=\u001b[0m\u001b[0mna_action\u001b[0m\u001b[1;33m)\u001b[0m\u001b[1;33m\u001b[0m\u001b[1;33m\u001b[0m\u001b[0m\n\u001b[0m\u001b[0;32m   3631\u001b[0m         \u001b[1;32mreturn\u001b[0m \u001b[0mself\u001b[0m\u001b[1;33m.\u001b[0m\u001b[0m_constructor\u001b[0m\u001b[1;33m(\u001b[0m\u001b[0mnew_values\u001b[0m\u001b[1;33m,\u001b[0m \u001b[0mindex\u001b[0m\u001b[1;33m=\u001b[0m\u001b[0mself\u001b[0m\u001b[1;33m.\u001b[0m\u001b[0mindex\u001b[0m\u001b[1;33m)\u001b[0m\u001b[1;33m.\u001b[0m\u001b[0m__finalize__\u001b[0m\u001b[1;33m(\u001b[0m\u001b[0mself\u001b[0m\u001b[1;33m)\u001b[0m\u001b[1;33m\u001b[0m\u001b[1;33m\u001b[0m\u001b[0m\n\u001b[0;32m   3632\u001b[0m \u001b[1;33m\u001b[0m\u001b[0m\n",
      "\u001b[1;32m~\\.virtualenvs\\rss-customer-churn-B66CRNaT\\lib\\site-packages\\pandas\\core\\base.py\u001b[0m in \u001b[0;36m_map_values\u001b[1;34m(self, mapper, na_action)\u001b[0m\n\u001b[0;32m   1141\u001b[0m             \u001b[0mmap_f\u001b[0m \u001b[1;33m=\u001b[0m \u001b[1;32mlambda\u001b[0m \u001b[0mvalues\u001b[0m\u001b[1;33m,\u001b[0m \u001b[0mf\u001b[0m\u001b[1;33m:\u001b[0m \u001b[0mvalues\u001b[0m\u001b[1;33m.\u001b[0m\u001b[0mmap\u001b[0m\u001b[1;33m(\u001b[0m\u001b[0mf\u001b[0m\u001b[1;33m)\u001b[0m\u001b[1;33m\u001b[0m\u001b[1;33m\u001b[0m\u001b[0m\n\u001b[0;32m   1142\u001b[0m         \u001b[1;32melse\u001b[0m\u001b[1;33m:\u001b[0m\u001b[1;33m\u001b[0m\u001b[1;33m\u001b[0m\u001b[0m\n\u001b[1;32m-> 1143\u001b[1;33m             \u001b[0mvalues\u001b[0m \u001b[1;33m=\u001b[0m \u001b[0mself\u001b[0m\u001b[1;33m.\u001b[0m\u001b[0mastype\u001b[0m\u001b[1;33m(\u001b[0m\u001b[0mobject\u001b[0m\u001b[1;33m)\u001b[0m\u001b[1;33m\u001b[0m\u001b[1;33m\u001b[0m\u001b[0m\n\u001b[0m\u001b[0;32m   1144\u001b[0m             \u001b[0mvalues\u001b[0m \u001b[1;33m=\u001b[0m \u001b[0mgetattr\u001b[0m\u001b[1;33m(\u001b[0m\u001b[0mvalues\u001b[0m\u001b[1;33m,\u001b[0m \u001b[1;34m\"values\"\u001b[0m\u001b[1;33m,\u001b[0m \u001b[0mvalues\u001b[0m\u001b[1;33m)\u001b[0m\u001b[1;33m\u001b[0m\u001b[1;33m\u001b[0m\u001b[0m\n\u001b[0;32m   1145\u001b[0m             \u001b[1;32mif\u001b[0m \u001b[0mna_action\u001b[0m \u001b[1;33m==\u001b[0m \u001b[1;34m\"ignore\"\u001b[0m\u001b[1;33m:\u001b[0m\u001b[1;33m\u001b[0m\u001b[1;33m\u001b[0m\u001b[0m\n",
      "\u001b[1;32m~\\.virtualenvs\\rss-customer-churn-B66CRNaT\\lib\\site-packages\\pandas\\core\\generic.py\u001b[0m in \u001b[0;36mastype\u001b[1;34m(self, dtype, copy, errors)\u001b[0m\n\u001b[0;32m   5696\u001b[0m         \u001b[1;32melse\u001b[0m\u001b[1;33m:\u001b[0m\u001b[1;33m\u001b[0m\u001b[1;33m\u001b[0m\u001b[0m\n\u001b[0;32m   5697\u001b[0m             \u001b[1;31m# else, only a single dtype is given\u001b[0m\u001b[1;33m\u001b[0m\u001b[1;33m\u001b[0m\u001b[1;33m\u001b[0m\u001b[0m\n\u001b[1;32m-> 5698\u001b[1;33m             \u001b[0mnew_data\u001b[0m \u001b[1;33m=\u001b[0m \u001b[0mself\u001b[0m\u001b[1;33m.\u001b[0m\u001b[0m_data\u001b[0m\u001b[1;33m.\u001b[0m\u001b[0mastype\u001b[0m\u001b[1;33m(\u001b[0m\u001b[0mdtype\u001b[0m\u001b[1;33m=\u001b[0m\u001b[0mdtype\u001b[0m\u001b[1;33m,\u001b[0m \u001b[0mcopy\u001b[0m\u001b[1;33m=\u001b[0m\u001b[0mcopy\u001b[0m\u001b[1;33m,\u001b[0m \u001b[0merrors\u001b[0m\u001b[1;33m=\u001b[0m\u001b[0merrors\u001b[0m\u001b[1;33m)\u001b[0m\u001b[1;33m\u001b[0m\u001b[1;33m\u001b[0m\u001b[0m\n\u001b[0m\u001b[0;32m   5699\u001b[0m             \u001b[1;32mreturn\u001b[0m \u001b[0mself\u001b[0m\u001b[1;33m.\u001b[0m\u001b[0m_constructor\u001b[0m\u001b[1;33m(\u001b[0m\u001b[0mnew_data\u001b[0m\u001b[1;33m)\u001b[0m\u001b[1;33m.\u001b[0m\u001b[0m__finalize__\u001b[0m\u001b[1;33m(\u001b[0m\u001b[0mself\u001b[0m\u001b[1;33m)\u001b[0m\u001b[1;33m\u001b[0m\u001b[1;33m\u001b[0m\u001b[0m\n\u001b[0;32m   5700\u001b[0m \u001b[1;33m\u001b[0m\u001b[0m\n",
      "\u001b[1;32m~\\.virtualenvs\\rss-customer-churn-B66CRNaT\\lib\\site-packages\\pandas\\core\\internals\\managers.py\u001b[0m in \u001b[0;36mastype\u001b[1;34m(self, dtype, copy, errors)\u001b[0m\n\u001b[0;32m    580\u001b[0m \u001b[1;33m\u001b[0m\u001b[0m\n\u001b[0;32m    581\u001b[0m     \u001b[1;32mdef\u001b[0m \u001b[0mastype\u001b[0m\u001b[1;33m(\u001b[0m\u001b[0mself\u001b[0m\u001b[1;33m,\u001b[0m \u001b[0mdtype\u001b[0m\u001b[1;33m,\u001b[0m \u001b[0mcopy\u001b[0m\u001b[1;33m:\u001b[0m \u001b[0mbool\u001b[0m \u001b[1;33m=\u001b[0m \u001b[1;32mFalse\u001b[0m\u001b[1;33m,\u001b[0m \u001b[0merrors\u001b[0m\u001b[1;33m:\u001b[0m \u001b[0mstr\u001b[0m \u001b[1;33m=\u001b[0m \u001b[1;34m\"raise\"\u001b[0m\u001b[1;33m)\u001b[0m\u001b[1;33m:\u001b[0m\u001b[1;33m\u001b[0m\u001b[1;33m\u001b[0m\u001b[0m\n\u001b[1;32m--> 582\u001b[1;33m         \u001b[1;32mreturn\u001b[0m \u001b[0mself\u001b[0m\u001b[1;33m.\u001b[0m\u001b[0mapply\u001b[0m\u001b[1;33m(\u001b[0m\u001b[1;34m\"astype\"\u001b[0m\u001b[1;33m,\u001b[0m \u001b[0mdtype\u001b[0m\u001b[1;33m=\u001b[0m\u001b[0mdtype\u001b[0m\u001b[1;33m,\u001b[0m \u001b[0mcopy\u001b[0m\u001b[1;33m=\u001b[0m\u001b[0mcopy\u001b[0m\u001b[1;33m,\u001b[0m \u001b[0merrors\u001b[0m\u001b[1;33m=\u001b[0m\u001b[0merrors\u001b[0m\u001b[1;33m)\u001b[0m\u001b[1;33m\u001b[0m\u001b[1;33m\u001b[0m\u001b[0m\n\u001b[0m\u001b[0;32m    583\u001b[0m \u001b[1;33m\u001b[0m\u001b[0m\n\u001b[0;32m    584\u001b[0m     \u001b[1;32mdef\u001b[0m \u001b[0mconvert\u001b[0m\u001b[1;33m(\u001b[0m\u001b[0mself\u001b[0m\u001b[1;33m,\u001b[0m \u001b[1;33m**\u001b[0m\u001b[0mkwargs\u001b[0m\u001b[1;33m)\u001b[0m\u001b[1;33m:\u001b[0m\u001b[1;33m\u001b[0m\u001b[1;33m\u001b[0m\u001b[0m\n",
      "\u001b[1;32m~\\.virtualenvs\\rss-customer-churn-B66CRNaT\\lib\\site-packages\\pandas\\core\\internals\\managers.py\u001b[0m in \u001b[0;36mapply\u001b[1;34m(self, f, filter, **kwargs)\u001b[0m\n\u001b[0;32m    440\u001b[0m                 \u001b[0mapplied\u001b[0m \u001b[1;33m=\u001b[0m \u001b[0mb\u001b[0m\u001b[1;33m.\u001b[0m\u001b[0mapply\u001b[0m\u001b[1;33m(\u001b[0m\u001b[0mf\u001b[0m\u001b[1;33m,\u001b[0m \u001b[1;33m**\u001b[0m\u001b[0mkwargs\u001b[0m\u001b[1;33m)\u001b[0m\u001b[1;33m\u001b[0m\u001b[1;33m\u001b[0m\u001b[0m\n\u001b[0;32m    441\u001b[0m             \u001b[1;32melse\u001b[0m\u001b[1;33m:\u001b[0m\u001b[1;33m\u001b[0m\u001b[1;33m\u001b[0m\u001b[0m\n\u001b[1;32m--> 442\u001b[1;33m                 \u001b[0mapplied\u001b[0m \u001b[1;33m=\u001b[0m \u001b[0mgetattr\u001b[0m\u001b[1;33m(\u001b[0m\u001b[0mb\u001b[0m\u001b[1;33m,\u001b[0m \u001b[0mf\u001b[0m\u001b[1;33m)\u001b[0m\u001b[1;33m(\u001b[0m\u001b[1;33m**\u001b[0m\u001b[0mkwargs\u001b[0m\u001b[1;33m)\u001b[0m\u001b[1;33m\u001b[0m\u001b[1;33m\u001b[0m\u001b[0m\n\u001b[0m\u001b[0;32m    443\u001b[0m             \u001b[0mresult_blocks\u001b[0m \u001b[1;33m=\u001b[0m \u001b[0m_extend_blocks\u001b[0m\u001b[1;33m(\u001b[0m\u001b[0mapplied\u001b[0m\u001b[1;33m,\u001b[0m \u001b[0mresult_blocks\u001b[0m\u001b[1;33m)\u001b[0m\u001b[1;33m\u001b[0m\u001b[1;33m\u001b[0m\u001b[0m\n\u001b[0;32m    444\u001b[0m \u001b[1;33m\u001b[0m\u001b[0m\n",
      "\u001b[1;32m~\\.virtualenvs\\rss-customer-churn-B66CRNaT\\lib\\site-packages\\pandas\\core\\internals\\blocks.py\u001b[0m in \u001b[0;36mastype\u001b[1;34m(self, dtype, copy, errors)\u001b[0m\n\u001b[0;32m   2213\u001b[0m \u001b[1;33m\u001b[0m\u001b[0m\n\u001b[0;32m   2214\u001b[0m         \u001b[1;31m# delegate\u001b[0m\u001b[1;33m\u001b[0m\u001b[1;33m\u001b[0m\u001b[1;33m\u001b[0m\u001b[0m\n\u001b[1;32m-> 2215\u001b[1;33m         \u001b[1;32mreturn\u001b[0m \u001b[0msuper\u001b[0m\u001b[1;33m(\u001b[0m\u001b[1;33m)\u001b[0m\u001b[1;33m.\u001b[0m\u001b[0mastype\u001b[0m\u001b[1;33m(\u001b[0m\u001b[0mdtype\u001b[0m\u001b[1;33m=\u001b[0m\u001b[0mdtype\u001b[0m\u001b[1;33m,\u001b[0m \u001b[0mcopy\u001b[0m\u001b[1;33m=\u001b[0m\u001b[0mcopy\u001b[0m\u001b[1;33m,\u001b[0m \u001b[0merrors\u001b[0m\u001b[1;33m=\u001b[0m\u001b[0merrors\u001b[0m\u001b[1;33m)\u001b[0m\u001b[1;33m\u001b[0m\u001b[1;33m\u001b[0m\u001b[0m\n\u001b[0m\u001b[0;32m   2216\u001b[0m \u001b[1;33m\u001b[0m\u001b[0m\n\u001b[0;32m   2217\u001b[0m     \u001b[1;32mdef\u001b[0m \u001b[0m_can_hold_element\u001b[0m\u001b[1;33m(\u001b[0m\u001b[0mself\u001b[0m\u001b[1;33m,\u001b[0m \u001b[0melement\u001b[0m\u001b[1;33m:\u001b[0m \u001b[0mAny\u001b[0m\u001b[1;33m)\u001b[0m \u001b[1;33m->\u001b[0m \u001b[0mbool\u001b[0m\u001b[1;33m:\u001b[0m\u001b[1;33m\u001b[0m\u001b[1;33m\u001b[0m\u001b[0m\n",
      "\u001b[1;32m~\\.virtualenvs\\rss-customer-churn-B66CRNaT\\lib\\site-packages\\pandas\\core\\internals\\blocks.py\u001b[0m in \u001b[0;36mastype\u001b[1;34m(self, dtype, copy, errors)\u001b[0m\n\u001b[0;32m    618\u001b[0m \u001b[1;33m\u001b[0m\u001b[0m\n\u001b[0;32m    619\u001b[0m             \u001b[1;32melse\u001b[0m\u001b[1;33m:\u001b[0m\u001b[1;33m\u001b[0m\u001b[1;33m\u001b[0m\u001b[0m\n\u001b[1;32m--> 620\u001b[1;33m                 \u001b[0mvalues\u001b[0m \u001b[1;33m=\u001b[0m \u001b[0mself\u001b[0m\u001b[1;33m.\u001b[0m\u001b[0mget_values\u001b[0m\u001b[1;33m(\u001b[0m\u001b[0mdtype\u001b[0m\u001b[1;33m=\u001b[0m\u001b[0mdtype\u001b[0m\u001b[1;33m)\u001b[0m\u001b[1;33m\u001b[0m\u001b[1;33m\u001b[0m\u001b[0m\n\u001b[0m\u001b[0;32m    621\u001b[0m \u001b[1;33m\u001b[0m\u001b[0m\n\u001b[0;32m    622\u001b[0m             \u001b[1;31m# _astype_nansafe works fine with 1-d only\u001b[0m\u001b[1;33m\u001b[0m\u001b[1;33m\u001b[0m\u001b[1;33m\u001b[0m\u001b[0m\n",
      "\u001b[1;32m~\\.virtualenvs\\rss-customer-churn-B66CRNaT\\lib\\site-packages\\pandas\\core\\internals\\blocks.py\u001b[0m in \u001b[0;36mget_values\u001b[1;34m(self, dtype)\u001b[0m\n\u001b[0;32m   2145\u001b[0m         \u001b[1;32mif\u001b[0m \u001b[0mis_object_dtype\u001b[0m\u001b[1;33m(\u001b[0m\u001b[0mdtype\u001b[0m\u001b[1;33m)\u001b[0m\u001b[1;33m:\u001b[0m\u001b[1;33m\u001b[0m\u001b[1;33m\u001b[0m\u001b[0m\n\u001b[0;32m   2146\u001b[0m             \u001b[0mvalues\u001b[0m \u001b[1;33m=\u001b[0m \u001b[0mself\u001b[0m\u001b[1;33m.\u001b[0m\u001b[0mvalues\u001b[0m\u001b[1;33m.\u001b[0m\u001b[0mravel\u001b[0m\u001b[1;33m(\u001b[0m\u001b[1;33m)\u001b[0m\u001b[1;33m\u001b[0m\u001b[1;33m\u001b[0m\u001b[0m\n\u001b[1;32m-> 2147\u001b[1;33m             \u001b[0mresult\u001b[0m \u001b[1;33m=\u001b[0m \u001b[0mself\u001b[0m\u001b[1;33m.\u001b[0m\u001b[0m_holder\u001b[0m\u001b[1;33m(\u001b[0m\u001b[0mvalues\u001b[0m\u001b[1;33m)\u001b[0m\u001b[1;33m.\u001b[0m\u001b[0mastype\u001b[0m\u001b[1;33m(\u001b[0m\u001b[0mobject\u001b[0m\u001b[1;33m)\u001b[0m\u001b[1;33m\u001b[0m\u001b[1;33m\u001b[0m\u001b[0m\n\u001b[0m\u001b[0;32m   2148\u001b[0m             \u001b[1;32mreturn\u001b[0m \u001b[0mresult\u001b[0m\u001b[1;33m.\u001b[0m\u001b[0mreshape\u001b[0m\u001b[1;33m(\u001b[0m\u001b[0mself\u001b[0m\u001b[1;33m.\u001b[0m\u001b[0mvalues\u001b[0m\u001b[1;33m.\u001b[0m\u001b[0mshape\u001b[0m\u001b[1;33m)\u001b[0m\u001b[1;33m\u001b[0m\u001b[1;33m\u001b[0m\u001b[0m\n\u001b[0;32m   2149\u001b[0m         \u001b[1;32mreturn\u001b[0m \u001b[0mself\u001b[0m\u001b[1;33m.\u001b[0m\u001b[0mvalues\u001b[0m\u001b[1;33m\u001b[0m\u001b[1;33m\u001b[0m\u001b[0m\n",
      "\u001b[1;32m~\\.virtualenvs\\rss-customer-churn-B66CRNaT\\lib\\site-packages\\pandas\\core\\arrays\\datetimes.py\u001b[0m in \u001b[0;36mastype\u001b[1;34m(self, dtype, copy)\u001b[0m\n\u001b[0;32m    602\u001b[0m         \u001b[1;32melif\u001b[0m \u001b[0mis_period_dtype\u001b[0m\u001b[1;33m(\u001b[0m\u001b[0mdtype\u001b[0m\u001b[1;33m)\u001b[0m\u001b[1;33m:\u001b[0m\u001b[1;33m\u001b[0m\u001b[1;33m\u001b[0m\u001b[0m\n\u001b[0;32m    603\u001b[0m             \u001b[1;32mreturn\u001b[0m \u001b[0mself\u001b[0m\u001b[1;33m.\u001b[0m\u001b[0mto_period\u001b[0m\u001b[1;33m(\u001b[0m\u001b[0mfreq\u001b[0m\u001b[1;33m=\u001b[0m\u001b[0mdtype\u001b[0m\u001b[1;33m.\u001b[0m\u001b[0mfreq\u001b[0m\u001b[1;33m)\u001b[0m\u001b[1;33m\u001b[0m\u001b[1;33m\u001b[0m\u001b[0m\n\u001b[1;32m--> 604\u001b[1;33m         \u001b[1;32mreturn\u001b[0m \u001b[0mdtl\u001b[0m\u001b[1;33m.\u001b[0m\u001b[0mDatetimeLikeArrayMixin\u001b[0m\u001b[1;33m.\u001b[0m\u001b[0mastype\u001b[0m\u001b[1;33m(\u001b[0m\u001b[0mself\u001b[0m\u001b[1;33m,\u001b[0m \u001b[0mdtype\u001b[0m\u001b[1;33m,\u001b[0m \u001b[0mcopy\u001b[0m\u001b[1;33m)\u001b[0m\u001b[1;33m\u001b[0m\u001b[1;33m\u001b[0m\u001b[0m\n\u001b[0m\u001b[0;32m    605\u001b[0m \u001b[1;33m\u001b[0m\u001b[0m\n\u001b[0;32m    606\u001b[0m     \u001b[1;31m# -----------------------------------------------------------------\u001b[0m\u001b[1;33m\u001b[0m\u001b[1;33m\u001b[0m\u001b[1;33m\u001b[0m\u001b[0m\n",
      "\u001b[1;32m~\\.virtualenvs\\rss-customer-churn-B66CRNaT\\lib\\site-packages\\pandas\\core\\arrays\\datetimelike.py\u001b[0m in \u001b[0;36mastype\u001b[1;34m(self, dtype, copy)\u001b[0m\n\u001b[0;32m    622\u001b[0m \u001b[1;33m\u001b[0m\u001b[0m\n\u001b[0;32m    623\u001b[0m         \u001b[1;32mif\u001b[0m \u001b[0mis_object_dtype\u001b[0m\u001b[1;33m(\u001b[0m\u001b[0mdtype\u001b[0m\u001b[1;33m)\u001b[0m\u001b[1;33m:\u001b[0m\u001b[1;33m\u001b[0m\u001b[1;33m\u001b[0m\u001b[0m\n\u001b[1;32m--> 624\u001b[1;33m             \u001b[1;32mreturn\u001b[0m \u001b[0mself\u001b[0m\u001b[1;33m.\u001b[0m\u001b[0m_box_values\u001b[0m\u001b[1;33m(\u001b[0m\u001b[0mself\u001b[0m\u001b[1;33m.\u001b[0m\u001b[0masi8\u001b[0m\u001b[1;33m)\u001b[0m\u001b[1;33m\u001b[0m\u001b[1;33m\u001b[0m\u001b[0m\n\u001b[0m\u001b[0;32m    625\u001b[0m         \u001b[1;32melif\u001b[0m \u001b[0mis_string_dtype\u001b[0m\u001b[1;33m(\u001b[0m\u001b[0mdtype\u001b[0m\u001b[1;33m)\u001b[0m \u001b[1;32mand\u001b[0m \u001b[1;32mnot\u001b[0m \u001b[0mis_categorical_dtype\u001b[0m\u001b[1;33m(\u001b[0m\u001b[0mdtype\u001b[0m\u001b[1;33m)\u001b[0m\u001b[1;33m:\u001b[0m\u001b[1;33m\u001b[0m\u001b[1;33m\u001b[0m\u001b[0m\n\u001b[0;32m    626\u001b[0m             \u001b[1;32mreturn\u001b[0m \u001b[0mself\u001b[0m\u001b[1;33m.\u001b[0m\u001b[0m_format_native_types\u001b[0m\u001b[1;33m(\u001b[0m\u001b[1;33m)\u001b[0m\u001b[1;33m\u001b[0m\u001b[1;33m\u001b[0m\u001b[0m\n",
      "\u001b[1;32m~\\.virtualenvs\\rss-customer-churn-B66CRNaT\\lib\\site-packages\\pandas\\core\\arrays\\datetimelike.py\u001b[0m in \u001b[0;36m_box_values\u001b[1;34m(self, values)\u001b[0m\n\u001b[0;32m    436\u001b[0m         \u001b[0mapply\u001b[0m \u001b[0mbox\u001b[0m \u001b[0mfunc\u001b[0m \u001b[0mto\u001b[0m \u001b[0mpassed\u001b[0m \u001b[0mvalues\u001b[0m\u001b[1;33m\u001b[0m\u001b[1;33m\u001b[0m\u001b[0m\n\u001b[0;32m    437\u001b[0m         \"\"\"\n\u001b[1;32m--> 438\u001b[1;33m         \u001b[1;32mreturn\u001b[0m \u001b[0mlib\u001b[0m\u001b[1;33m.\u001b[0m\u001b[0mmap_infer\u001b[0m\u001b[1;33m(\u001b[0m\u001b[0mvalues\u001b[0m\u001b[1;33m,\u001b[0m \u001b[0mself\u001b[0m\u001b[1;33m.\u001b[0m\u001b[0m_box_func\u001b[0m\u001b[1;33m)\u001b[0m\u001b[1;33m\u001b[0m\u001b[1;33m\u001b[0m\u001b[0m\n\u001b[0m\u001b[0;32m    439\u001b[0m \u001b[1;33m\u001b[0m\u001b[0m\n\u001b[0;32m    440\u001b[0m     \u001b[1;32mdef\u001b[0m \u001b[0m__iter__\u001b[0m\u001b[1;33m(\u001b[0m\u001b[0mself\u001b[0m\u001b[1;33m)\u001b[0m\u001b[1;33m:\u001b[0m\u001b[1;33m\u001b[0m\u001b[1;33m\u001b[0m\u001b[0m\n",
      "\u001b[1;32mpandas\\_libs\\lib.pyx\u001b[0m in \u001b[0;36mpandas._libs.lib.map_infer\u001b[1;34m()\u001b[0m\n",
      "\u001b[1;32m~\\.virtualenvs\\rss-customer-churn-B66CRNaT\\lib\\site-packages\\pandas\\core\\arrays\\datetimes.py\u001b[0m in \u001b[0;36m<lambda>\u001b[1;34m(x)\u001b[0m\n\u001b[0;32m    474\u001b[0m     \u001b[1;33m@\u001b[0m\u001b[0mproperty\u001b[0m\u001b[1;33m\u001b[0m\u001b[1;33m\u001b[0m\u001b[0m\n\u001b[0;32m    475\u001b[0m     \u001b[1;32mdef\u001b[0m \u001b[0m_box_func\u001b[0m\u001b[1;33m(\u001b[0m\u001b[0mself\u001b[0m\u001b[1;33m)\u001b[0m\u001b[1;33m:\u001b[0m\u001b[1;33m\u001b[0m\u001b[1;33m\u001b[0m\u001b[0m\n\u001b[1;32m--> 476\u001b[1;33m         \u001b[1;32mreturn\u001b[0m \u001b[1;32mlambda\u001b[0m \u001b[0mx\u001b[0m\u001b[1;33m:\u001b[0m \u001b[0mTimestamp\u001b[0m\u001b[1;33m(\u001b[0m\u001b[0mx\u001b[0m\u001b[1;33m,\u001b[0m \u001b[0mfreq\u001b[0m\u001b[1;33m=\u001b[0m\u001b[0mself\u001b[0m\u001b[1;33m.\u001b[0m\u001b[0mfreq\u001b[0m\u001b[1;33m,\u001b[0m \u001b[0mtz\u001b[0m\u001b[1;33m=\u001b[0m\u001b[0mself\u001b[0m\u001b[1;33m.\u001b[0m\u001b[0mtz\u001b[0m\u001b[1;33m)\u001b[0m\u001b[1;33m\u001b[0m\u001b[1;33m\u001b[0m\u001b[0m\n\u001b[0m\u001b[0;32m    477\u001b[0m \u001b[1;33m\u001b[0m\u001b[0m\n\u001b[0;32m    478\u001b[0m     \u001b[1;33m@\u001b[0m\u001b[0mproperty\u001b[0m\u001b[1;33m\u001b[0m\u001b[1;33m\u001b[0m\u001b[0m\n",
      "\u001b[1;32mpandas\\_libs\\tslibs\\timestamps.pyx\u001b[0m in \u001b[0;36mpandas._libs.tslibs.timestamps.Timestamp.__new__\u001b[1;34m()\u001b[0m\n",
      "\u001b[1;32mpandas\\_libs\\tslibs\\timestamps.pyx\u001b[0m in \u001b[0;36mpandas._libs.tslibs.timestamps.create_timestamp_from_ts\u001b[1;34m()\u001b[0m\n",
      "\u001b[1;31mMemoryError\u001b[0m: "
     ]
    }
   ],
   "source": [
    "usage_per_jnl_act['year'] = pd.to_datetime(usage_per_jnl_act['year'] ).dt.strftime('%Y-%m-%d')\n",
    "usage_per_jnl_act['year'] = pd.to_datetime(usage_per_jnl_act['year'] , format='%Y-%m-%d')\n",
    "usage_per_jnl_act['year'] = usage_per_jnl_act['year'].map(lambda x: x.year )\n",
    "usage_per_jnl_act['year'].dtypes"
   ]
  },
  {
   "cell_type": "code",
   "execution_count": 94,
   "metadata": {},
   "outputs": [
    {
     "data": {
      "text/plain": [
       "2018    17198075\n",
       "2017    15726833\n",
       "2016    14404087\n",
       "2015    12655300\n",
       "2014    11327652\n",
       "2013    10250374\n",
       "Name: year, dtype: int64"
      ]
     },
     "execution_count": 94,
     "metadata": {},
     "output_type": "execute_result"
    }
   ],
   "source": [
    "usage_per_jnl_act['year'].value_counts(dropna=False)"
   ]
  },
  {
   "cell_type": "code",
   "execution_count": 95,
   "metadata": {},
   "outputs": [
    {
     "data": {
      "text/plain": [
       "freedom_collection    25401101\n",
       "gold_open_access      21077336\n",
       "subscribed            14948717\n",
       "subject_collection     5276366\n",
       "backfile               5250567\n",
       "free                   3916439\n",
       "open_archive           2420679\n",
       "purchased              1975776\n",
       "unsubscribed           1268955\n",
       "condition                26385\n",
       "Name: entitlement, dtype: int64"
      ]
     },
     "execution_count": 95,
     "metadata": {},
     "output_type": "execute_result"
    }
   ],
   "source": [
    "usage_per_jnl_act['entitlement'].value_counts()"
   ]
  },
  {
   "cell_type": "markdown",
   "metadata": {},
   "source": [
    "<b> Read JLS List from excel </b>"
   ]
  },
  {
   "cell_type": "code",
   "execution_count": null,
   "metadata": {},
   "outputs": [],
   "source": []
  },
  {
   "cell_type": "code",
   "execution_count": 96,
   "metadata": {},
   "outputs": [],
   "source": [
    "JLS_list = pd.read_csv('../data/02. Data collection/01. Customer Data/10. Other/JLS titles.csv')"
   ]
  },
  {
   "cell_type": "code",
   "execution_count": 97,
   "metadata": {},
   "outputs": [
    {
     "data": {
      "text/html": [
       "<div>\n",
       "<style scoped>\n",
       "    .dataframe tbody tr th:only-of-type {\n",
       "        vertical-align: middle;\n",
       "    }\n",
       "\n",
       "    .dataframe tbody tr th {\n",
       "        vertical-align: top;\n",
       "    }\n",
       "\n",
       "    .dataframe thead th {\n",
       "        text-align: right;\n",
       "    }\n",
       "</style>\n",
       "<table border=\"1\" class=\"dataframe\">\n",
       "  <thead>\n",
       "    <tr style=\"text-align: right;\">\n",
       "      <th></th>\n",
       "      <th>PRODUCT_ID</th>\n",
       "      <th>DESCRIPTION</th>\n",
       "      <th>Journal Type</th>\n",
       "      <th>?Product</th>\n",
       "      <th>Product Description</th>\n",
       "      <th>Vendor Part Number (ISSN)</th>\n",
       "      <th>Product Line Level 3</th>\n",
       "      <th>Product Line Level 4</th>\n",
       "    </tr>\n",
       "  </thead>\n",
       "  <tbody>\n",
       "    <tr>\n",
       "      <th>0</th>\n",
       "      <td>02215</td>\n",
       "      <td>Cell Chemical Biology</td>\n",
       "      <td>Cell Press</td>\n",
       "      <td>02215</td>\n",
       "      <td>Cell Chemical Biology</td>\n",
       "      <td>2451-9456</td>\n",
       "      <td>Cell Press</td>\n",
       "      <td>nan</td>\n",
       "    </tr>\n",
       "    <tr>\n",
       "      <th>1</th>\n",
       "      <td>02216</td>\n",
       "      <td>Current Biology</td>\n",
       "      <td>Cell Press</td>\n",
       "      <td>02216</td>\n",
       "      <td>Current Biology</td>\n",
       "      <td>0960-9822</td>\n",
       "      <td>Cell Press</td>\n",
       "      <td>nan</td>\n",
       "    </tr>\n",
       "    <tr>\n",
       "      <th>2</th>\n",
       "      <td>02218</td>\n",
       "      <td>Structure</td>\n",
       "      <td>Cell Press</td>\n",
       "      <td>02218</td>\n",
       "      <td>Structure</td>\n",
       "      <td>0969-2126</td>\n",
       "      <td>Cell Press</td>\n",
       "      <td>nan</td>\n",
       "    </tr>\n",
       "    <tr>\n",
       "      <th>3</th>\n",
       "      <td>07590</td>\n",
       "      <td>Cell</td>\n",
       "      <td>Cell Press</td>\n",
       "      <td>07590</td>\n",
       "      <td>Cell</td>\n",
       "      <td>0092-8674</td>\n",
       "      <td>Cell Press</td>\n",
       "      <td>nan</td>\n",
       "    </tr>\n",
       "    <tr>\n",
       "      <th>4</th>\n",
       "      <td>07591</td>\n",
       "      <td>Immunity</td>\n",
       "      <td>Cell Press</td>\n",
       "      <td>07591</td>\n",
       "      <td>Immunity</td>\n",
       "      <td>1074-7613</td>\n",
       "      <td>Cell Press</td>\n",
       "      <td>nan</td>\n",
       "    </tr>\n",
       "  </tbody>\n",
       "</table>\n",
       "</div>"
      ],
      "text/plain": [
       "  PRODUCT_ID            DESCRIPTION Journal Type ?Product    Product Description Vendor Part Number (ISSN) Product Line Level 3  Product Line Level 4\n",
       "0      02215  Cell Chemical Biology   Cell Press    02215  Cell Chemical Biology                 2451-9456           Cell Press                   nan\n",
       "1      02216        Current Biology   Cell Press    02216        Current Biology                 0960-9822           Cell Press                   nan\n",
       "2      02218              Structure   Cell Press    02218              Structure                 0969-2126           Cell Press                   nan\n",
       "3      07590                   Cell   Cell Press    07590                   Cell                 0092-8674           Cell Press                   nan\n",
       "4      07591               Immunity   Cell Press    07591               Immunity                 1074-7613           Cell Press                   nan"
      ]
     },
     "execution_count": 97,
     "metadata": {},
     "output_type": "execute_result"
    }
   ],
   "source": [
    "JLS_list.head()"
   ]
  },
  {
   "cell_type": "code",
   "execution_count": 98,
   "metadata": {},
   "outputs": [],
   "source": [
    "JLS_list = JLS_list[['Vendor Part Number (ISSN)']]\n",
    "JLS_list['Product Line Level 2'] = 'Journal Level Sales'"
   ]
  },
  {
   "cell_type": "code",
   "execution_count": 99,
   "metadata": {},
   "outputs": [],
   "source": [
    "usage_per_jnl_act = pd.merge(usage_per_jnl_act, JLS_list, left_on='issn', right_on='Vendor Part Number (ISSN)', how='left')"
   ]
  },
  {
   "cell_type": "code",
   "execution_count": null,
   "metadata": {},
   "outputs": [],
   "source": []
  },
  {
   "cell_type": "code",
   "execution_count": 100,
   "metadata": {},
   "outputs": [
    {
     "data": {
      "text/plain": [
       "NaN                    78985097\n",
       "Journal Level Sales     2577224\n",
       "Name: Product Line Level 2, dtype: int64"
      ]
     },
     "execution_count": 100,
     "metadata": {},
     "output_type": "execute_result"
    }
   ],
   "source": [
    "usage_per_jnl_act['Product Line Level 2'].value_counts(dropna=False)"
   ]
  },
  {
   "cell_type": "markdown",
   "metadata": {},
   "source": [
    " <b> As suggested by SD Usage data owner what is not in JLS list is JES </b>\n"
   ]
  },
  {
   "cell_type": "code",
   "execution_count": 101,
   "metadata": {},
   "outputs": [],
   "source": [
    "usage_per_jnl_act.fillna({'Product Line Level 2': 'Journals Electronic Subscriptions'}, inplace=True)"
   ]
  },
  {
   "cell_type": "code",
   "execution_count": 102,
   "metadata": {},
   "outputs": [
    {
     "data": {
      "text/plain": [
       "Journals Electronic Subscriptions    78985097\n",
       "Journal Level Sales                   2577224\n",
       "Name: Product Line Level 2, dtype: int64"
      ]
     },
     "execution_count": 102,
     "metadata": {},
     "output_type": "execute_result"
    }
   ],
   "source": [
    "usage_per_jnl_act['Product Line Level 2'].value_counts(dropna=False)"
   ]
  },
  {
   "cell_type": "code",
   "execution_count": 103,
   "metadata": {},
   "outputs": [
    {
     "data": {
      "text/html": [
       "<div>\n",
       "<style scoped>\n",
       "    .dataframe tbody tr th:only-of-type {\n",
       "        vertical-align: middle;\n",
       "    }\n",
       "\n",
       "    .dataframe tbody tr th {\n",
       "        vertical-align: top;\n",
       "    }\n",
       "\n",
       "    .dataframe thead th {\n",
       "        text-align: right;\n",
       "    }\n",
       "</style>\n",
       "<table border=\"1\" class=\"dataframe\">\n",
       "  <thead>\n",
       "    <tr style=\"text-align: right;\">\n",
       "      <th></th>\n",
       "      <th>account_name</th>\n",
       "      <th>account_number</th>\n",
       "      <th>ecr</th>\n",
       "      <th>sis</th>\n",
       "      <th>entitlement</th>\n",
       "      <th>year</th>\n",
       "      <th>issn</th>\n",
       "      <th>journal_title</th>\n",
       "      <th>fta</th>\n",
       "      <th>Vendor Part Number (ISSN)</th>\n",
       "      <th>Product Line Level 2</th>\n",
       "    </tr>\n",
       "  </thead>\n",
       "  <tbody>\n",
       "    <tr>\n",
       "      <th>0</th>\n",
       "      <td>Gyeongsang National University</td>\n",
       "      <td>C000019138</td>\n",
       "      <td>ECR-136936</td>\n",
       "      <td>136936</td>\n",
       "      <td>subject_collection</td>\n",
       "      <td>2018</td>\n",
       "      <td>0981-9428</td>\n",
       "      <td>Plant Physiology and Biochemistry</td>\n",
       "      <td>1019</td>\n",
       "      <td>NaN</td>\n",
       "      <td>Journals Electronic Subscriptions</td>\n",
       "    </tr>\n",
       "    <tr>\n",
       "      <th>1</th>\n",
       "      <td>University of Málaga</td>\n",
       "      <td>C000032799</td>\n",
       "      <td>ECR-2195</td>\n",
       "      <td>2195</td>\n",
       "      <td>freedom_collection</td>\n",
       "      <td>2018</td>\n",
       "      <td>1053-8119</td>\n",
       "      <td>NeuroImage</td>\n",
       "      <td>692</td>\n",
       "      <td>NaN</td>\n",
       "      <td>Journals Electronic Subscriptions</td>\n",
       "    </tr>\n",
       "    <tr>\n",
       "      <th>2</th>\n",
       "      <td>Walailak University</td>\n",
       "      <td>C000054431</td>\n",
       "      <td>NaN</td>\n",
       "      <td>404797</td>\n",
       "      <td>freedom_collection</td>\n",
       "      <td>2018</td>\n",
       "      <td>0981-9428</td>\n",
       "      <td>Plant Physiology and Biochemistry</td>\n",
       "      <td>140</td>\n",
       "      <td>NaN</td>\n",
       "      <td>Journals Electronic Subscriptions</td>\n",
       "    </tr>\n",
       "    <tr>\n",
       "      <th>3</th>\n",
       "      <td>BS - The Copenhagen Business School Library CBS</td>\n",
       "      <td>C000033618</td>\n",
       "      <td>NaN</td>\n",
       "      <td>246661</td>\n",
       "      <td>freedom_collection</td>\n",
       "      <td>2018</td>\n",
       "      <td>0748-7983</td>\n",
       "      <td>European Journal of Surgical Oncology</td>\n",
       "      <td>36</td>\n",
       "      <td>NaN</td>\n",
       "      <td>Journals Electronic Subscriptions</td>\n",
       "    </tr>\n",
       "    <tr>\n",
       "      <th>4</th>\n",
       "      <td>Indian Institute of Technology Jodhpur</td>\n",
       "      <td>C000117573</td>\n",
       "      <td>ECR-735166</td>\n",
       "      <td>735166</td>\n",
       "      <td>gold_open_access</td>\n",
       "      <td>2018</td>\n",
       "      <td>1053-8119</td>\n",
       "      <td>NeuroImage</td>\n",
       "      <td>28</td>\n",
       "      <td>NaN</td>\n",
       "      <td>Journals Electronic Subscriptions</td>\n",
       "    </tr>\n",
       "  </tbody>\n",
       "</table>\n",
       "</div>"
      ],
      "text/plain": [
       "                                      account_name account_number         ecr     sis         entitlement  year       issn                          journal_title   fta Vendor Part Number (ISSN)               Product Line Level 2\n",
       "0                   Gyeongsang National University     C000019138  ECR-136936  136936  subject_collection  2018  0981-9428      Plant Physiology and Biochemistry  1019                       NaN  Journals Electronic Subscriptions\n",
       "1                             University of Málaga     C000032799    ECR-2195    2195  freedom_collection  2018  1053-8119                             NeuroImage   692                       NaN  Journals Electronic Subscriptions\n",
       "2                              Walailak University     C000054431         NaN  404797  freedom_collection  2018  0981-9428      Plant Physiology and Biochemistry   140                       NaN  Journals Electronic Subscriptions\n",
       "3  BS - The Copenhagen Business School Library CBS     C000033618         NaN  246661  freedom_collection  2018  0748-7983  European Journal of Surgical Oncology    36                       NaN  Journals Electronic Subscriptions\n",
       "4           Indian Institute of Technology Jodhpur     C000117573  ECR-735166  735166    gold_open_access  2018  1053-8119                             NeuroImage    28                       NaN  Journals Electronic Subscriptions"
      ]
     },
     "execution_count": 103,
     "metadata": {},
     "output_type": "execute_result"
    }
   ],
   "source": [
    "usage_per_jnl_act.head()"
   ]
  },
  {
   "cell_type": "code",
   "execution_count": 104,
   "metadata": {},
   "outputs": [],
   "source": [
    "# Aggregate usage at product level 2"
   ]
  },
  {
   "cell_type": "code",
   "execution_count": 105,
   "metadata": {},
   "outputs": [],
   "source": [
    "usage_total = usage_per_jnl_act.groupby(['ecr', 'Product Line Level 2', 'year']).agg(usage = ('fta', sum))"
   ]
  },
  {
   "cell_type": "code",
   "execution_count": 106,
   "metadata": {},
   "outputs": [],
   "source": [
    "usage_total = pd.pivot_table(usage_total, \n",
    "                       index=['ecr','Product Line Level 2'], \n",
    "                       columns=['year'], \n",
    "                       values=['usage'], \n",
    "                       aggfunc=sum, fill_value=0, margins=False)\n",
    "\n",
    "usage_total.reset_index(inplace=True)\n",
    "\n",
    "usage_total.columns = pd.Index([(e[0] if not e[1] else e[1]) for e in usage_total.columns.tolist()])"
   ]
  },
  {
   "cell_type": "code",
   "execution_count": 107,
   "metadata": {},
   "outputs": [
    {
     "data": {
      "text/html": [
       "<div>\n",
       "<style scoped>\n",
       "    .dataframe tbody tr th:only-of-type {\n",
       "        vertical-align: middle;\n",
       "    }\n",
       "\n",
       "    .dataframe tbody tr th {\n",
       "        vertical-align: top;\n",
       "    }\n",
       "\n",
       "    .dataframe thead th {\n",
       "        text-align: right;\n",
       "    }\n",
       "</style>\n",
       "<table border=\"1\" class=\"dataframe\">\n",
       "  <thead>\n",
       "    <tr style=\"text-align: right;\">\n",
       "      <th></th>\n",
       "      <th>ecr</th>\n",
       "      <th>Product Line Level 2</th>\n",
       "      <th>2013</th>\n",
       "      <th>2014</th>\n",
       "      <th>2015</th>\n",
       "      <th>2016</th>\n",
       "      <th>2017</th>\n",
       "      <th>2018</th>\n",
       "    </tr>\n",
       "  </thead>\n",
       "  <tbody>\n",
       "    <tr>\n",
       "      <th>0</th>\n",
       "      <td>ECR-1</td>\n",
       "      <td>Journal Level Sales</td>\n",
       "      <td>751</td>\n",
       "      <td>902</td>\n",
       "      <td>1428</td>\n",
       "      <td>722</td>\n",
       "      <td>1242</td>\n",
       "      <td>941</td>\n",
       "    </tr>\n",
       "    <tr>\n",
       "      <th>1</th>\n",
       "      <td>ECR-1</td>\n",
       "      <td>Journals Electronic Subscriptions</td>\n",
       "      <td>99500</td>\n",
       "      <td>100664</td>\n",
       "      <td>106520</td>\n",
       "      <td>56687</td>\n",
       "      <td>85358</td>\n",
       "      <td>59515</td>\n",
       "    </tr>\n",
       "    <tr>\n",
       "      <th>2</th>\n",
       "      <td>ECR-1000</td>\n",
       "      <td>Journal Level Sales</td>\n",
       "      <td>2642</td>\n",
       "      <td>3781</td>\n",
       "      <td>4511</td>\n",
       "      <td>5943</td>\n",
       "      <td>6115</td>\n",
       "      <td>8232</td>\n",
       "    </tr>\n",
       "    <tr>\n",
       "      <th>3</th>\n",
       "      <td>ECR-1000</td>\n",
       "      <td>Journals Electronic Subscriptions</td>\n",
       "      <td>152884</td>\n",
       "      <td>191022</td>\n",
       "      <td>206858</td>\n",
       "      <td>218457</td>\n",
       "      <td>211762</td>\n",
       "      <td>242622</td>\n",
       "    </tr>\n",
       "    <tr>\n",
       "      <th>4</th>\n",
       "      <td>ECR-10000212</td>\n",
       "      <td>Journal Level Sales</td>\n",
       "      <td>0</td>\n",
       "      <td>0</td>\n",
       "      <td>0</td>\n",
       "      <td>0</td>\n",
       "      <td>0</td>\n",
       "      <td>21</td>\n",
       "    </tr>\n",
       "    <tr>\n",
       "      <th>...</th>\n",
       "      <td>...</td>\n",
       "      <td>...</td>\n",
       "      <td>...</td>\n",
       "      <td>...</td>\n",
       "      <td>...</td>\n",
       "      <td>...</td>\n",
       "      <td>...</td>\n",
       "      <td>...</td>\n",
       "    </tr>\n",
       "    <tr>\n",
       "      <th>35759</th>\n",
       "      <td>ECR-986</td>\n",
       "      <td>Journals Electronic Subscriptions</td>\n",
       "      <td>344637</td>\n",
       "      <td>374811</td>\n",
       "      <td>526989</td>\n",
       "      <td>474289</td>\n",
       "      <td>482704</td>\n",
       "      <td>579983</td>\n",
       "    </tr>\n",
       "    <tr>\n",
       "      <th>35760</th>\n",
       "      <td>ECR-992</td>\n",
       "      <td>Journal Level Sales</td>\n",
       "      <td>4721</td>\n",
       "      <td>5029</td>\n",
       "      <td>2824</td>\n",
       "      <td>3865</td>\n",
       "      <td>3425</td>\n",
       "      <td>4724</td>\n",
       "    </tr>\n",
       "    <tr>\n",
       "      <th>35761</th>\n",
       "      <td>ECR-992</td>\n",
       "      <td>Journals Electronic Subscriptions</td>\n",
       "      <td>153011</td>\n",
       "      <td>157788</td>\n",
       "      <td>158612</td>\n",
       "      <td>171516</td>\n",
       "      <td>160771</td>\n",
       "      <td>196122</td>\n",
       "    </tr>\n",
       "    <tr>\n",
       "      <th>35762</th>\n",
       "      <td>ECR-994</td>\n",
       "      <td>Journal Level Sales</td>\n",
       "      <td>345</td>\n",
       "      <td>260</td>\n",
       "      <td>290</td>\n",
       "      <td>462</td>\n",
       "      <td>501</td>\n",
       "      <td>976</td>\n",
       "    </tr>\n",
       "    <tr>\n",
       "      <th>35763</th>\n",
       "      <td>ECR-994</td>\n",
       "      <td>Journals Electronic Subscriptions</td>\n",
       "      <td>4728</td>\n",
       "      <td>5434</td>\n",
       "      <td>7983</td>\n",
       "      <td>10472</td>\n",
       "      <td>13111</td>\n",
       "      <td>14537</td>\n",
       "    </tr>\n",
       "  </tbody>\n",
       "</table>\n",
       "<p>35764 rows × 8 columns</p>\n",
       "</div>"
      ],
      "text/plain": [
       "                ecr               Product Line Level 2    2013    2014    2015    2016    2017    2018\n",
       "0             ECR-1                Journal Level Sales     751     902    1428     722    1242     941\n",
       "1             ECR-1  Journals Electronic Subscriptions   99500  100664  106520   56687   85358   59515\n",
       "2          ECR-1000                Journal Level Sales    2642    3781    4511    5943    6115    8232\n",
       "3          ECR-1000  Journals Electronic Subscriptions  152884  191022  206858  218457  211762  242622\n",
       "4      ECR-10000212                Journal Level Sales       0       0       0       0       0      21\n",
       "...             ...                                ...     ...     ...     ...     ...     ...     ...\n",
       "35759       ECR-986  Journals Electronic Subscriptions  344637  374811  526989  474289  482704  579983\n",
       "35760       ECR-992                Journal Level Sales    4721    5029    2824    3865    3425    4724\n",
       "35761       ECR-992  Journals Electronic Subscriptions  153011  157788  158612  171516  160771  196122\n",
       "35762       ECR-994                Journal Level Sales     345     260     290     462     501     976\n",
       "35763       ECR-994  Journals Electronic Subscriptions    4728    5434    7983   10472   13111   14537\n",
       "\n",
       "[35764 rows x 8 columns]"
      ]
     },
     "execution_count": 107,
     "metadata": {},
     "output_type": "execute_result"
    }
   ],
   "source": [
    "usage_total"
   ]
  },
  {
   "cell_type": "code",
   "execution_count": 108,
   "metadata": {},
   "outputs": [
    {
     "name": "stdout",
     "output_type": "stream",
     "text": [
      "INCREASING TREND\n",
      "False    32674\n",
      "True      3090\n",
      "dtype: int64\n",
      "DECREASING TREND\n",
      "True     34619\n",
      "False     1145\n",
      "dtype: int64\n"
     ]
    }
   ],
   "source": [
    "usage_total = get_trend_feature(usage_total, 'jnl_usage_trend', groupcols=['ecr', 'Product Line Level 2'], \n",
    "                      timecols=[2013,2014,2015,2016,2017,2018], prefix='')"
   ]
  },
  {
   "cell_type": "code",
   "execution_count": 109,
   "metadata": {},
   "outputs": [
    {
     "data": {
      "text/html": [
       "<div>\n",
       "<style scoped>\n",
       "    .dataframe tbody tr th:only-of-type {\n",
       "        vertical-align: middle;\n",
       "    }\n",
       "\n",
       "    .dataframe tbody tr th {\n",
       "        vertical-align: top;\n",
       "    }\n",
       "\n",
       "    .dataframe thead th {\n",
       "        text-align: right;\n",
       "    }\n",
       "</style>\n",
       "<table border=\"1\" class=\"dataframe\">\n",
       "  <thead>\n",
       "    <tr style=\"text-align: right;\">\n",
       "      <th></th>\n",
       "      <th>ecr</th>\n",
       "      <th>Product Line Level 2</th>\n",
       "      <th>2013</th>\n",
       "      <th>2014</th>\n",
       "      <th>2015</th>\n",
       "      <th>2016</th>\n",
       "      <th>2017</th>\n",
       "      <th>2018</th>\n",
       "      <th>jnl_usage_trend</th>\n",
       "      <th>3_yr_mean_usage</th>\n",
       "    </tr>\n",
       "  </thead>\n",
       "  <tbody>\n",
       "    <tr>\n",
       "      <th>0</th>\n",
       "      <td>ECR-1</td>\n",
       "      <td>Journal Level Sales</td>\n",
       "      <td>751</td>\n",
       "      <td>902</td>\n",
       "      <td>1428</td>\n",
       "      <td>722</td>\n",
       "      <td>1242</td>\n",
       "      <td>941</td>\n",
       "      <td>updown_trend</td>\n",
       "      <td>988</td>\n",
       "    </tr>\n",
       "    <tr>\n",
       "      <th>1</th>\n",
       "      <td>ECR-1</td>\n",
       "      <td>Journals Electronic Subscriptions</td>\n",
       "      <td>99500</td>\n",
       "      <td>100664</td>\n",
       "      <td>106520</td>\n",
       "      <td>56687</td>\n",
       "      <td>85358</td>\n",
       "      <td>59515</td>\n",
       "      <td>updown_trend</td>\n",
       "      <td>66702</td>\n",
       "    </tr>\n",
       "    <tr>\n",
       "      <th>2</th>\n",
       "      <td>ECR-1000</td>\n",
       "      <td>Journal Level Sales</td>\n",
       "      <td>2642</td>\n",
       "      <td>3781</td>\n",
       "      <td>4511</td>\n",
       "      <td>5943</td>\n",
       "      <td>6115</td>\n",
       "      <td>8232</td>\n",
       "      <td>increasing_trend</td>\n",
       "      <td>7139</td>\n",
       "    </tr>\n",
       "    <tr>\n",
       "      <th>3</th>\n",
       "      <td>ECR-1000</td>\n",
       "      <td>Journals Electronic Subscriptions</td>\n",
       "      <td>152884</td>\n",
       "      <td>191022</td>\n",
       "      <td>206858</td>\n",
       "      <td>218457</td>\n",
       "      <td>211762</td>\n",
       "      <td>242622</td>\n",
       "      <td>updown_trend</td>\n",
       "      <td>228531</td>\n",
       "    </tr>\n",
       "    <tr>\n",
       "      <th>4</th>\n",
       "      <td>ECR-10000212</td>\n",
       "      <td>Journal Level Sales</td>\n",
       "      <td>0</td>\n",
       "      <td>0</td>\n",
       "      <td>0</td>\n",
       "      <td>0</td>\n",
       "      <td>0</td>\n",
       "      <td>21</td>\n",
       "      <td>updown_trend</td>\n",
       "      <td>10</td>\n",
       "    </tr>\n",
       "    <tr>\n",
       "      <th>...</th>\n",
       "      <td>...</td>\n",
       "      <td>...</td>\n",
       "      <td>...</td>\n",
       "      <td>...</td>\n",
       "      <td>...</td>\n",
       "      <td>...</td>\n",
       "      <td>...</td>\n",
       "      <td>...</td>\n",
       "      <td>...</td>\n",
       "      <td>...</td>\n",
       "    </tr>\n",
       "    <tr>\n",
       "      <th>35759</th>\n",
       "      <td>ECR-986</td>\n",
       "      <td>Journals Electronic Subscriptions</td>\n",
       "      <td>344637</td>\n",
       "      <td>374811</td>\n",
       "      <td>526989</td>\n",
       "      <td>474289</td>\n",
       "      <td>482704</td>\n",
       "      <td>579983</td>\n",
       "      <td>updown_trend</td>\n",
       "      <td>529660</td>\n",
       "    </tr>\n",
       "    <tr>\n",
       "      <th>35760</th>\n",
       "      <td>ECR-992</td>\n",
       "      <td>Journal Level Sales</td>\n",
       "      <td>4721</td>\n",
       "      <td>5029</td>\n",
       "      <td>2824</td>\n",
       "      <td>3865</td>\n",
       "      <td>3425</td>\n",
       "      <td>4724</td>\n",
       "      <td>updown_trend</td>\n",
       "      <td>4162</td>\n",
       "    </tr>\n",
       "    <tr>\n",
       "      <th>35761</th>\n",
       "      <td>ECR-992</td>\n",
       "      <td>Journals Electronic Subscriptions</td>\n",
       "      <td>153011</td>\n",
       "      <td>157788</td>\n",
       "      <td>158612</td>\n",
       "      <td>171516</td>\n",
       "      <td>160771</td>\n",
       "      <td>196122</td>\n",
       "      <td>updown_trend</td>\n",
       "      <td>180596</td>\n",
       "    </tr>\n",
       "    <tr>\n",
       "      <th>35762</th>\n",
       "      <td>ECR-994</td>\n",
       "      <td>Journal Level Sales</td>\n",
       "      <td>345</td>\n",
       "      <td>260</td>\n",
       "      <td>290</td>\n",
       "      <td>462</td>\n",
       "      <td>501</td>\n",
       "      <td>976</td>\n",
       "      <td>updown_trend</td>\n",
       "      <td>731</td>\n",
       "    </tr>\n",
       "    <tr>\n",
       "      <th>35763</th>\n",
       "      <td>ECR-994</td>\n",
       "      <td>Journals Electronic Subscriptions</td>\n",
       "      <td>4728</td>\n",
       "      <td>5434</td>\n",
       "      <td>7983</td>\n",
       "      <td>10472</td>\n",
       "      <td>13111</td>\n",
       "      <td>14537</td>\n",
       "      <td>increasing_trend</td>\n",
       "      <td>13296</td>\n",
       "    </tr>\n",
       "  </tbody>\n",
       "</table>\n",
       "<p>35764 rows × 10 columns</p>\n",
       "</div>"
      ],
      "text/plain": [
       "                ecr               Product Line Level 2    2013    2014    2015    2016    2017    2018   jnl_usage_trend  3_yr_mean_usage\n",
       "0             ECR-1                Journal Level Sales     751     902    1428     722    1242     941      updown_trend              988\n",
       "1             ECR-1  Journals Electronic Subscriptions   99500  100664  106520   56687   85358   59515      updown_trend            66702\n",
       "2          ECR-1000                Journal Level Sales    2642    3781    4511    5943    6115    8232  increasing_trend             7139\n",
       "3          ECR-1000  Journals Electronic Subscriptions  152884  191022  206858  218457  211762  242622      updown_trend           228531\n",
       "4      ECR-10000212                Journal Level Sales       0       0       0       0       0      21      updown_trend               10\n",
       "...             ...                                ...     ...     ...     ...     ...     ...     ...               ...              ...\n",
       "35759       ECR-986  Journals Electronic Subscriptions  344637  374811  526989  474289  482704  579983      updown_trend           529660\n",
       "35760       ECR-992                Journal Level Sales    4721    5029    2824    3865    3425    4724      updown_trend             4162\n",
       "35761       ECR-992  Journals Electronic Subscriptions  153011  157788  158612  171516  160771  196122      updown_trend           180596\n",
       "35762       ECR-994                Journal Level Sales     345     260     290     462     501     976      updown_trend              731\n",
       "35763       ECR-994  Journals Electronic Subscriptions    4728    5434    7983   10472   13111   14537  increasing_trend            13296\n",
       "\n",
       "[35764 rows x 10 columns]"
      ]
     },
     "execution_count": 109,
     "metadata": {},
     "output_type": "execute_result"
    }
   ],
   "source": [
    "pd.set_option('display.float_format', lambda x: '%.0f' % x)\n",
    "# Weighted average usage over three years with latest year having highest weight\n",
    "usage_total['3_yr_mean_usage'] = usage_total[2016]*0.2 + usage_total[2017]*0.3 + usage_total[2018]*0.5\n",
    "\n",
    "usage_total"
   ]
  },
  {
   "cell_type": "code",
   "execution_count": null,
   "metadata": {},
   "outputs": [],
   "source": []
  },
  {
   "cell_type": "code",
   "execution_count": 110,
   "metadata": {},
   "outputs": [],
   "source": [
    "usage_total['3_yr_usg_change_pct'] = usage_total.apply(lambda x: pct_change(x, 2016, 2018), axis=1)"
   ]
  },
  {
   "cell_type": "code",
   "execution_count": 111,
   "metadata": {},
   "outputs": [
    {
     "data": {
      "text/html": [
       "<div>\n",
       "<style scoped>\n",
       "    .dataframe tbody tr th:only-of-type {\n",
       "        vertical-align: middle;\n",
       "    }\n",
       "\n",
       "    .dataframe tbody tr th {\n",
       "        vertical-align: top;\n",
       "    }\n",
       "\n",
       "    .dataframe thead th {\n",
       "        text-align: right;\n",
       "    }\n",
       "</style>\n",
       "<table border=\"1\" class=\"dataframe\">\n",
       "  <thead>\n",
       "    <tr style=\"text-align: right;\">\n",
       "      <th></th>\n",
       "      <th>ecr</th>\n",
       "      <th>Product Line Level 2</th>\n",
       "      <th>2013</th>\n",
       "      <th>2014</th>\n",
       "      <th>2015</th>\n",
       "      <th>2016</th>\n",
       "      <th>2017</th>\n",
       "      <th>2018</th>\n",
       "      <th>jnl_usage_trend</th>\n",
       "      <th>3_yr_mean_usage</th>\n",
       "      <th>3_yr_usg_change_pct</th>\n",
       "    </tr>\n",
       "  </thead>\n",
       "  <tbody>\n",
       "    <tr>\n",
       "      <th>0</th>\n",
       "      <td>ECR-1</td>\n",
       "      <td>Journal Level Sales</td>\n",
       "      <td>751</td>\n",
       "      <td>902</td>\n",
       "      <td>1428</td>\n",
       "      <td>722</td>\n",
       "      <td>1242</td>\n",
       "      <td>941</td>\n",
       "      <td>updown_trend</td>\n",
       "      <td>988</td>\n",
       "      <td>30</td>\n",
       "    </tr>\n",
       "    <tr>\n",
       "      <th>1</th>\n",
       "      <td>ECR-1</td>\n",
       "      <td>Journals Electronic Subscriptions</td>\n",
       "      <td>99500</td>\n",
       "      <td>100664</td>\n",
       "      <td>106520</td>\n",
       "      <td>56687</td>\n",
       "      <td>85358</td>\n",
       "      <td>59515</td>\n",
       "      <td>updown_trend</td>\n",
       "      <td>66702</td>\n",
       "      <td>5</td>\n",
       "    </tr>\n",
       "    <tr>\n",
       "      <th>2</th>\n",
       "      <td>ECR-1000</td>\n",
       "      <td>Journal Level Sales</td>\n",
       "      <td>2642</td>\n",
       "      <td>3781</td>\n",
       "      <td>4511</td>\n",
       "      <td>5943</td>\n",
       "      <td>6115</td>\n",
       "      <td>8232</td>\n",
       "      <td>increasing_trend</td>\n",
       "      <td>7139</td>\n",
       "      <td>39</td>\n",
       "    </tr>\n",
       "    <tr>\n",
       "      <th>3</th>\n",
       "      <td>ECR-1000</td>\n",
       "      <td>Journals Electronic Subscriptions</td>\n",
       "      <td>152884</td>\n",
       "      <td>191022</td>\n",
       "      <td>206858</td>\n",
       "      <td>218457</td>\n",
       "      <td>211762</td>\n",
       "      <td>242622</td>\n",
       "      <td>updown_trend</td>\n",
       "      <td>228531</td>\n",
       "      <td>11</td>\n",
       "    </tr>\n",
       "    <tr>\n",
       "      <th>4</th>\n",
       "      <td>ECR-10000212</td>\n",
       "      <td>Journal Level Sales</td>\n",
       "      <td>0</td>\n",
       "      <td>0</td>\n",
       "      <td>0</td>\n",
       "      <td>0</td>\n",
       "      <td>0</td>\n",
       "      <td>21</td>\n",
       "      <td>updown_trend</td>\n",
       "      <td>10</td>\n",
       "      <td>21</td>\n",
       "    </tr>\n",
       "    <tr>\n",
       "      <th>...</th>\n",
       "      <td>...</td>\n",
       "      <td>...</td>\n",
       "      <td>...</td>\n",
       "      <td>...</td>\n",
       "      <td>...</td>\n",
       "      <td>...</td>\n",
       "      <td>...</td>\n",
       "      <td>...</td>\n",
       "      <td>...</td>\n",
       "      <td>...</td>\n",
       "      <td>...</td>\n",
       "    </tr>\n",
       "    <tr>\n",
       "      <th>35759</th>\n",
       "      <td>ECR-986</td>\n",
       "      <td>Journals Electronic Subscriptions</td>\n",
       "      <td>344637</td>\n",
       "      <td>374811</td>\n",
       "      <td>526989</td>\n",
       "      <td>474289</td>\n",
       "      <td>482704</td>\n",
       "      <td>579983</td>\n",
       "      <td>updown_trend</td>\n",
       "      <td>529660</td>\n",
       "      <td>22</td>\n",
       "    </tr>\n",
       "    <tr>\n",
       "      <th>35760</th>\n",
       "      <td>ECR-992</td>\n",
       "      <td>Journal Level Sales</td>\n",
       "      <td>4721</td>\n",
       "      <td>5029</td>\n",
       "      <td>2824</td>\n",
       "      <td>3865</td>\n",
       "      <td>3425</td>\n",
       "      <td>4724</td>\n",
       "      <td>updown_trend</td>\n",
       "      <td>4162</td>\n",
       "      <td>22</td>\n",
       "    </tr>\n",
       "    <tr>\n",
       "      <th>35761</th>\n",
       "      <td>ECR-992</td>\n",
       "      <td>Journals Electronic Subscriptions</td>\n",
       "      <td>153011</td>\n",
       "      <td>157788</td>\n",
       "      <td>158612</td>\n",
       "      <td>171516</td>\n",
       "      <td>160771</td>\n",
       "      <td>196122</td>\n",
       "      <td>updown_trend</td>\n",
       "      <td>180596</td>\n",
       "      <td>14</td>\n",
       "    </tr>\n",
       "    <tr>\n",
       "      <th>35762</th>\n",
       "      <td>ECR-994</td>\n",
       "      <td>Journal Level Sales</td>\n",
       "      <td>345</td>\n",
       "      <td>260</td>\n",
       "      <td>290</td>\n",
       "      <td>462</td>\n",
       "      <td>501</td>\n",
       "      <td>976</td>\n",
       "      <td>updown_trend</td>\n",
       "      <td>731</td>\n",
       "      <td>111</td>\n",
       "    </tr>\n",
       "    <tr>\n",
       "      <th>35763</th>\n",
       "      <td>ECR-994</td>\n",
       "      <td>Journals Electronic Subscriptions</td>\n",
       "      <td>4728</td>\n",
       "      <td>5434</td>\n",
       "      <td>7983</td>\n",
       "      <td>10472</td>\n",
       "      <td>13111</td>\n",
       "      <td>14537</td>\n",
       "      <td>increasing_trend</td>\n",
       "      <td>13296</td>\n",
       "      <td>39</td>\n",
       "    </tr>\n",
       "  </tbody>\n",
       "</table>\n",
       "<p>35764 rows × 11 columns</p>\n",
       "</div>"
      ],
      "text/plain": [
       "                ecr               Product Line Level 2    2013    2014    2015    2016    2017    2018   jnl_usage_trend  3_yr_mean_usage  3_yr_usg_change_pct\n",
       "0             ECR-1                Journal Level Sales     751     902    1428     722    1242     941      updown_trend              988                   30\n",
       "1             ECR-1  Journals Electronic Subscriptions   99500  100664  106520   56687   85358   59515      updown_trend            66702                    5\n",
       "2          ECR-1000                Journal Level Sales    2642    3781    4511    5943    6115    8232  increasing_trend             7139                   39\n",
       "3          ECR-1000  Journals Electronic Subscriptions  152884  191022  206858  218457  211762  242622      updown_trend           228531                   11\n",
       "4      ECR-10000212                Journal Level Sales       0       0       0       0       0      21      updown_trend               10                   21\n",
       "...             ...                                ...     ...     ...     ...     ...     ...     ...               ...              ...                  ...\n",
       "35759       ECR-986  Journals Electronic Subscriptions  344637  374811  526989  474289  482704  579983      updown_trend           529660                   22\n",
       "35760       ECR-992                Journal Level Sales    4721    5029    2824    3865    3425    4724      updown_trend             4162                   22\n",
       "35761       ECR-992  Journals Electronic Subscriptions  153011  157788  158612  171516  160771  196122      updown_trend           180596                   14\n",
       "35762       ECR-994                Journal Level Sales     345     260     290     462     501     976      updown_trend              731                  111\n",
       "35763       ECR-994  Journals Electronic Subscriptions    4728    5434    7983   10472   13111   14537  increasing_trend            13296                   39\n",
       "\n",
       "[35764 rows x 11 columns]"
      ]
     },
     "execution_count": 111,
     "metadata": {},
     "output_type": "execute_result"
    }
   ],
   "source": [
    "usage_total"
   ]
  },
  {
   "cell_type": "code",
   "execution_count": 112,
   "metadata": {},
   "outputs": [
    {
     "data": {
      "text/plain": [
       "-99.99578818163768"
      ]
     },
     "execution_count": 112,
     "metadata": {},
     "output_type": "execute_result"
    }
   ],
   "source": [
    "### bucket percent change\n",
    "min(usage_total['3_yr_usg_change_pct'])\n"
   ]
  },
  {
   "cell_type": "code",
   "execution_count": 113,
   "metadata": {},
   "outputs": [
    {
     "data": {
      "text/plain": [
       "2153566.6666666665"
      ]
     },
     "execution_count": 113,
     "metadata": {},
     "output_type": "execute_result"
    }
   ],
   "source": [
    "max(usage_total['3_yr_usg_change_pct'])"
   ]
  },
  {
   "cell_type": "code",
   "execution_count": 114,
   "metadata": {},
   "outputs": [],
   "source": [
    "usage_total['3_yr_usg_change'] = pd.cut(usage_total['3_yr_usg_change_pct'],\n",
    "       bins=[min(usage_total['3_yr_usg_change_pct']),\n",
    "             -75,-50,-25,0,25,50, 75,\n",
    "             max(usage_total['3_yr_usg_change_pct'])],\n",
    "                                        labels=['over_75pc_usg_dec', 'over_50pc_usg_dec', \n",
    "                                                                  'over_25pc_usg_dec', 'less_25pc_usg_dec', \n",
    "                                                                  'less_25pc_usg_inc', 'over_25pc_usg_inc', \n",
    "                                                                  'over_50pc_usg_inc', 'over_75pc_usg_inc'])"
   ]
  },
  {
   "cell_type": "code",
   "execution_count": 115,
   "metadata": {},
   "outputs": [
    {
     "data": {
      "text/plain": [
       "over_75pc_usg_inc    9545\n",
       "less_25pc_usg_dec    7718\n",
       "less_25pc_usg_inc    7017\n",
       "over_25pc_usg_inc    3788\n",
       "over_50pc_usg_inc    2353\n",
       "over_25pc_usg_dec    2068\n",
       "over_50pc_usg_dec    1698\n",
       "over_75pc_usg_dec    1576\n",
       "Name: 3_yr_usg_change, dtype: int64"
      ]
     },
     "execution_count": 115,
     "metadata": {},
     "output_type": "execute_result"
    }
   ],
   "source": [
    "usage_total['3_yr_usg_change'].value_counts()"
   ]
  },
  {
   "cell_type": "code",
   "execution_count": 123,
   "metadata": {},
   "outputs": [
    {
     "data": {
      "text/html": [
       "<div>\n",
       "<style scoped>\n",
       "    .dataframe tbody tr th:only-of-type {\n",
       "        vertical-align: middle;\n",
       "    }\n",
       "\n",
       "    .dataframe tbody tr th {\n",
       "        vertical-align: top;\n",
       "    }\n",
       "\n",
       "    .dataframe thead th {\n",
       "        text-align: right;\n",
       "    }\n",
       "</style>\n",
       "<table border=\"1\" class=\"dataframe\">\n",
       "  <thead>\n",
       "    <tr style=\"text-align: right;\">\n",
       "      <th></th>\n",
       "      <th>ecr</th>\n",
       "      <th>Product Line Level 2</th>\n",
       "      <th>2013</th>\n",
       "      <th>2014</th>\n",
       "      <th>2015</th>\n",
       "      <th>2016</th>\n",
       "      <th>2017</th>\n",
       "      <th>2018</th>\n",
       "      <th>jnl_usage_trend</th>\n",
       "      <th>3_yr_mean_usage</th>\n",
       "      <th>3_yr_usg_change_pct</th>\n",
       "      <th>3_yr_usg_change</th>\n",
       "    </tr>\n",
       "  </thead>\n",
       "  <tbody>\n",
       "    <tr>\n",
       "      <th>0</th>\n",
       "      <td>ECR-1</td>\n",
       "      <td>Journal Level Sales</td>\n",
       "      <td>751</td>\n",
       "      <td>902</td>\n",
       "      <td>1428</td>\n",
       "      <td>722</td>\n",
       "      <td>1242</td>\n",
       "      <td>941</td>\n",
       "      <td>updown_trend</td>\n",
       "      <td>988</td>\n",
       "      <td>30</td>\n",
       "      <td>over_25pc_usg_inc</td>\n",
       "    </tr>\n",
       "    <tr>\n",
       "      <th>1</th>\n",
       "      <td>ECR-1</td>\n",
       "      <td>Journals Electronic Subscriptions</td>\n",
       "      <td>99500</td>\n",
       "      <td>100664</td>\n",
       "      <td>106520</td>\n",
       "      <td>56687</td>\n",
       "      <td>85358</td>\n",
       "      <td>59515</td>\n",
       "      <td>updown_trend</td>\n",
       "      <td>66702</td>\n",
       "      <td>5</td>\n",
       "      <td>less_25pc_usg_inc</td>\n",
       "    </tr>\n",
       "    <tr>\n",
       "      <th>2</th>\n",
       "      <td>ECR-1000</td>\n",
       "      <td>Journal Level Sales</td>\n",
       "      <td>2642</td>\n",
       "      <td>3781</td>\n",
       "      <td>4511</td>\n",
       "      <td>5943</td>\n",
       "      <td>6115</td>\n",
       "      <td>8232</td>\n",
       "      <td>increasing_trend</td>\n",
       "      <td>7139</td>\n",
       "      <td>39</td>\n",
       "      <td>over_25pc_usg_inc</td>\n",
       "    </tr>\n",
       "    <tr>\n",
       "      <th>3</th>\n",
       "      <td>ECR-1000</td>\n",
       "      <td>Journals Electronic Subscriptions</td>\n",
       "      <td>152884</td>\n",
       "      <td>191022</td>\n",
       "      <td>206858</td>\n",
       "      <td>218457</td>\n",
       "      <td>211762</td>\n",
       "      <td>242622</td>\n",
       "      <td>updown_trend</td>\n",
       "      <td>228531</td>\n",
       "      <td>11</td>\n",
       "      <td>less_25pc_usg_inc</td>\n",
       "    </tr>\n",
       "    <tr>\n",
       "      <th>4</th>\n",
       "      <td>ECR-10000212</td>\n",
       "      <td>Journal Level Sales</td>\n",
       "      <td>0</td>\n",
       "      <td>0</td>\n",
       "      <td>0</td>\n",
       "      <td>0</td>\n",
       "      <td>0</td>\n",
       "      <td>21</td>\n",
       "      <td>updown_trend</td>\n",
       "      <td>10</td>\n",
       "      <td>21</td>\n",
       "      <td>less_25pc_usg_inc</td>\n",
       "    </tr>\n",
       "  </tbody>\n",
       "</table>\n",
       "</div>"
      ],
      "text/plain": [
       "            ecr               Product Line Level 2    2013    2014    2015    2016    2017    2018   jnl_usage_trend  3_yr_mean_usage  3_yr_usg_change_pct    3_yr_usg_change\n",
       "0         ECR-1                Journal Level Sales     751     902    1428     722    1242     941      updown_trend              988                   30  over_25pc_usg_inc\n",
       "1         ECR-1  Journals Electronic Subscriptions   99500  100664  106520   56687   85358   59515      updown_trend            66702                    5  less_25pc_usg_inc\n",
       "2      ECR-1000                Journal Level Sales    2642    3781    4511    5943    6115    8232  increasing_trend             7139                   39  over_25pc_usg_inc\n",
       "3      ECR-1000  Journals Electronic Subscriptions  152884  191022  206858  218457  211762  242622      updown_trend           228531                   11  less_25pc_usg_inc\n",
       "4  ECR-10000212                Journal Level Sales       0       0       0       0       0      21      updown_trend               10                   21  less_25pc_usg_inc"
      ]
     },
     "execution_count": 123,
     "metadata": {},
     "output_type": "execute_result"
    }
   ],
   "source": [
    "usage_total.head()"
   ]
  },
  {
   "cell_type": "code",
   "execution_count": 385,
   "metadata": {},
   "outputs": [],
   "source": [
    "# you might experience some issue saving to HDF in that case we save this data set to pickle, but ideal to keep it in HDF store"
   ]
  },
  {
   "cell_type": "code",
   "execution_count": 117,
   "metadata": {},
   "outputs": [],
   "source": [
    "usage_total.to_pickle('../data/hdf/sd_cust_prod_usage.pickle')"
   ]
  },
  {
   "cell_type": "code",
   "execution_count": 120,
   "metadata": {},
   "outputs": [],
   "source": [
    "usage_total['3_yr_usg_change'] = usage_total['3_yr_usg_change'].astype(str)"
   ]
  },
  {
   "cell_type": "code",
   "execution_count": 121,
   "metadata": {},
   "outputs": [
    {
     "data": {
      "text/plain": [
       "ecr                      object\n",
       "Product Line Level 2     object\n",
       "2013                      int64\n",
       "2014                      int64\n",
       "2015                      int64\n",
       "2016                      int64\n",
       "2017                      int64\n",
       "2018                      int64\n",
       "jnl_usage_trend          object\n",
       "3_yr_mean_usage         float64\n",
       "3_yr_usg_change_pct     float64\n",
       "3_yr_usg_change          object\n",
       "dtype: object"
      ]
     },
     "execution_count": 121,
     "metadata": {},
     "output_type": "execute_result"
    }
   ],
   "source": [
    "usage_total.dtypes"
   ]
  },
  {
   "cell_type": "code",
   "execution_count": 122,
   "metadata": {},
   "outputs": [
    {
     "name": "stderr",
     "output_type": "stream",
     "text": [
      "C:\\Users\\DHURIS\\.virtualenvs\\rss-customer-churn-B66CRNaT\\lib\\site-packages\\pandas\\io\\pytables.py:282: PerformanceWarning: \n",
      "your performance may suffer as PyTables will pickle object types that it cannot\n",
      "map directly to c-types [inferred_type->integer,key->block1_items] [items->None]\n",
      "\n",
      "  f(store)\n"
     ]
    }
   ],
   "source": [
    "usage_total.to_hdf(path_to_hdf_datastore, key='sd_cust_prod_usage')"
   ]
  }
 ],
 "metadata": {
  "kernelspec": {
   "display_name": "Python 3",
   "language": "python",
   "name": "python3"
  },
  "language_info": {
   "codemirror_mode": {
    "name": "ipython",
    "version": 3
   },
   "file_extension": ".py",
   "mimetype": "text/x-python",
   "name": "python",
   "nbconvert_exporter": "python",
   "pygments_lexer": "ipython3",
   "version": "3.8.1"
  }
 },
 "nbformat": 4,
 "nbformat_minor": 4
}
